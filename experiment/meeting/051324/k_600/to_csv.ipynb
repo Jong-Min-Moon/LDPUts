{
 "cells": [
  {
   "cell_type": "code",
   "execution_count": 3,
   "metadata": {},
   "outputs": [],
   "source": [
    "import numpy as np\n",
    "import sqlite3\n",
    "from datetime import datetime\n",
    "import pandas as pd\n",
    "con = sqlite3.connect('/Users/jmmoon/Documents/GitHub/LDPUts/experiment/meeting/051324/k_600/051324_LDPUts.db')\n",
    "cursor_db = con.cursor()\n",
    "table_name = \"k600\""
   ]
  },
  {
   "cell_type": "code",
   "execution_count": 4,
   "metadata": {},
   "outputs": [
    {
     "name": "stdout",
     "output_type": "stream",
     "text": [
      "[1.  0.5]\n"
     ]
    },
    {
     "ename": "OperationalError",
     "evalue": "no such table: ldp_disc_basic_comparison",
     "output_type": "error",
     "traceback": [
      "\u001b[0;31m---------------------------------------------------------------------------\u001b[0m",
      "\u001b[0;31mOperationalError\u001b[0m                          Traceback (most recent call last)",
      "Cell \u001b[0;32mIn[4], line 15\u001b[0m\n\u001b[1;32m     13\u001b[0m \u001b[38;5;28mprint\u001b[39m(priv_lev_vec_np)\n\u001b[1;32m     14\u001b[0m \u001b[38;5;28;01mfor\u001b[39;00m priv_lev \u001b[38;5;129;01min\u001b[39;00m priv_lev_vec_np:\n\u001b[0;32m---> 15\u001b[0m \tcursor \u001b[38;5;241m=\u001b[39m \u001b[43mcon\u001b[49m\u001b[38;5;241;43m.\u001b[39;49m\u001b[43mexecute\u001b[49m\u001b[43m(\u001b[49m\n\u001b[1;32m     16\u001b[0m \u001b[38;5;250;43m\t\t\u001b[39;49m\u001b[38;5;124;43;03m\"\"\"\u001b[39;49;00m\n\u001b[1;32m     17\u001b[0m \u001b[38;5;124;43;03m\t\tSELECT\u001b[39;49;00m\n\u001b[1;32m     18\u001b[0m \u001b[38;5;124;43;03m\t\t\tavg(p_val<0.05) as power,\u001b[39;49;00m\n\u001b[1;32m     19\u001b[0m \u001b[38;5;124;43;03m\t\t\tmechanism||statistic as method,\u001b[39;49;00m\n\u001b[1;32m     20\u001b[0m \u001b[38;5;124;43;03m\t\t\tsample_size\u001b[39;49;00m\n\u001b[1;32m     21\u001b[0m \u001b[38;5;124;43;03m\t\tFROM ldp_disc_basic_comparison\u001b[39;49;00m\n\u001b[1;32m     22\u001b[0m \u001b[38;5;124;43;03m\t\tWHERE\u001b[39;49;00m\n\u001b[1;32m     23\u001b[0m \u001b[38;5;124;43;03m\t\t\tdim = ? and\u001b[39;49;00m\n\u001b[1;32m     24\u001b[0m \u001b[38;5;124;43;03m\t\t\tpriv_lev = ?\u001b[39;49;00m\n\u001b[1;32m     25\u001b[0m \u001b[38;5;124;43;03m\t\tGROUP BY statistic, mechanism, sample_size\u001b[39;49;00m\n\u001b[1;32m     26\u001b[0m \u001b[38;5;124;43;03m\t\t\"\"\"\u001b[39;49;00m\u001b[43m,\u001b[49m\n\u001b[1;32m     27\u001b[0m \u001b[43m\t\t\u001b[49m\u001b[43m[\u001b[49m\u001b[43mk\u001b[49m\u001b[43m,\u001b[49m\u001b[43m \u001b[49m\u001b[43mpriv_lev\u001b[49m\u001b[43m]\u001b[49m\u001b[43m)\u001b[49m\n\u001b[1;32m     28\u001b[0m \ttable \u001b[38;5;241m=\u001b[39m cursor\u001b[38;5;241m.\u001b[39mfetchall()\n\u001b[1;32m     29\u001b[0m \ttable_pd \u001b[38;5;241m=\u001b[39m pd\u001b[38;5;241m.\u001b[39mDataFrame(table)\n",
      "\u001b[0;31mOperationalError\u001b[0m: no such table: ldp_disc_basic_comparison"
     ]
    }
   ],
   "source": [
    "cursor_db = con.cursor()\n",
    "for k in [600]:\n",
    "\tcursor = con.execute(\n",
    "\t\tf\"\"\"\n",
    "        SELECT DISTINCT\n",
    "\t        priv_lev\n",
    "        FROM {table_name}\n",
    "        WHERE dim = ?\n",
    "\t\t\"\"\",\n",
    "\t\t[k])\n",
    "\tpriv_lev_vec = cursor.fetchall()\n",
    "\tpriv_lev_vec_np = np.array(priv_lev_vec).flatten()\n",
    "\tprint(priv_lev_vec_np)\n",
    "\tfor priv_lev in priv_lev_vec_np:\n",
    "\t\tcursor = con.execute(\n",
    "\t\t\tf\"\"\"\n",
    "\t\t\tSELECT\n",
    "\t\t\t\tavg(p_val<0.05) as power,\n",
    "\t\t\t\tmechanism||statistic as method,\n",
    "\t\t\t\tsample_size\n",
    "\t\t\tFROM {table_name}\n",
    "\t\t\tWHERE\n",
    "\t\t\t\tdim = ? and\n",
    "\t\t\t\tpriv_lev = ?\n",
    "\t\t\tGROUP BY statistic, mechanism, sample_size\n",
    "\t\t\t\"\"\",\n",
    "\t\t\t[k, priv_lev])\n",
    "\t\ttable = cursor.fetchall()\n",
    "\t\ttable_pd = pd.DataFrame(table)\n",
    "\t\ttable_pd.columns = [\"power\", \"method\", \"n\"]\n",
    "\t\ttable_pd = table_pd.pivot(index= \"n\", columns = \"method\", values = \"power\")\n",
    "\t\ttable_pd.to_csv(\"purturbunif_power_og_k\"+str(k)+ \"_priv\"+ str(int(10*priv_lev)) +\".csv\")\n",
    "\n"
   ]
  }
 ],
 "metadata": {
  "kernelspec": {
   "display_name": "LAPUts",
   "language": "python",
   "name": "python3"
  },
  "language_info": {
   "codemirror_mode": {
    "name": "ipython",
    "version": 3
   },
   "file_extension": ".py",
   "mimetype": "text/x-python",
   "name": "python",
   "nbconvert_exporter": "python",
   "pygments_lexer": "ipython3",
   "version": "3.12.1"
  }
 },
 "nbformat": 4,
 "nbformat_minor": 2
}
