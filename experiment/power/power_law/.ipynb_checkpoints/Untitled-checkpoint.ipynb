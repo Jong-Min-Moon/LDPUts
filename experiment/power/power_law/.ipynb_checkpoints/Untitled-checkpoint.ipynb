{
 "cells": [
  {
   "cell_type": "code",
   "execution_count": 19,
   "id": "parental-representation",
   "metadata": {},
   "outputs": [],
   "source": [
    "import numpy as np\n",
    "from scipy.stats import truncnorm, norm\n",
    "import matplotlib.pyplot as plt\n"
   ]
  },
  {
   "cell_type": "code",
   "execution_count": 21,
   "id": "guilty-reunion",
   "metadata": {},
   "outputs": [],
   "source": [
    "def get_trunc_gaussian_param(alpha, k):\n",
    "    myclip_a = -(k**0.5)/alpha\n",
    "    myclip_b = (k**0.5)/alpha\n",
    "    loc = 0\n",
    "    scale = (2*k)**0.5/alpha\n",
    "    a, b = (myclip_a - loc) / scale, (myclip_b - loc) / scale\n",
    "    return a, b, loc, scale\n",
    "\n",
    "def shrink_factor(alpha,k):\n",
    "    rv = norm()\n",
    "    factor = 2*(k**0.5)/alpha * rv.pdf( (k**0.5)/alpha) / ( rv.cdf(1/(2**0.5)) - rv.cdf(-1/(2**0.5)))\n",
    "    return (1 - factor)"
   ]
  },
  {
   "cell_type": "code",
   "execution_count": 22,
   "id": "intermediate-triple",
   "metadata": {},
   "outputs": [
    {
     "name": "stdout",
     "output_type": "stream",
     "text": [
      "62.331302505670784\n",
      "399.99999999999994\n",
      "1599.9999999999998\n",
      "2.4932521002268313\n",
      "15.130097225285985\n",
      "64.0\n",
      "0.6233130250567078\n",
      "1.8159419623622788\n",
      "16.0\n",
      "0.024932521002268296\n",
      "0.11436722660280119\n",
      "0.64\n"
     ]
    },
    {
     "data": {
      "text/plain": [
       "<matplotlib.legend.Legend at 0x7fe86b326b20>"
      ]
     },
     "execution_count": 22,
     "metadata": {},
     "output_type": "execute_result"
    },
    {
     "data": {
      "image/png": "[encoded data removed]",
      "text/plain": [
       "<Figure size 432x288 with 1 Axes>"
      ]
     },
     "metadata": {
      "needs_background": "light"
     },
     "output_type": "display_data"
    }
   ],
   "source": [
    "fig, ax = plt.subplots(1, 1)\n",
    "\n",
    "alpha_list = [0.1, 0.5, 1, 5]\n",
    "x = np.linspace(-1/alpha_list[0]-1, 1/alpha_list[0]+1, 1000)\n",
    "\n",
    "color_list = [\"red\", \"blue\", \"orange\", \"black\"]\n",
    "k=2\n",
    "for i, alpha in enumerate(alpha_list):\n",
    "    a, b, loc, scale = get_trunc_gaussian_param(alpha, k)\n",
    "    mean, var, skew, kurt = truncnorm.stats(a, b, loc=loc, scale = scale, moments='mvsk')\n",
    "    print(var)\n",
    "    print( 2*k/(alpha**2) * shrink_factor(alpha, k))\n",
    "    print(8*k/(alpha**2))\n",
    "\n",
    "    rv = truncnorm(a, b, loc=loc, scale = scale)\n",
    "    ax.plot(x, rv.pdf(x), 'k-', lw=2, color= color_list[i], label = alpha)\n",
    "ax.set_xlim([-10,10])\n",
    "ax.legend()\n",
    "\n",
    "\n",
    "\n"
   ]
  },
  {
   "cell_type": "code",
   "execution_count": 58,
   "id": "initial-thriller",
   "metadata": {},
   "outputs": [],
   "source": [
    "import torch\n",
    "from torch.nn import init"
   ]
  },
  {
   "cell_type": "code",
   "execution_count": 72,
   "id": "musical-investigator",
   "metadata": {},
   "outputs": [
    {
     "name": "stdout",
     "output_type": "stream",
     "text": [
      "tensor(31.3144)\n",
      "tensor(1.2804)\n",
      "tensor(0.3180)\n",
      "tensor(0.0130)\n"
     ]
    },
    {
     "data": {
      "text/plain": [
       "<matplotlib.legend.Legend at 0x7f3ac0812bb0>"
      ]
     },
     "execution_count": 72,
     "metadata": {},
     "output_type": "execute_result"
    },
    {
     "data": {
      "image/png": "[encoded data removed]",
      "text/plain": [
       "<Figure size 432x288 with 1 Axes>"
      ]
     },
     "metadata": {
      "needs_background": "light"
     },
     "output_type": "display_data"
    }
   ],
   "source": [
    "fig, ax = plt.subplots(1, 1)\n",
    "x = np.linspace(truncnorm.ppf(0.01, -1/0.1-1, 1/0.1+1),\n",
    "                truncnorm.ppf(0.99, -1/0.1-1, 1/0.1+1), 100)\n",
    "\n",
    "alpha_list = [0.1, 0.5, 1, 5]\n",
    "color_list = [\"red\", \"blue\", \"orange\", \"black\"]\n",
    "for i, alpha in enumerate(alpha_list):\n",
    "    w = torch.empty(1, 1000)\n",
    "    w = torch.nn.init.trunc_normal_(w,  mean=0.0, std=(2**0.5)/alpha, a = -1/alpha, b=1/alpha)\n",
    "    print(w.var())\n",
    "    ax.hist(w, density = True, color= color_list[i], label = alpha)\n",
    "ax.legend()\n"
   ]
  },
  {
   "cell_type": "code",
   "execution_count": 21,
   "id": "decent-nevada",
   "metadata": {},
   "outputs": [
    {
     "data": {
      "text/plain": [
       "array(0.33311116)"
      ]
     },
     "execution_count": 21,
     "metadata": {},
     "output_type": "execute_result"
    }
   ],
   "source": []
  },
  {
   "cell_type": "code",
   "execution_count": 81,
   "id": "random-catholic",
   "metadata": {},
   "outputs": [
    {
     "data": {
      "text/plain": [
       "tensor(1.4142)"
      ]
     },
     "execution_count": 81,
     "metadata": {},
     "output_type": "execute_result"
    }
   ],
   "source": [
    "torch.tensor(2).sqrt()"
   ]
  },
  {
   "cell_type": "code",
   "execution_count": null,
   "id": "possible-transsexual",
   "metadata": {},
   "outputs": [],
   "source": []
  }
 ],
 "metadata": {
  "kernelspec": {
   "display_name": "Python 3 (ipykernel)",
   "language": "python",
   "name": "python3"
  },
  "language_info": {
   "codemirror_mode": {
    "name": "ipython",
    "version": 3
   },
   "file_extension": ".py",
   "mimetype": "text/x-python",
   "name": "python",
   "nbconvert_exporter": "python",
   "pygments_lexer": "ipython3",
   "version": "3.8.16"
  }
 },
 "nbformat": 4,
 "nbformat_minor": 5
}
