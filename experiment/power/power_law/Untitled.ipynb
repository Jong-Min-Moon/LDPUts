{
 "cells": [
  {
   "cell_type": "code",
   "execution_count": 19,
   "id": "creative-current",
   "metadata": {},
   "outputs": [],
   "source": [
    "import numpy as np\n",
    "from scipy.stats import truncnorm, norm\n",
    "import matplotlib.pyplot as plt\n"
   ]
  },
  {
   "cell_type": "code",
   "execution_count": 70,
   "id": "warming-livestock",
   "metadata": {},
   "outputs": [],
   "source": [
    "def get_trunc_gaussian_param(alpha, k):\n",
    "    myclip_b = (k**0.5)*(1/alpha - 1/2)\n",
    "    myclip_a = -myclip_b\n",
    "    loc = 0\n",
    "    scale = (2*k)**0.5/alpha\n",
    "    a, b = (myclip_a - loc) / scale, (myclip_b - loc) / scale\n",
    "    return a, b, loc, scale\n",
    "\n",
    "def shrink_factor(alpha):\n",
    "    rv = norm()\n",
    "    c =  (2-alpha) /(2*(2**0.5) )\n",
    "    factor = 2*c * rv.pdf( c) / ( rv.cdf(c) - rv.cdf(-c) )\n",
    "    return (1 - factor)"
   ]
  },
  {
   "cell_type": "code",
   "execution_count": 79,
   "id": "stylish-source",
   "metadata": {},
   "outputs": [
    {
     "data": {
      "text/plain": [
       "0.1415665162740639"
      ]
     },
     "execution_count": 79,
     "metadata": {},
     "output_type": "execute_result"
    }
   ],
   "source": [
    "shrink_factor(0.1)"
   ]
  },
  {
   "cell_type": "code",
   "execution_count": 83,
   "id": "stretch-starter",
   "metadata": {},
   "outputs": [
    {
     "name": "stdout",
     "output_type": "stream",
     "text": [
      "alpha=0.3\n",
      "5.0986063818028615\n",
      "5.098606381802871\n",
      "177.77777777777777\n",
      "34.86791575287594\n",
      "0.1147186435905646\n",
      "alpha=0.5\n",
      "1.444516871363085\n",
      "1.4445168713630867\n",
      "64.0\n",
      "44.305470755497566\n",
      "0.09028230446019292\n",
      "alpha=0.8\n",
      "0.36607804331574223\n",
      "0.36607804331574356\n",
      "24.999999999999996\n",
      "68.29144893138948\n",
      "0.058572486930518974\n",
      "alpha=1\n",
      "0.1639055584566429\n",
      "0.16390555845664379\n",
      "16.0\n",
      "97.61718974425385\n",
      "0.040976389614160946\n",
      "alpha=2\n",
      "nan\n",
      "nan\n",
      "4.0\n",
      "nan\n",
      "nan\n"
     ]
    },
    {
     "name": "stderr",
     "output_type": "stream",
     "text": [
      "<ipython-input-70-a381e606e3c1>:12: RuntimeWarning: invalid value encountered in double_scalars\n",
      "  factor = 2*c * rv.pdf( c) / ( rv.cdf(c) - rv.cdf(-c) )\n"
     ]
    },
    {
     "data": {
      "text/plain": [
       "<matplotlib.legend.Legend at 0x7fe816315130>"
      ]
     },
     "execution_count": 83,
     "metadata": {},
     "output_type": "execute_result"
    },
    {
     "data": {
      "image/png": "[encoded data removed]",
      "text/plain": [
       "<Figure size 432x288 with 1 Axes>"
      ]
     },
     "metadata": {
      "needs_background": "light"
     },
     "output_type": "display_data"
    }
   ],
   "source": [
    "fig, ax = plt.subplots(1, 1)\n",
    "\n",
    "alpha_list = [0.3, 0.5, 0.8, 1, 2]\n",
    "x = np.linspace(-1/alpha_list[0]-1, 1/alpha_list[0]+1, 1000)\n",
    "\n",
    "color_list = [\"red\", \"blue\", \"orange\", \"black\",  \"black\",  \"black\",  \"black\"]\n",
    "k=2\n",
    "for i, alpha in enumerate(alpha_list):\n",
    "    a, b, loc, scale = get_trunc_gaussian_param(alpha, k)\n",
    "    mean, var, skew, kurt = truncnorm.stats(a, b, loc=loc, scale = scale, moments='mvsk')\n",
    "    print(f\"alpha={alpha}\")\n",
    "    print(var)\n",
    "    print( 2*k/(alpha**2) * shrink_factor(alpha))\n",
    "    print(8*k/(alpha**2))\n",
    "    print(8*k/(alpha**2)/var)\n",
    "    print( shrink_factor(alpha))\n",
    "    rv = truncnorm(a, b, loc=loc, scale = scale)\n",
    "    ax.plot(x, rv.pdf(x), 'k-', lw=2, color= color_list[i], label = alpha)\n",
    "ax.set_xlim([-10,10])\n",
    "ax.legend()\n",
    "\n",
    "\n",
    "\n"
   ]
  },
  {
   "cell_type": "code",
   "execution_count": 37,
   "id": "urban-taiwan",
   "metadata": {},
   "outputs": [],
   "source": [
    "import torch\n",
    "from torch.nn import init"
   ]
  },
  {
   "cell_type": "code",
   "execution_count": 82,
   "id": "forty-question",
   "metadata": {},
   "outputs": [
    {
     "name": "stdout",
     "output_type": "stream",
     "text": [
      "tensor(5.2431)\n",
      "tensor(1.3991)\n",
      "tensor(0.3620)\n",
      "tensor(0.1590)\n",
      "tensor(0.)\n"
     ]
    },
    {
     "data": {
      "text/plain": [
       "<matplotlib.legend.Legend at 0x7fe8162728b0>"
      ]
     },
     "execution_count": 82,
     "metadata": {},
     "output_type": "execute_result"
    },
    {
     "data": {
      "image/png": "[encoded data removed]",
      "text/plain": [
       "<Figure size 432x288 with 1 Axes>"
      ]
     },
     "metadata": {
      "needs_background": "light"
     },
     "output_type": "display_data"
    }
   ],
   "source": [
    "fig, ax = plt.subplots(1, 1)\n",
    "x = np.linspace(truncnorm.ppf(0.01, -1/0.1-1, 1/0.1+1),\n",
    "                truncnorm.ppf(0.99, -1/0.1-1, 1/0.1+1), 100)\n",
    "\n",
    "alpha_list = [0.3, 0.5, 0.8, 1, 2]\n",
    "k=2\n",
    "color_list = [\"red\", \"blue\", \"orange\", \"black\", \"green\"]\n",
    "for i, alpha in enumerate(alpha_list):\n",
    "    \n",
    "    w = torch.empty(1, 1000)\n",
    "    b = (k**0.5)*(1/alpha - 1/2)\n",
    "    w = torch.nn.init.trunc_normal_(w,  mean=0.0, std=((2*k)**0.5)/alpha, a = -b, b=b)\n",
    "    print(w.var())\n",
    "    ax.hist(w, density = True, color= color_list[i], label = alpha)\n",
    "ax.legend()\n"
   ]
  },
  {
   "cell_type": "code",
   "execution_count": 21,
   "id": "outdoor-madonna",
   "metadata": {},
   "outputs": [
    {
     "data": {
      "text/plain": [
       "array(0.33311116)"
      ]
     },
     "execution_count": 21,
     "metadata": {},
     "output_type": "execute_result"
    }
   ],
   "source": []
  },
  {
   "cell_type": "code",
   "execution_count": 81,
   "id": "radical-opportunity",
   "metadata": {},
   "outputs": [
    {
     "data": {
      "text/plain": [
       "tensor(1.4142)"
      ]
     },
     "execution_count": 81,
     "metadata": {},
     "output_type": "execute_result"
    }
   ],
   "source": [
    "torch.tensor(2).sqrt()"
   ]
  },
  {
   "cell_type": "code",
   "execution_count": null,
   "id": "sharp-lease",
   "metadata": {},
   "outputs": [],
   "source": []
  }
 ],
 "metadata": {
  "kernelspec": {
   "display_name": "Python 3 (ipykernel)",
   "language": "python",
   "name": "python3"
  },
  "language_info": {
   "codemirror_mode": {
    "name": "ipython",
    "version": 3
   },
   "file_extension": ".py",
   "mimetype": "text/x-python",
   "name": "python",
   "nbconvert_exporter": "python",
   "pygments_lexer": "ipython3",
   "version": "3.8.16"
  }
 },
 "nbformat": 4,
 "nbformat_minor": 5
}
