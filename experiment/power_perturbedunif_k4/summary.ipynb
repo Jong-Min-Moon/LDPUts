{
 "cells": [
  {
   "cell_type": "code",
   "execution_count": 1,
   "id": "continuing-vanilla",
   "metadata": {},
   "outputs": [],
   "source": [
    "import numpy as np\n",
    "import pandas as pd"
   ]
  },
  {
   "cell_type": "code",
   "execution_count": 11,
   "id": "59ba8fba",
   "metadata": {},
   "outputs": [
    {
     "data": {
      "text/plain": [
       "['genrr_chi', 'bitflip_projchi', 'lapu_ell2']"
      ]
     },
     "execution_count": 11,
     "metadata": {},
     "output_type": "execute_result"
    }
   ],
   "source": [
    "sample_size_vec = np.arange(1,21)*1000\n",
    "method_vec = [\"genrr_chi\", \"bitflip_projchi\", \"lapu_ell2\"]\n",
    "method_vec"
   ]
  },
  {
   "cell_type": "markdown",
   "id": "b1ab8ec1",
   "metadata": {},
   "source": [
    "# priv=05"
   ]
  },
  {
   "cell_type": "code",
   "execution_count": 12,
   "id": "mexican-fusion",
   "metadata": {},
   "outputs": [
    {
     "name": "stderr",
     "output_type": "stream",
     "text": [
      "/var/folders/w6/6r_601k96td7lw3ztsw07_8w0000gn/T/ipykernel_57482/2940424287.py:7: DeprecationWarning: Conversion of an array with ndim > 0 to a scalar is deprecated, and will error in future. Ensure you extract a single element from your array before performing this operation. (Deprecated NumPy 1.25.)\n",
      "  power_array[i,j] = (p_value_vec<0.05).mean(axis = 0)\n"
     ]
    }
   ],
   "source": [
    "expname = \"pval_k_4_priv_5\"\n",
    "power_array = np.zeros([len(sample_size_vec),3])\n",
    "for j, method_name in enumerate(method_vec):\n",
    "    for i, sample_size in enumerate(sample_size_vec):    \n",
    "        filename = './result/'+ expname + '_' + method_name + '_n_' + str(sample_size) + '.npy'\n",
    "        p_value_vec = np.load(filename)\n",
    "        power_array[i,j] = (p_value_vec<0.05).mean(axis = 0)\n",
    "power_array = np.hstack((sample_size_vec.reshape(-1,1), power_array))\n",
    "power_array = pd.DataFrame(power_array)\n",
    "power_array.columns = [\"n\"] + method_vec\n",
    "power_array.to_csv(\"./\" + expname + '.csv', index = False)"
   ]
  },
  {
   "cell_type": "markdown",
   "id": "138479b9",
   "metadata": {},
   "source": [
    "# k= 100, priv= 0.5"
   ]
  },
  {
   "cell_type": "code",
   "execution_count": 8,
   "id": "piano-shock",
   "metadata": {},
   "outputs": [],
   "source": [
    "sample_size_vec = [10000, 20000, 30000, 40000, 50000]\n",
    "power_array = np.zeros([5,8])\n",
    "for i, sample_size in enumerate(sample_size_vec):    \n",
    "    filename = 'C:/Users/Jongmin/Documents/GitHub/LDPUts/simul/power/gaboardi/k_100/priv_05/p_value_array_priv_05_k_100_n_' + str(sample_size) + '.npy'\n",
    "    p_value_vec = np.load(filename)\n",
    "    power_array[i,np.arange(1,7+1)] = (p_value_vec<0.05).mean(axis = 0)\n",
    "power_array[:,0 ] = 10000*np.arange(1,5+1)\n",
    "power_array = pd.DataFrame(power_array)\n",
    "power_array.columns = [\"sample_size\", \"LapU\", \"discLapU\",  \"genRR_perm\", \"genRR\", \"bitflip_perm\", \"bitflip\",  \"truncNorm\"]\n",
    "power_array.to_csv(\"C:/Users/Jongmin/Documents/GitHub/LDPUts/simul/power/gaboardi/k_100/priv_05/power_array_priv_05_k_100.csv\", index = False)"
   ]
  },
  {
   "cell_type": "markdown",
   "id": "929255db",
   "metadata": {},
   "source": [
    "# k = 40, priv = 1.0"
   ]
  },
  {
   "cell_type": "code",
   "execution_count": 12,
   "id": "c902f299",
   "metadata": {},
   "outputs": [],
   "source": [
    "sample_size_vec = [20000, 40000]\n",
    "power_array = np.zeros([2,8])\n",
    "for i, sample_size in enumerate(sample_size_vec):    \n",
    "    filename = 'C:/Users/Jongmin/Documents/GitHub/LDPUts/simul/power/gaboardi/k_40/priv_10/p_value_array_priv_10_k_40_n_' + str(sample_size) + '.npy'\n",
    "    p_value_vec = np.load(filename)\n",
    "    power_array[i,np.arange(1,7+1)] = (p_value_vec<0.05).mean(axis = 0)\n",
    "power_array[:,0 ] = [20000, 40000]\n",
    "power_array = pd.DataFrame(power_array)\n",
    "power_array.columns = [\"sample_size\", \"LapU\", \"discLapU\",  \"genRR_perm\", \"genRR\", \"bitflip_perm\", \"bitflip\",  \"truncNorm\"]\n",
    "power_array.to_csv(\"C:/Users/Jongmin/Documents/GitHub/LDPUts/simul/power/gaboardi/k_40/priv_10/p_value_array_priv_10_k_40.csv\", index = False)"
   ]
  },
  {
   "cell_type": "markdown",
   "id": "ea779845",
   "metadata": {},
   "source": [
    "# k = 2000, priv = 2.0"
   ]
  },
  {
   "cell_type": "code",
   "execution_count": 19,
   "id": "6eb9367d",
   "metadata": {},
   "outputs": [
    {
     "data": {
      "text/plain": [
       "array([0.16666667])"
      ]
     },
     "execution_count": 19,
     "metadata": {},
     "output_type": "execute_result"
    }
   ],
   "source": [
    "power_array_lapu_ell2 = np.load(\"C:/Users/Jongmin/Documents/GitHub/LDPUts/simul/power/gaboardi/k_2000/p_value_array_priv_lapu_ell2_priv_20_k_2000_n_200000high_sig.npy\")\n",
    "power_array_bitflip_ell2 = np.load(\"C:/Users/Jongmin/Documents/GitHub/LDPUts/simul/power/gaboardi/k_2000/p_value_array_priv_bitflip_ell2_priv_20_k_2000_n_200000high_sig.npy\")\n",
    "power_array_bitflip_chi = np.load(\"C:/Users/Jongmin/Documents/GitHub/LDPUts/simul/power/gaboardi/k_2000/p_value_array_priv_bitflip_priv_20_k_2000_n_200000_high_sig.npy\")\n",
    "\n",
    "\n",
    "(power_array_lapu_ell2<0.05).mean(axis = 0)\n"
   ]
  },
  {
   "cell_type": "code",
   "execution_count": 17,
   "id": "e69a948b",
   "metadata": {},
   "outputs": [
    {
     "data": {
      "text/plain": [
       "array([0.52])"
      ]
     },
     "execution_count": 17,
     "metadata": {},
     "output_type": "execute_result"
    }
   ],
   "source": [
    "(power_array_bitflip_ell2<0.05).mean(axis = 0)\n"
   ]
  },
  {
   "cell_type": "code",
   "execution_count": 18,
   "id": "7d301acf",
   "metadata": {},
   "outputs": [
    {
     "data": {
      "text/plain": [
       "array([0.69333333])"
      ]
     },
     "execution_count": 18,
     "metadata": {},
     "output_type": "execute_result"
    }
   ],
   "source": [
    "(power_array_bitflip_chi<0.05).mean(axis = 0)"
   ]
  }
 ],
 "metadata": {
  "kernelspec": {
   "display_name": "Python 3 (ipykernel)",
   "language": "python",
   "name": "python3"
  },
  "language_info": {
   "codemirror_mode": {
    "name": "ipython",
    "version": 3
   },
   "file_extension": ".py",
   "mimetype": "text/x-python",
   "name": "python",
   "nbconvert_exporter": "python",
   "pygments_lexer": "ipython3",
   "version": "3.12.1"
  }
 },
 "nbformat": 4,
 "nbformat_minor": 5
}
