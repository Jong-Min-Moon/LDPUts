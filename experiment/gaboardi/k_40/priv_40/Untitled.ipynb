{
 "cells": [
  {
   "cell_type": "code",
   "execution_count": 1,
   "id": "continuing-vanilla",
   "metadata": {},
   "outputs": [],
   "source": [
    "import numpy as np\n",
    "import pandas as pd"
   ]
  },
  {
   "cell_type": "code",
   "execution_count": 4,
   "id": "mexican-fusion",
   "metadata": {},
   "outputs": [],
   "source": [
    "sample_size_vec = [10000, 20000, 30000, 40000, 50000]\n",
    "power_array_priv_40_k_40 = np.zeros([5,8])\n",
    "for i, sample_size in enumerate(sample_size_vec):\n",
    "    filename = '/mnt/nas/users/mjm/LDPUts/simul/power/gaboardi/k_40/p_value_array_priv_40_k_40_n_' + str(sample_size) + '.npy'\n",
    "    p_value_vec = np.load(filename)\n",
    "    power_array_priv_40_k_40[i,np.arange(1,7+1)] = (p_value_vec<0.05).mean(axis = 0)\n",
    "power_array_priv_40_k_40[:,0 ] = 10000*np.arange(1,5+1)\n",
    "power_array_priv_40_k_40 = pd.DataFrame(power_array_priv_40_k_40)\n",
    "power_array_priv_40_k_40.columns = [\"sample_size\", \"lapu\", \"disclapu\", \"genrr\", \"genrr_perm\", \"bitflip\", \"bitflip_perm\", \"truncNorm\"]\n",
    "power_array_priv_40_k_40.to_csv(\"/mnt/nas/users/mjm/LDPUts/simul/power/gaboardi/k_40/power_array_priv_40_k_40.csv\", index = False)"
   ]
  },
  {
   "cell_type": "code",
   "execution_count": null,
   "id": "piano-shock",
   "metadata": {},
   "outputs": [],
   "source": []
  }
 ],
 "metadata": {
  "kernelspec": {
   "display_name": "Python 3 (ipykernel)",
   "language": "python",
   "name": "python3"
  },
  "language_info": {
   "codemirror_mode": {
    "name": "ipython",
    "version": 3
   },
   "file_extension": ".py",
   "mimetype": "text/x-python",
   "name": "python",
   "nbconvert_exporter": "python",
   "pygments_lexer": "ipython3",
   "version": "3.8.16"
  }
 },
 "nbformat": 4,
 "nbformat_minor": 5
}
