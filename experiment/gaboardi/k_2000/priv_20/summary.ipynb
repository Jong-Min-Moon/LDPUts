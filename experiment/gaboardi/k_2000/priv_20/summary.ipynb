{
 "cells": [
  {
   "cell_type": "code",
   "execution_count": 2,
   "metadata": {},
   "outputs": [
    {
     "data": {
      "text/plain": [
       "array([0.69333333])"
      ]
     },
     "execution_count": 2,
     "metadata": {},
     "output_type": "execute_result"
    }
   ],
   "source": [
    "filename = \"/Users/jmmoon/Documents/GitHub/LDPUts/simul/power/gaboardi/k_2000/priv_20/bitflip_chi/p_value_array_priv_bitflip_priv_20_k_2000_n_200000_high_sig.npy\"\n",
    "p_val_mat = np.load(filename)\n",
    "(p_val_mat<0.05).mean(axis=0)"
   ]
  },
  {
   "cell_type": "code",
   "execution_count": 3,
   "metadata": {},
   "outputs": [
    {
     "data": {
      "text/plain": [
       "array([0.16666667])"
      ]
     },
     "execution_count": 3,
     "metadata": {},
     "output_type": "execute_result"
    }
   ],
   "source": [
    "filename_riv_20_k_2000_n_200000high_sig = \"/Users/jmmoon/Documents/GitHub/LDPUts/simul/power/gaboardi/k_2000/priv_20/lapu_ell2/p_value_array_priv_lapu_ell2_priv_20_k_2000_n_200000high_sig.npy\"\n",
    "p_val_mat_lapu = np.load(filename_riv_20_k_2000_n_200000high_sig)\n",
    "(p_val_mat_lapu<0.05).mean(axis=0)"
   ]
  },
  {
   "cell_type": "code",
   "execution_count": 16,
   "metadata": {},
   "outputs": [],
   "source": [
    "import numpy as np\n",
    "from os import listdir\n",
    "from os.path import isfile, join\n"
   ]
  },
  {
   "cell_type": "code",
   "execution_count": 43,
   "metadata": {},
   "outputs": [],
   "source": [
    "path_lapu_ell2 = './'+'lapu_ell2' + '/result/'\n",
    "filelist_lapu_ell2 = [f for f in listdir(path_lapu_ell2) if isfile(join(path_lapu_ell2, f))]\n",
    "filelist_lapu_ell2.sort()\n",
    "\n",
    "path_genrr_ell2 = './'+'genrr_ell2' + '/result/'\n",
    "filelist_genrr_ell2= [f for f in listdir(path_genrr_ell2) if isfile(join(path_genrr_ell2, f))]\n",
    "filelist_genrr_ell2.sort()\n",
    "\n",
    "path_bitflip_ell2 = './'+'bitflip_ell2' + '/result/'\n",
    "filelist_bitflip_ell2 = [f for f in listdir(path_bitflip_ell2) if isfile(join(path_bitflip_ell2, f))]\n",
    "filelist_bitflip_ell2.sort()\n"
   ]
  },
  {
   "cell_type": "code",
   "execution_count": 44,
   "metadata": {},
   "outputs": [
    {
     "data": {
      "text/plain": [
       "['pval_k_2000_priv_20_bitflip_ell2_n_100000.npy',\n",
       " 'pval_k_2000_priv_20_bitflip_ell2_n_120000.npy',\n",
       " 'pval_k_2000_priv_20_bitflip_ell2_n_150000.npy',\n",
       " 'pval_k_2000_priv_20_bitflip_ell2_n_170000.npy',\n",
       " 'pval_k_2000_priv_20_bitflip_ell2_n_200000.npy',\n",
       " 'pval_k_2000_priv_20_bitflip_ell2_n_220000.npy',\n",
       " 'pval_k_2000_priv_20_bitflip_ell2_n_250000.npy',\n",
       " 'pval_k_2000_priv_20_bitflip_ell2_n_270000.npy',\n",
       " 'pval_k_2000_priv_20_bitflip_ell2_n_300000.npy']"
      ]
     },
     "execution_count": 44,
     "metadata": {},
     "output_type": "execute_result"
    }
   ],
   "source": [
    "filelist_bitflip_ell2"
   ]
  },
  {
   "cell_type": "code",
   "execution_count": 45,
   "metadata": {},
   "outputs": [],
   "source": [
    "path_lapu_ell2 = './'+'lapu_ell2' + '/result/'\n",
    "filelist_lapu_ell2 = [f for f in listdir(path_lapu_ell2) if isfile(join(path_lapu_ell2, f))]\n",
    "onlyfiles.sort()\n",
    "\n",
    "sample_size_list = np.array([10, 12, 15, 17, 20, 22, 25, 27, 30])\n",
    "k2000_priv20_table = np.zeros([len(sample_size_list),4])"
   ]
  },
  {
   "cell_type": "code",
   "execution_count": 46,
   "metadata": {},
   "outputs": [
    {
     "name": "stdout",
     "output_type": "stream",
     "text": [
      "0\n",
      "1\n",
      "2\n",
      "3\n",
      "4\n",
      "5\n",
      "6\n",
      "7\n",
      "8\n"
     ]
    }
   ],
   "source": [
    "for i in range(len(sample_size_list)):\n",
    "    print(i)\n",
    "    k2000_priv20_table[i,0] = sample_size_list[i]\n",
    "    k2000_priv20_table[i,1] = (np.load(path_lapu_ell2+filelist_lapu_ell2[i])<0.05).mean()\n",
    "    k2000_priv20_table[i,2] = (np.load(path_genrr_ell2+filelist_genrr_ell2[i])<0.05).mean()\n",
    "    k2000_priv20_table[i,3] = (np.load(path_bitflip_ell2+filelist_bitflip_ell2[i])<0.05).mean()"
   ]
  },
  {
   "cell_type": "code",
   "execution_count": 47,
   "metadata": {},
   "outputs": [],
   "source": [
    "np.savetxt('k2000_priv20_mix.csv', k2000_priv20_table, delimiter = ',', header = \"n, lapu, genrr, bitflip\", comments = \"\")\n"
   ]
  },
  {
   "cell_type": "code",
   "execution_count": 23,
   "metadata": {},
   "outputs": [],
   "source": []
  },
  {
   "cell_type": "code",
   "execution_count": 20,
   "metadata": {},
   "outputs": [],
   "source": []
  },
  {
   "cell_type": "code",
   "execution_count": null,
   "metadata": {},
   "outputs": [],
   "source": [
    "C:\\Users\\Jongmin\\Documents\\GitHub\\LDPUts\\simul\\power\\gaboardi\\k_2000\\priv_20\\lapu_ell2\\result\\ lapu_ell2_n_100000.npy"
   ]
  }
 ],
 "metadata": {
  "kernelspec": {
   "display_name": "Python 3",
   "language": "python",
   "name": "python3"
  },
  "language_info": {
   "codemirror_mode": {
    "name": "ipython",
    "version": 3
   },
   "file_extension": ".py",
   "mimetype": "text/x-python",
   "name": "python",
   "nbconvert_exporter": "python",
   "pygments_lexer": "ipython3",
   "version": "3.8.16"
  }
 },
 "nbformat": 4,
 "nbformat_minor": 2
}
