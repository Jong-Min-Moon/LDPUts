{
 "cells": [
  {
   "cell_type": "code",
   "execution_count": 9,
   "metadata": {},
   "outputs": [],
   "source": [
    "from discretizer import discretizer\n",
    "from privacy_mechanism import LapU\n",
    "import torch\n",
    "device = torch.device(\"cpu\")\n",
    "import matplotlib.pyplot as plt"
   ]
  },
  {
   "cell_type": "markdown",
   "metadata": {},
   "source": [
    "# testing the discretizer"
   ]
  },
  {
   "cell_type": "code",
   "execution_count": 11,
   "metadata": {},
   "outputs": [
    {
     "data": {
      "text/plain": [
       "tensor([ 0,  1,  2,  3,  4,  5,  6,  7,  8,  9, 10, 11, 12, 13, 14, 15])"
      ]
     },
     "execution_count": 11,
     "metadata": {},
     "output_type": "execute_result"
    }
   ],
   "source": [
    "data_conti = torch.tensor([\n",
    "    [0, 0, 0, 0],\n",
    "    [0, 0, 0, 0.6],\n",
    "    [0, 0, 0.6, 0],\n",
    "    [0, 0, 0.6, 0.6],\n",
    "    [0, 0.6, 0, 0],\n",
    "    [0, 0.6, 0, 0.6],\n",
    "    [0, 0.6, 0.6, 0],\n",
    "    [0, 0.6, 0.6, 0.6],   \n",
    "    [0.6, 0, 0, 0],\n",
    "    [0.6, 0, 0, 0.6],\n",
    "    [0.6, 0, 0.6, 0],\n",
    "    [0.6, 0, 0.6, 0.6],\n",
    "    [0.6, 0.6, 0, 0],\n",
    "    [0.6, 0.6, 0, 0.6],\n",
    "    [0.6, 0.6, 0.6, 0],\n",
    "    [0.6, 0.6, 0.6, 0.6],\n",
    "])\n",
    "dsc = discretizer(device)\n",
    "data_disc, n_category = dsc.transform(data_conti, 2)\n",
    "data_disc"
   ]
  },
  {
   "cell_type": "markdown",
   "metadata": {},
   "source": [
    "# testing the LapU for discrete data"
   ]
  },
  {
   "cell_type": "code",
   "execution_count": 23,
   "metadata": {},
   "outputs": [
    {
     "data": {
      "text/plain": [
       "<matplotlib.image.AxesImage at 0x2086cd09c10>"
      ]
     },
     "execution_count": 23,
     "metadata": {},
     "output_type": "execute_result"
    },
    {
     "data": {
      "image/png": "[encoded data removed]",
      "text/plain": [
       "<Figure size 640x480 with 4 Axes>"
      ]
     },
     "metadata": {},
     "output_type": "display_data"
    }
   ],
   "source": [
    "laputest = LapU(device)\n",
    "fig, axs = plt.subplots(2,2)\n",
    "axs[0,0].imshow(laputest.privatize(data_disc, n_category, 0.1), cmap = 'hot', interpolation = 'nearest')\n",
    "axs[0,1].imshow(laputest.privatize(data_disc, n_category, 1.0), cmap = 'hot', interpolation = 'nearest')\n",
    "axs[1,0].imshow(laputest.privatize(data_disc, n_category, 10), cmap = 'hot', interpolation = 'nearest')\n",
    "axs[1,1].imshow(laputest.privatize(data_disc, n_category, 1000), cmap = 'hot', interpolation = 'nearest')"
   ]
  },
  {
   "cell_type": "code",
   "execution_count": 37,
   "metadata": {},
   "outputs": [],
   "source": [
    "data_onehot = torch.nn.functional.one_hot(data_disc, n_category)"
   ]
  },
  {
   "cell_type": "code",
   "execution_count": 5,
   "metadata": {},
   "outputs": [
    {
     "data": {
      "text/plain": [
       "tensor([[ 4.0000e+00, -1.0375e-05, -8.5015e-06, -4.4412e-05,  9.6365e-05,\n",
       "         -2.0399e-04, -4.9341e-05, -1.6360e-04, -6.9006e-05, -6.6307e-05,\n",
       "         -2.8768e-04,  7.0406e-06, -4.3358e-05,  4.9309e-04, -2.1697e-04,\n",
       "         -1.2917e-05],\n",
       "        [ 1.2655e-04,  4.0001e+00, -6.2687e-05,  2.4322e-04, -3.2684e-05,\n",
       "          9.5714e-06, -2.9029e-05,  2.6871e-05, -3.3387e-05,  1.1297e-05,\n",
       "         -2.9082e-05,  6.3987e-05, -1.4338e-05,  3.1538e-05, -5.6859e-05,\n",
       "         -1.6859e-04],\n",
       "        [ 2.9810e-04,  2.5187e-05,  4.0000e+00,  6.2329e-05, -1.0631e-04,\n",
       "         -1.1414e-05,  1.1000e-04,  1.6171e-04,  8.9690e-05, -9.5819e-06,\n",
       "          6.9423e-05,  6.2553e-05, -1.0662e-04, -8.1986e-05,  3.2530e-04,\n",
       "          2.5537e-04],\n",
       "        [-1.5065e-04,  4.1280e-05,  1.4378e-04,  3.9999e+00,  1.3820e-04,\n",
       "          1.2701e-04,  1.8334e-05,  8.4918e-05, -4.2298e-05, -2.5294e-04,\n",
       "         -1.0498e-05, -9.5334e-05,  1.4522e-04,  3.7804e-05, -5.2596e-05,\n",
       "         -2.4418e-06],\n",
       "        [-5.0305e-05,  1.0297e-04, -4.4127e-05,  1.7412e-05,  4.0000e+00,\n",
       "          3.1021e-05, -8.4283e-06, -3.5262e-05, -1.2073e-04,  7.3220e-05,\n",
       "          3.4737e-05, -6.6455e-05,  1.0163e-04, -1.0180e-04,  2.1672e-06,\n",
       "         -6.2998e-05],\n",
       "        [-1.3115e-04,  7.4431e-05, -2.1421e-04,  7.8784e-06, -1.8784e-04,\n",
       "          4.0000e+00,  6.1056e-05,  2.9428e-06,  5.6969e-05, -8.6600e-05,\n",
       "          2.9989e-05,  6.8060e-05,  1.1571e-05,  6.6923e-06, -1.2404e-04,\n",
       "         -1.1461e-05],\n",
       "        [-1.2932e-05, -2.4122e-05,  6.3963e-05, -3.1986e-05, -6.2680e-05,\n",
       "          7.0463e-06,  4.0000e+00, -1.7600e-04,  4.5949e-06, -1.2844e-04,\n",
       "         -1.0215e-04, -3.6244e-05,  9.5101e-05, -1.2300e-04,  6.3964e-05,\n",
       "          2.0005e-05],\n",
       "        [ 5.8052e-05, -5.6779e-05,  1.6239e-04,  2.7430e-04, -1.1298e-04,\n",
       "         -6.3685e-06,  3.1360e-05,  4.0000e+00, -2.5765e-05,  4.9816e-05,\n",
       "          8.8474e-06, -2.7741e-05, -5.4981e-05, -6.2562e-05, -1.3895e-04,\n",
       "          8.2912e-05],\n",
       "        [ 7.1670e-05, -8.8153e-05,  3.0637e-04, -1.7509e-06, -1.3402e-05,\n",
       "          7.3438e-05,  5.4845e-05, -1.2031e-04,  4.0001e+00,  1.0461e-04,\n",
       "         -3.6201e-05,  8.2668e-06,  9.3727e-05,  9.0065e-06, -3.9680e-05,\n",
       "          7.2867e-05],\n",
       "        [-1.7295e-05, -2.1463e-05, -2.1407e-04, -2.1815e-05, -3.5572e-05,\n",
       "         -4.4862e-05,  6.7402e-06, -1.8583e-05,  2.6425e-04,  4.0001e+00,\n",
       "          1.0251e-04,  2.2685e-05,  1.2666e-04,  6.6581e-05, -2.2686e-04,\n",
       "         -6.4051e-05],\n",
       "        [-1.0898e-04, -4.9212e-05, -1.5682e-04,  8.5112e-05, -6.6281e-05,\n",
       "         -1.7893e-04, -3.0565e-04,  2.7197e-04,  2.3341e-04,  2.0355e-05,\n",
       "          4.0002e+00,  1.6851e-04, -1.3330e-05,  3.9549e-05,  4.6334e-05,\n",
       "         -2.9788e-05],\n",
       "        [-2.4054e-05,  1.5148e-04,  1.6231e-04,  7.9706e-05,  7.6874e-05,\n",
       "          5.9396e-05,  6.0893e-06,  5.6707e-05, -3.3119e-05,  5.5427e-05,\n",
       "          4.4197e-05,  4.0001e+00,  1.7580e-04, -2.9846e-04, -1.4528e-04,\n",
       "         -3.9925e-05],\n",
       "        [ 3.4808e-05, -1.1152e-05,  1.1749e-04, -1.7550e-05,  3.6083e-06,\n",
       "          1.5564e-05,  2.6057e-05,  1.1879e-04, -2.5026e-05,  2.3261e-04,\n",
       "          8.3355e-05,  3.1041e-05,  3.9999e+00,  2.4652e-04, -2.1974e-05,\n",
       "          2.5361e-05],\n",
       "        [-1.6674e-04,  1.1933e-04, -7.0649e-06,  1.0972e-05, -1.1240e-04,\n",
       "          1.7279e-06, -2.0732e-04,  2.5387e-05,  5.3215e-05, -2.2776e-06,\n",
       "         -3.8215e-05, -1.4739e-05, -7.7721e-06,  4.0000e+00, -6.9364e-05,\n",
       "         -3.4469e-05],\n",
       "        [ 1.1486e-04,  1.4758e-04, -6.8199e-06,  5.6959e-05, -4.7337e-05,\n",
       "          2.7557e-05,  7.3454e-05, -1.0301e-04,  1.8392e-05, -1.6312e-05,\n",
       "         -6.9180e-05, -1.0394e-05,  9.2515e-05,  2.8647e-04,  4.0000e+00,\n",
       "         -1.5347e-04],\n",
       "        [ 3.8003e-05, -5.0580e-05,  1.0101e-04,  5.1358e-06,  1.8225e-04,\n",
       "          3.3397e-06,  1.5369e-05, -1.9903e-04, -4.1165e-05, -7.1296e-06,\n",
       "          2.0899e-05, -3.2314e-05, -1.2609e-04,  7.8309e-05,  2.1952e-05,\n",
       "          4.0001e+00]])"
      ]
     },
     "execution_count": 5,
     "metadata": {},
     "output_type": "execute_result"
    }
   ],
   "source": []
  },
  {
   "cell_type": "code",
   "execution_count": 5,
   "metadata": {},
   "outputs": [
    {
     "data": {
      "text/plain": [
       "1.4142135623730951"
      ]
     },
     "execution_count": 5,
     "metadata": {},
     "output_type": "execute_result"
    }
   ],
   "source": [
    "2**(1/2)"
   ]
  },
  {
   "cell_type": "code",
   "execution_count": 2,
   "metadata": {},
   "outputs": [],
   "source": [
    "\n",
    "m = torch.distributions.categorical.Categorical(torch.tensor([ 0.25, 0.25, 0.25, 0.25 ]))\n",
    "multi_sample = m.sample(sample_shape = torch.Size([4]))\n",
    "multi_sample"
   ]
  },
  {
   "cell_type": "code",
   "execution_count": 5,
   "metadata": {},
   "outputs": [
    {
     "data": {
      "text/plain": [
       "tensor([[1, 2, 3],\n",
       "        [1, 2, 3]])"
      ]
     },
     "execution_count": 5,
     "metadata": {},
     "output_type": "execute_result"
    }
   ],
   "source": [
    "a"
   ]
  },
  {
   "cell_type": "code",
   "execution_count": 24,
   "metadata": {},
   "outputs": [
    {
     "ename": "IndentationError",
     "evalue": "unexpected indent (2434617784.py, line 3)",
     "output_type": "error",
     "traceback": [
      "\u001b[1;36m  Cell \u001b[1;32mIn[24], line 3\u001b[1;36m\u001b[0m\n\u001b[1;33m    return(torch.nn.functional.one_hot(data_multinomial, alphabet_size))\u001b[0m\n\u001b[1;37m    ^\u001b[0m\n\u001b[1;31mIndentationError\u001b[0m\u001b[1;31m:\u001b[0m unexpected indent\n"
     ]
    }
   ],
   "source": [
    "weights = torch.tensor([0, 10, 3, 0], dtype=torch.float) # create a tensor of weights\n",
    "multi = torch.multinomial(weights, 2)\n",
    " return(torch.nn.functional.one_hot(data_multinomial, alphabet_size))"
   ]
  },
  {
   "cell_type": "code",
   "execution_count": 10,
   "metadata": {},
   "outputs": [
    {
     "data": {
      "text/plain": [
       "tensor([3, 1, 1, 0])"
      ]
     },
     "execution_count": 10,
     "metadata": {},
     "output_type": "execute_result"
    }
   ],
   "source": [
    "\n"
   ]
  },
  {
   "cell_type": "code",
   "execution_count": null,
   "metadata": {},
   "outputs": [],
   "source": [
    "torch.nn.functional.one_hot(multi_sample, 4)"
   ]
  },
  {
   "cell_type": "code",
   "execution_count": 3,
   "metadata": {},
   "outputs": [],
   "source": []
  },
  {
   "cell_type": "code",
   "execution_count": 4,
   "metadata": {},
   "outputs": [
    {
     "ename": "RuntimeError",
     "evalue": "Class values must be smaller than num_classes.",
     "output_type": "error",
     "traceback": [
      "\u001b[1;31m---------------------------------------------------------------------------\u001b[0m",
      "\u001b[1;31mRuntimeError\u001b[0m                              Traceback (most recent call last)",
      "Cell \u001b[1;32mIn[4], line 1\u001b[0m\n\u001b[1;32m----> 1\u001b[0m laputest\u001b[39m.\u001b[39;49mprivatize(a, \u001b[39m3\u001b[39;49m, \u001b[39m0.5\u001b[39;49m)\n",
      "File \u001b[1;32mc:\\Users\\Jongmin\\Documents\\GitHub\\LDPUts\\privacy_mechanism.py:10\u001b[0m, in \u001b[0;36mLapU.privatize\u001b[1;34m(self, data_mutinomial, alphabet_size, privacy_level)\u001b[0m\n\u001b[0;32m      9\u001b[0m \u001b[39mdef\u001b[39;00m \u001b[39mprivatize\u001b[39m(\u001b[39mself\u001b[39m, data_mutinomial, alphabet_size, privacy_level):\n\u001b[1;32m---> 10\u001b[0m     data_onehot \u001b[39m=\u001b[39m \u001b[39mself\u001b[39;49m\u001b[39m.\u001b[39;49mtransform_onehot(data_mutinomial, alphabet_size)\n\u001b[0;32m     11\u001b[0m     laplace_scale \u001b[39m=\u001b[39m torch\u001b[39m.\u001b[39mtensor(\u001b[39m2\u001b[39m\u001b[39m*\u001b[39malphabet_size)\u001b[39m.\u001b[39msqrt()\u001b[39m.\u001b[39mmul(\u001b[39m2\u001b[39m)\u001b[39m.\u001b[39mdiv(privacy_level)\u001b[39m.\u001b[39mto(\u001b[39mself\u001b[39m\u001b[39m.\u001b[39mcuda_device) \u001b[39m#sigma_alpha in the paper\u001b[39;00m\n\u001b[0;32m     12\u001b[0m     sample_size \u001b[39m=\u001b[39m \u001b[39mself\u001b[39m\u001b[39m.\u001b[39mget_sample_size(data_mutinomial)\u001b[39m.\u001b[39mto(\u001b[39mself\u001b[39m\u001b[39m.\u001b[39mcuda_device)\n",
      "File \u001b[1;32mc:\\Users\\Jongmin\\Documents\\GitHub\\LDPUts\\privacy_mechanism.py:34\u001b[0m, in \u001b[0;36mLapU.transform_onehot\u001b[1;34m(self, data_multinomial, alphabet_size)\u001b[0m\n\u001b[0;32m     33\u001b[0m \u001b[39mdef\u001b[39;00m \u001b[39mtransform_onehot\u001b[39m(\u001b[39mself\u001b[39m, data_multinomial, alphabet_size):\n\u001b[1;32m---> 34\u001b[0m     \u001b[39mreturn\u001b[39;00m(torch\u001b[39m.\u001b[39;49mnn\u001b[39m.\u001b[39;49mfunctional\u001b[39m.\u001b[39;49mone_hot(data_multinomial, alphabet_size))\n",
      "\u001b[1;31mRuntimeError\u001b[0m: Class values must be smaller than num_classes."
     ]
    }
   ],
   "source": []
  }
 ],
 "metadata": {
  "kernelspec": {
   "display_name": "LAPUTS",
   "language": "python",
   "name": "python3"
  },
  "language_info": {
   "codemirror_mode": {
    "name": "ipython",
    "version": 3
   },
   "file_extension": ".py",
   "mimetype": "text/x-python",
   "name": "python",
   "nbconvert_exporter": "python",
   "pygments_lexer": "ipython3",
   "version": "3.8.16"
  },
  "orig_nbformat": 4
 },
 "nbformat": 4,
 "nbformat_minor": 2
}
