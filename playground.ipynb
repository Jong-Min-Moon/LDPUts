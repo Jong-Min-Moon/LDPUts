{
 "cells": [
  {
   "cell_type": "code",
   "execution_count": 13,
   "metadata": {},
   "outputs": [],
   "source": [
    "from discretizer import discretizer\n",
    "from client import client\n",
    "import torch\n",
    "device = torch.device(\"cuda:0\" if torch.cuda.is_available() else \"cpu\")\n",
    "import matplotlib.pyplot as plt\n",
    "from server import server_twosample_U, server_twosample_chi, server_twosample_projection\n",
    "from data_generator import data_generator\n",
    "import time\n",
    "import numpy"
   ]
  },
  {
   "cell_type": "code",
   "execution_count": 14,
   "metadata": {},
   "outputs": [
    {
     "data": {
      "text/plain": [
       "6.8224053382873535"
      ]
     },
     "execution_count": 14,
     "metadata": {},
     "output_type": "execute_result"
    }
   ],
   "source": [
    "t = time.time()\n",
    "\n",
    "server_now = server_twosample_projection(device)\n",
    "data_gen = data_generator(device)\n",
    "alphabet_size = 4\n",
    "beta = 0.5\n",
    "privacy_level = 100\n",
    "n_test = 10000\n",
    "significance_level = 0.05\n",
    "sample_size = 1000\n",
    "test_result = torch.zeros(n_test).to(device)\n",
    "test_statistic = torch.zeros(n_test).to(device)\n",
    "for i in range(n_test):\n",
    "    data_y = data_gen.generate_nearly_unif(alphabet_size, beta, sample_size = sample_size)\n",
    "    data_z = data_gen.generate_nearly_unif(alphabet_size, beta, sample_size = sample_size)\n",
    "    LDPclient = client(device)\n",
    "    LDPclient.load_data_disc(data_y, data_z, alphabet_size)\n",
    "    data_y_priv, data_z_priv = LDPclient.release_bitFlip(privacy_level)\n",
    "    #test_result[i] = server_now.release_p_value(data_y_priv, data_z_priv, n_permutation)\n",
    "    test_statistic[i]  = server_now._calculate_statistic(data_y_priv, data_z_priv)\n",
    "    \n",
    "elapsed = time.time() - t\n",
    "elapsed"
   ]
  },
  {
   "cell_type": "code",
   "execution_count": 17,
   "metadata": {},
   "outputs": [
    {
     "data": {
      "text/plain": [
       "4"
      ]
     },
     "execution_count": 17,
     "metadata": {},
     "output_type": "execute_result"
    }
   ],
   "source": [
    "alphabet_size"
   ]
  },
  {
   "cell_type": "code",
   "execution_count": 16,
   "metadata": {},
   "outputs": [
    {
     "data": {
      "text/plain": [
       "tensor([2.6860e-06, 2.7920e-06, 6.9000e-07,  ..., 1.3640e-06, 5.1800e-07,\n",
       "        6.0000e-07])"
      ]
     },
     "execution_count": 16,
     "metadata": {},
     "output_type": "execute_result"
    }
   ],
   "source": [
    "test_statistic"
   ]
  },
  {
   "cell_type": "code",
   "execution_count": 15,
   "metadata": {},
   "outputs": [
    {
     "data": {
      "text/plain": [
       "(array([265., 387., 425., 454., 552., 492., 469., 506., 445., 418., 462.,\n",
       "        362., 364., 340., 309., 284., 282., 246., 232., 189., 253., 185.,\n",
       "        183., 163., 162., 129., 109., 103., 105., 108., 101.,  74.,  77.,\n",
       "         73.,  61.,  49.,  66.,  43.,  48.,  45.,  38.,  33.,  26.,  28.,\n",
       "         22.,  21.,  17.,  21.,  25.,  13.,  16.,  10.,   6.,  11.,  10.,\n",
       "          6.,   7.,   6.,   4.,   8.,   2.,   2.,   6.,   5.,   3.,   3.,\n",
       "          2.,   2.,   3.,   2.,   1.,   1.,   2.,   1.,   2.,   1.,   0.,\n",
       "          4.,   0.,   1.,   0.,   2.,   0.,   1.,   0.,   0.,   0.,   0.,\n",
       "          0.,   0.,   0.,   1.,   0.,   1.,   1.,   1.,   0.,   0.,   0.,\n",
       "          2.]),\n",
       " array([9.45236841e-03, 2.15395479e-01, 4.21338589e-01, 6.27281699e-01,\n",
       "        8.33224809e-01, 1.03916792e+00, 1.24511103e+00, 1.45105414e+00,\n",
       "        1.65699725e+00, 1.86294036e+00, 2.06888347e+00, 2.27482658e+00,\n",
       "        2.48076969e+00, 2.68671280e+00, 2.89265591e+00, 3.09859902e+00,\n",
       "        3.30454213e+00, 3.51048524e+00, 3.71642835e+00, 3.92237146e+00,\n",
       "        4.12831457e+00, 4.33425768e+00, 4.54020079e+00, 4.74614390e+00,\n",
       "        4.95208701e+00, 5.15803012e+00, 5.36397323e+00, 5.56991635e+00,\n",
       "        5.77585946e+00, 5.98180257e+00, 6.18774568e+00, 6.39368879e+00,\n",
       "        6.59963190e+00, 6.80557501e+00, 7.01151812e+00, 7.21746123e+00,\n",
       "        7.42340434e+00, 7.62934745e+00, 7.83529056e+00, 8.04123367e+00,\n",
       "        8.24717678e+00, 8.45311989e+00, 8.65906300e+00, 8.86500611e+00,\n",
       "        9.07094922e+00, 9.27689233e+00, 9.48283544e+00, 9.68877855e+00,\n",
       "        9.89472166e+00, 1.01006648e+01, 1.03066079e+01, 1.05125510e+01,\n",
       "        1.07184941e+01, 1.09244372e+01, 1.11303803e+01, 1.13363234e+01,\n",
       "        1.15422665e+01, 1.17482097e+01, 1.19541528e+01, 1.21600959e+01,\n",
       "        1.23660390e+01, 1.25719821e+01, 1.27779252e+01, 1.29838683e+01,\n",
       "        1.31898114e+01, 1.33957545e+01, 1.36016976e+01, 1.38076408e+01,\n",
       "        1.40135839e+01, 1.42195270e+01, 1.44254701e+01, 1.46314132e+01,\n",
       "        1.48373563e+01, 1.50432994e+01, 1.52492425e+01, 1.54551856e+01,\n",
       "        1.56611287e+01, 1.58670719e+01, 1.60730150e+01, 1.62789581e+01,\n",
       "        1.64849012e+01, 1.66908443e+01, 1.68967874e+01, 1.71027305e+01,\n",
       "        1.73086736e+01, 1.75146167e+01, 1.77205598e+01, 1.79265030e+01,\n",
       "        1.81324461e+01, 1.83383892e+01, 1.85443323e+01, 1.87502754e+01,\n",
       "        1.89562185e+01, 1.91621616e+01, 1.93681047e+01, 1.95740478e+01,\n",
       "        1.97799910e+01, 1.99859341e+01, 2.01918772e+01, 2.03978203e+01,\n",
       "        2.06037634e+01]),\n",
       " <BarContainer object of 100 artists>)"
      ]
     },
     "execution_count": 15,
     "metadata": {},
     "output_type": "execute_result"
    },
    {
     "data": {
      "image/png": "[encoded data removed]",
      "text/plain": [
       "<Figure size 640x480 with 2 Axes>"
      ]
     },
     "metadata": {},
     "output_type": "display_data"
    }
   ],
   "source": [
    "fig, axs = plt.subplots(1,2)\n",
    "axs[0].hist(test_statistic, bins =100)\n",
    "axs[1].hist(numpy.random.chisquare(alphabet_size-1, 10000), bins =100)"
   ]
  },
  {
   "cell_type": "code",
   "execution_count": 11,
   "metadata": {},
   "outputs": [
    {
     "data": {
      "text/plain": [
       "array([3.12911011, 4.46915588, 7.67141197, ..., 0.63649142, 2.48654217,\n",
       "       2.93446103])"
      ]
     },
     "execution_count": 11,
     "metadata": {},
     "output_type": "execute_result"
    }
   ],
   "source": [
    "numpy.random.chisquare(alphabet_size-1, 10000)"
   ]
  },
  {
   "cell_type": "code",
   "execution_count": 51,
   "metadata": {},
   "outputs": [
    {
     "data": {
      "text/plain": [
       "tensor([[ 0,  0,  0, -2,  0],\n",
       "        [ 0,  0,  0, -2,  0]])"
      ]
     },
     "execution_count": 51,
     "metadata": {},
     "output_type": "execute_result"
    }
   ],
   "source": [
    "a.eq(1).mul(-2)"
   ]
  },
  {
   "cell_type": "code",
   "execution_count": 3,
   "metadata": {},
   "outputs": [],
   "source": [
    "gen = data_generator(device)"
   ]
  },
  {
   "cell_type": "code",
   "execution_count": 51,
   "metadata": {},
   "outputs": [],
   "source": [
    "p, p_priv = gen._generate_power_law_p_private(10,2.1, 0.5)"
   ]
  },
  {
   "cell_type": "code",
   "execution_count": 52,
   "metadata": {},
   "outputs": [
    {
     "data": {
      "text/plain": [
       "<BarContainer object of 10 artists>"
      ]
     },
     "execution_count": 52,
     "metadata": {},
     "output_type": "execute_result"
    },
    {
     "data": {
      "image/png": "[encoded data removed]",
      "text/plain": [
       "<Figure size 432x288 with 1 Axes>"
      ]
     },
     "metadata": {
      "needs_background": "light"
     },
     "output_type": "display_data"
    }
   ],
   "source": [
    "plt.bar(range(10), p.cpu())"
   ]
  },
  {
   "cell_type": "code",
   "execution_count": 53,
   "metadata": {},
   "outputs": [
    {
     "data": {
      "text/plain": [
       "<BarContainer object of 10 artists>"
      ]
     },
     "execution_count": 53,
     "metadata": {},
     "output_type": "execute_result"
    },
    {
     "data": {
      "image/png": "[encoded data removed]",
      "text/plain": [
       "<Figure size 432x288 with 1 Axes>"
      ]
     },
     "metadata": {
      "needs_background": "light"
     },
     "output_type": "display_data"
    }
   ],
   "source": [
    "plt.bar(range(10), p_priv.cpu())"
   ]
  },
  {
   "cell_type": "code",
   "execution_count": null,
   "metadata": {},
   "outputs": [],
   "source": []
  },
  {
   "cell_type": "code",
   "execution_count": 2,
   "metadata": {},
   "outputs": [
    {
     "data": {
      "text/plain": [
       "16.566758632659912"
      ]
     },
     "execution_count": 2,
     "metadata": {},
     "output_type": "execute_result"
    }
   ],
   "source": [
    "t = time.time()\n",
    "\n",
    "server_now = server_twosample_U(device)\n",
    "data_gen = data_generator(device)\n",
    "alphabet_size = 1000\n",
    "beta = 0.5\n",
    "privacy_level = 1\n",
    "n_test = 1\n",
    "n_permutation = 99\n",
    "significance_level = 0.05\n",
    "sample_size = 100000\n",
    "test_result = torch.zeros(n_test).to(device)\n",
    "for i in range(n_test):\n",
    "    data_y = data_gen.generate_nearly_unif(alphabet_size, beta, sample_size = sample_size)\n",
    "    data_z = data_gen.generate_nearly_unif(alphabet_size, beta, sample_size = sample_size)\n",
    "    LDPclient = client(device)\n",
    "    LDPclient.load_data_disc(data_y, data_z, alphabet_size)\n",
    "    data_y_priv, data_z_priv = LDPclient.release_LapU(privacy_level)\n",
    "    test_result[i] = server_now.release_p_value(data_y_priv, data_z_priv, n_permutation)\n",
    "    \n",
    "    \n",
    "elapsed = time.time() - t\n",
    "elapsed"
   ]
  },
  {
   "cell_type": "code",
   "execution_count": 9,
   "metadata": {},
   "outputs": [
    {
     "data": {
      "text/plain": [
       "tensor(1621, device='cuda:0')"
      ]
     },
     "execution_count": 9,
     "metadata": {},
     "output_type": "execute_result"
    }
   ],
   "source": [
    "(data_y==0).sum()"
   ]
  },
  {
   "cell_type": "code",
   "execution_count": 15,
   "metadata": {},
   "outputs": [
    {
     "data": {
      "text/plain": [
       "tensor([0, 1, 1, 0, 1, 0])"
      ]
     },
     "execution_count": 15,
     "metadata": {},
     "output_type": "execute_result"
    }
   ],
   "source": [
    "torch.tensor([1,2,4]).bincount(minlength=6)"
   ]
  },
  {
   "cell_type": "markdown",
   "metadata": {},
   "source": [
    "# performance of GenRR "
   ]
  },
  {
   "cell_type": "code",
   "execution_count": 25,
   "metadata": {},
   "outputs": [
    {
     "data": {
      "text/plain": [
       "131.28636121749878"
      ]
     },
     "execution_count": 25,
     "metadata": {},
     "output_type": "execute_result"
    }
   ],
   "source": [
    "t = time.time()\n",
    "\n",
    "server_now = server_twosample_chi(device)\n",
    "data_gen = data_generator(device)\n",
    "alphabet_size = 3000\n",
    "beta = 2.5\n",
    "privacy_level = 0.01\n",
    "n_test = 100\n",
    "sample_size = 10000\n",
    "test_result = torch.zeros(n_test).to(device)\n",
    "for i in range(n_test):\n",
    "    data_y = data_gen.generate_nearly_unif(alphabet_size, beta, sample_size = sample_size)\n",
    "    data_z = data_gen.generate_nearly_unif(alphabet_size, beta, sample_size = sample_size)\n",
    "    LDPclient = client(device)\n",
    "    LDPclient.load_data_disc(data_y, data_z, alphabet_size)\n",
    "    data_y_priv, data_z_priv = LDPclient.release_genRR(privacy_level)\n",
    "    test_result[i] = server_now.release_p_value(data_y_priv, data_z_priv, alphabet_size)\n",
    "    \n",
    "    \n",
    "elapsed = time.time() - t\n",
    "elapsed"
   ]
  },
  {
   "cell_type": "code",
   "execution_count": 24,
   "metadata": {},
   "outputs": [
    {
     "data": {
      "text/plain": [
       "tensor(0.7100, device='cuda:0')"
      ]
     },
     "execution_count": 24,
     "metadata": {},
     "output_type": "execute_result"
    }
   ],
   "source": [
    "(test_result < 0.7).sum()/n_test "
   ]
  },
  {
   "cell_type": "code",
   "execution_count": 6,
   "metadata": {},
   "outputs": [
    {
     "data": {
      "text/plain": [
       "torch.int64"
      ]
     },
     "execution_count": 6,
     "metadata": {},
     "output_type": "execute_result"
    }
   ],
   "source": [
    "data_y_priv.dtype"
   ]
  },
  {
   "cell_type": "markdown",
   "metadata": {},
   "source": [
    "# testing the discretizer"
   ]
  },
  {
   "cell_type": "code",
   "execution_count": 38,
   "metadata": {},
   "outputs": [],
   "source": [
    "p = torch.tensor([0.2, 0.6, 0.1, 0.1])\n",
    "n_sample = 10\n",
    "random_multinomial = torch.multinomial(p, n_sample, replacement=True).view(-1)\n",
    "\n",
    "\n",
    "\n",
    "LDPclient = client(device)\n",
    "LDPclient.load_data_disc(random_multinomial, random_multinomial, 4)\n"
   ]
  },
  {
   "cell_type": "markdown",
   "metadata": {},
   "source": [
    "# testing the LapU for discrete data"
   ]
  },
  {
   "cell_type": "code",
   "execution_count": 43,
   "metadata": {},
   "outputs": [
    {
     "data": {
      "text/plain": [
       "<matplotlib.image.AxesImage at 0x2a9c9f10640>"
      ]
     },
     "execution_count": 43,
     "metadata": {},
     "output_type": "execute_result"
    },
    {
     "data": {
      "image/png": "[encoded data removed]",
      "text/plain": [
       "<Figure size 640x480 with 4 Axes>"
      ]
     },
     "metadata": {},
     "output_type": "display_data"
    }
   ],
   "source": [
    "fig, axs = plt.subplots(2,2)\n",
    "axs[0,0].imshow(LDPclient.release_LapU(0.5)[1], cmap = 'hot', interpolation = 'nearest')\n",
    "axs[0,1].imshow(LDPclient.release_LapU(1)[1], cmap = 'hot', interpolation = 'nearest')\n",
    "axs[1,0].imshow(LDPclient.release_LapU(20)[1], cmap = 'hot', interpolation = 'nearest')\n",
    "axs[1,1].imshow(LDPclient.release_LapU(50)[1], cmap = 'hot', interpolation = 'nearest')"
   ]
  },
  {
   "cell_type": "code",
   "execution_count": 42,
   "metadata": {},
   "outputs": [
    {
     "data": {
      "text/plain": [
       "<matplotlib.image.AxesImage at 0x2a9c9d49610>"
      ]
     },
     "execution_count": 42,
     "metadata": {},
     "output_type": "execute_result"
    },
    {
     "data": {
      "image/png": "[encoded data removed]",
      "text/plain": [
       "<Figure size 640x480 with 4 Axes>"
      ]
     },
     "metadata": {},
     "output_type": "display_data"
    }
   ],
   "source": [
    "fig, axs = plt.subplots(2,2)\n",
    "axs[0,0].imshow(LDPclient.release_DiscLapU(0.5)[1], cmap = 'hot', interpolation = 'nearest')\n",
    "axs[0,1].imshow(LDPclient.release_DiscLapU(1)[1], cmap = 'hot', interpolation = 'nearest')\n",
    "axs[1,0].imshow(LDPclient.release_DiscLapU(20)[1], cmap = 'hot', interpolation = 'nearest')\n",
    "axs[1,1].imshow(LDPclient.release_DiscLapU(50)[1], cmap = 'hot', interpolation = 'nearest')"
   ]
  },
  {
   "cell_type": "code",
   "execution_count": 45,
   "metadata": {},
   "outputs": [
    {
     "name": "stderr",
     "output_type": "stream",
     "text": [
      "C:\\Users\\Jongmin\\AppData\\Local\\Temp\\ipykernel_13600\\1939938785.py:4: UserWarning: To copy construct from a tensor, it is recommended to use sourceTensor.clone().detach() or sourceTensor.clone().detach().requires_grad_(True), rather than torch.tensor(sourceTensor).\n",
      "  torch.tensor(LDPclient.release_genRR(0.5)[1]),\n",
      "C:\\Users\\Jongmin\\AppData\\Local\\Temp\\ipykernel_13600\\1939938785.py:12: UserWarning: To copy construct from a tensor, it is recommended to use sourceTensor.clone().detach() or sourceTensor.clone().detach().requires_grad_(True), rather than torch.tensor(sourceTensor).\n",
      "  torch.tensor(LDPclient.release_genRR(1)[1]),\n",
      "C:\\Users\\Jongmin\\AppData\\Local\\Temp\\ipykernel_13600\\1939938785.py:20: UserWarning: To copy construct from a tensor, it is recommended to use sourceTensor.clone().detach() or sourceTensor.clone().detach().requires_grad_(True), rather than torch.tensor(sourceTensor).\n",
      "  torch.tensor(LDPclient.release_genRR(20)[1]),\n",
      "C:\\Users\\Jongmin\\AppData\\Local\\Temp\\ipykernel_13600\\1939938785.py:28: UserWarning: To copy construct from a tensor, it is recommended to use sourceTensor.clone().detach() or sourceTensor.clone().detach().requires_grad_(True), rather than torch.tensor(sourceTensor).\n",
      "  torch.tensor(LDPclient.release_genRR(20)[1]),\n"
     ]
    },
    {
     "data": {
      "text/plain": [
       "<matplotlib.image.AxesImage at 0x2a9ca1cc3a0>"
      ]
     },
     "execution_count": 45,
     "metadata": {},
     "output_type": "execute_result"
    },
    {
     "data": {
      "image/png": "[encoded data removed]",
      "text/plain": [
       "<Figure size 640x480 with 4 Axes>"
      ]
     },
     "metadata": {},
     "output_type": "display_data"
    }
   ],
   "source": [
    "fig, axs = plt.subplots(2,2)\n",
    "axs[0,0].imshow(\n",
    "    torch.nn.functional.one_hot(\n",
    "        torch.tensor(LDPclient.release_genRR(0.5)[1]),\n",
    "        4\n",
    "        ),\n",
    "    cmap = 'hot', interpolation = 'nearest'\n",
    ")\n",
    "\n",
    "axs[0,1].imshow(\n",
    "    torch.nn.functional.one_hot(\n",
    "        torch.tensor(LDPclient.release_genRR(1)[1]),\n",
    "        4\n",
    "        ),\n",
    "    cmap = 'hot', interpolation = 'nearest'\n",
    ")\n",
    "\n",
    "axs[1,0].imshow(\n",
    "    torch.nn.functional.one_hot(\n",
    "        torch.tensor(LDPclient.release_genRR(20)[1]),\n",
    "        4\n",
    "        ),\n",
    "    cmap = 'hot', interpolation = 'nearest'\n",
    ")\n",
    "\n",
    "axs[1,1].imshow(\n",
    "    torch.nn.functional.one_hot(\n",
    "        torch.tensor(LDPclient.release_genRR(20)[1]),\n",
    "        4\n",
    "        ),\n",
    "    cmap = 'hot', interpolation = 'nearest'\n",
    ")"
   ]
  },
  {
   "cell_type": "code",
   "execution_count": 46,
   "metadata": {},
   "outputs": [
    {
     "name": "stderr",
     "output_type": "stream",
     "text": [
      "C:\\Users\\Jongmin\\AppData\\Local\\Temp\\ipykernel_13600\\4008632034.py:2: UserWarning: To copy construct from a tensor, it is recommended to use sourceTensor.clone().detach() or sourceTensor.clone().detach().requires_grad_(True), rather than torch.tensor(sourceTensor).\n",
      "  axs[0,0].imshow(torch.tensor(LDPclient.release_bitFlip(0.5)[1]),cmap = 'hot', interpolation = 'nearest')\n",
      "C:\\Users\\Jongmin\\AppData\\Local\\Temp\\ipykernel_13600\\4008632034.py:3: UserWarning: To copy construct from a tensor, it is recommended to use sourceTensor.clone().detach() or sourceTensor.clone().detach().requires_grad_(True), rather than torch.tensor(sourceTensor).\n",
      "  axs[0,1].imshow(torch.tensor(LDPclient.release_bitFlip(1)[1]),cmap = 'hot', interpolation = 'nearest')\n",
      "C:\\Users\\Jongmin\\AppData\\Local\\Temp\\ipykernel_13600\\4008632034.py:4: UserWarning: To copy construct from a tensor, it is recommended to use sourceTensor.clone().detach() or sourceTensor.clone().detach().requires_grad_(True), rather than torch.tensor(sourceTensor).\n",
      "  axs[1,0].imshow(torch.tensor(LDPclient.release_bitFlip(10)[1]),cmap = 'hot', interpolation = 'nearest')\n",
      "C:\\Users\\Jongmin\\AppData\\Local\\Temp\\ipykernel_13600\\4008632034.py:5: UserWarning: To copy construct from a tensor, it is recommended to use sourceTensor.clone().detach() or sourceTensor.clone().detach().requires_grad_(True), rather than torch.tensor(sourceTensor).\n",
      "  axs[1,1].imshow(torch.tensor(LDPclient.release_bitFlip(10)[1]),cmap = 'hot', interpolation = 'nearest')\n"
     ]
    },
    {
     "data": {
      "text/plain": [
       "<matplotlib.image.AxesImage at 0x2a9cb390fa0>"
      ]
     },
     "execution_count": 46,
     "metadata": {},
     "output_type": "execute_result"
    },
    {
     "data": {
      "image/png": "[encoded data removed]",
      "text/plain": [
       "<Figure size 640x480 with 4 Axes>"
      ]
     },
     "metadata": {},
     "output_type": "display_data"
    }
   ],
   "source": [
    "fig, axs = plt.subplots(2,2)\n",
    "axs[0,0].imshow(torch.tensor(LDPclient.release_bitFlip(0.5)[1]),cmap = 'hot', interpolation = 'nearest')\n",
    "axs[0,1].imshow(torch.tensor(LDPclient.release_bitFlip(1)[1]),cmap = 'hot', interpolation = 'nearest')\n",
    "axs[1,0].imshow(torch.tensor(LDPclient.release_bitFlip(10)[1]),cmap = 'hot', interpolation = 'nearest')\n",
    "axs[1,1].imshow(torch.tensor(LDPclient.release_bitFlip(10)[1]),cmap = 'hot', interpolation = 'nearest')\n"
   ]
  },
  {
   "cell_type": "code",
   "execution_count": 57,
   "metadata": {},
   "outputs": [],
   "source": [
    "a = (LDPclient.release_bitFlip(0.5)[1]).mean(axis=0).view([4,1])\n",
    "device.type == \"cpu\""
   ]
  },
  {
   "cell_type": "code",
   "execution_count": 12,
   "metadata": {},
   "outputs": [
    {
     "data": {
      "text/plain": [
       "tensor([[ 0.1667, -0.1667, -0.1667],\n",
       "        [-0.1667,  0.1667, -0.1667],\n",
       "        [-0.1667, -0.1667,  0.1667]])"
      ]
     },
     "execution_count": 12,
     "metadata": {},
     "output_type": "execute_result"
    }
   ],
   "source": [
    "import numpy\n",
    "torch.tensor(numpy.linalg.inv(torch.eye(3) - torch.ones(torch.Size([3,3])).numpy())).div(3)"
   ]
  },
  {
   "cell_type": "code",
   "execution_count": 6,
   "metadata": {},
   "outputs": [
    {
     "ename": "RuntimeError",
     "evalue": "Calling torch.linalg.lu_factor on a CPU tensor requires compiling PyTorch with LAPACK. Please use PyTorch built with LAPACK support.",
     "output_type": "error",
     "traceback": [
      "\u001b[1;31m---------------------------------------------------------------------------\u001b[0m",
      "\u001b[1;31mRuntimeError\u001b[0m                              Traceback (most recent call last)",
      "\u001b[1;32mc:\\Users\\Jongmin\\Documents\\GitHub\\LDPUts\\playground.ipynb Cell 25\u001b[0m line \u001b[0;36m1\n\u001b[1;32m----> <a href='vscode-notebook-cell:/c%3A/Users/Jongmin/Documents/GitHub/LDPUts/playground.ipynb#X46sZmlsZQ%3D%3D?line=0'>1</a>\u001b[0m torch\u001b[39m.\u001b[39;49mones(torch\u001b[39m.\u001b[39;49mSize([\u001b[39m3\u001b[39;49m,\u001b[39m3\u001b[39;49m]))\u001b[39m.\u001b[39;49minverse()\n",
      "\u001b[1;31mRuntimeError\u001b[0m: Calling torch.linalg.lu_factor on a CPU tensor requires compiling PyTorch with LAPACK. Please use PyTorch built with LAPACK support."
     ]
    }
   ],
   "source": [
    "torch.ones(torch.Size([3,3])).inverse().div()"
   ]
  },
  {
   "cell_type": "code",
   "execution_count": null,
   "metadata": {},
   "outputs": [],
   "source": [
    "axs[0,1].imshow(torch.nn.functional.one_hot(torch.tensor(LDPclient.release_genRR(1), 16)), cmap = 'hot', interpolation = 'nearest')\n",
    "axs[1,0].imshow(torch.nn.functional.one_hot(torch.tensor(LDPclient.release_genRR(10), 16)), cmap = 'hot', interpolation = 'nearest')\n",
    "axs[1,1].imshow(torch.nn.functional.one_hot(torch.tensor(LDPclient.release_genRR(100), 16)), cmap = 'hot', interpolation = 'nearest')"
   ]
  },
  {
   "cell_type": "code",
   "execution_count": 9,
   "metadata": {},
   "outputs": [
    {
     "data": {
      "text/plain": [
       "<matplotlib.image.AxesImage at 0x1b93f22ee20>"
      ]
     },
     "execution_count": 9,
     "metadata": {},
     "output_type": "execute_result"
    },
    {
     "data": {
      "image/png": "[encoded data removed]",
      "text/plain": [
       "<Figure size 640x480 with 4 Axes>"
      ]
     },
     "metadata": {},
     "output_type": "display_data"
    }
   ],
   "source": [
    "fig, axs = plt.subplots(2,2)\n",
    "axs[0,0].imshow(LDPclient.release_DiscLapU(0.5)[1], cmap = 'hot', interpolation = 'nearest')\n",
    "axs[0,1].imshow(LDPclient.release_DiscLapU(1)[1], cmap = 'hot', interpolation = 'nearest')\n",
    "axs[1,0].imshow(LDPclient.release_DiscLapU(10)[1], cmap = 'hot', interpolation = 'nearest')\n",
    "axs[1,1].imshow(LDPclient.release_DiscLapU(100)[1], cmap = 'hot', interpolation = 'nearest')\n",
    "\n"
   ]
  }
 ],
 "metadata": {
  "kernelspec": {
   "display_name": "Python 3 (ipykernel)",
   "language": "python",
   "name": "python3"
  },
  "language_info": {
   "codemirror_mode": {
    "name": "ipython",
    "version": 3
   },
   "file_extension": ".py",
   "mimetype": "text/x-python",
   "name": "python",
   "nbconvert_exporter": "python",
   "pygments_lexer": "ipython3",
   "version": "3.8.16"
  }
 },
 "nbformat": 4,
 "nbformat_minor": 4
}
