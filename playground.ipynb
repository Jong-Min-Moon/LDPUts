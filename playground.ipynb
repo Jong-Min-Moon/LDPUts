{
 "cells": [
  {
   "cell_type": "code",
   "execution_count": 1,
   "metadata": {},
   "outputs": [],
   "source": [
    "from discretizer import discretizer\n",
    "from privacy_mechanism import LapU, discLapU\n",
    "import torch\n",
    "device = torch.device(\"cpu\")\n",
    "import matplotlib.pyplot as plt"
   ]
  },
  {
   "cell_type": "markdown",
   "metadata": {},
   "source": [
    "# testing the discretizer"
   ]
  },
  {
   "cell_type": "code",
   "execution_count": 2,
   "metadata": {},
   "outputs": [
    {
     "data": {
      "text/plain": [
       "tensor([ 0,  1,  2,  3,  4,  5,  6,  7,  8,  9, 10, 11, 12, 13, 14, 15])"
      ]
     },
     "execution_count": 2,
     "metadata": {},
     "output_type": "execute_result"
    }
   ],
   "source": [
    "data_conti = torch.tensor([\n",
    "    [0, 0, 0, 0],\n",
    "    [0, 0, 0, 0.6],\n",
    "    [0, 0, 0.6, 0],\n",
    "    [0, 0, 0.6, 0.6],\n",
    "    [0, 0.6, 0, 0],\n",
    "    [0, 0.6, 0, 0.6],\n",
    "    [0, 0.6, 0.6, 0],\n",
    "    [0, 0.6, 0.6, 0.6],   \n",
    "    [0.6, 0, 0, 0],\n",
    "    [0.6, 0, 0, 0.6],\n",
    "    [0.6, 0, 0.6, 0],\n",
    "    [0.6, 0, 0.6, 0.6],\n",
    "    [0.6, 0.6, 0, 0],\n",
    "    [0.6, 0.6, 0, 0.6],\n",
    "    [0.6, 0.6, 0.6, 0],\n",
    "    [0.6, 0.6, 0.6, 0.6],\n",
    "])\n",
    "dsc = discretizer(device)\n",
    "data_disc, n_category = dsc.transform(data_conti, 2)\n",
    "data_disc"
   ]
  },
  {
   "cell_type": "markdown",
   "metadata": {},
   "source": [
    "# testing the LapU for discrete data"
   ]
  },
  {
   "cell_type": "code",
   "execution_count": 3,
   "metadata": {},
   "outputs": [
    {
     "data": {
      "text/plain": [
       "<matplotlib.image.AxesImage at 0x1c6f4cf1ca0>"
      ]
     },
     "execution_count": 3,
     "metadata": {},
     "output_type": "execute_result"
    },
    {
     "data": {
      "image/png": "[encoded data removed]",
      "text/plain": [
       "<Figure size 640x480 with 4 Axes>"
      ]
     },
     "metadata": {},
     "output_type": "display_data"
    }
   ],
   "source": [
    "laputest = LapU(device)\n",
    "fig, axs = plt.subplots(2,2)\n",
    "axs[0,0].imshow(laputest.privatize(data_disc, n_category, 0.1), cmap = 'hot', interpolation = 'nearest')\n",
    "axs[0,1].imshow(laputest.privatize(data_disc, n_category, 1.0), cmap = 'hot', interpolation = 'nearest')\n",
    "axs[1,0].imshow(laputest.privatize(data_disc, n_category, 10), cmap = 'hot', interpolation = 'nearest')\n",
    "axs[1,1].imshow(laputest.privatize(data_disc, n_category, 1000), cmap = 'hot', interpolation = 'nearest')"
   ]
  },
  {
   "cell_type": "code",
   "execution_count": 5,
   "metadata": {},
   "outputs": [
    {
     "data": {
      "text/plain": [
       "<matplotlib.image.AxesImage at 0x1c6f59bca00>"
      ]
     },
     "execution_count": 5,
     "metadata": {},
     "output_type": "execute_result"
    },
    {
     "data": {
      "image/png": "[encoded data removed]",
      "text/plain": [
       "<Figure size 640x480 with 4 Axes>"
      ]
     },
     "metadata": {},
     "output_type": "display_data"
    }
   ],
   "source": [
    "disclaputest = discLapU(device)\n",
    "fig, axs = plt.subplots(2,2)\n",
    "disclaputest.privatize(data_disc, n_category, 0.1)\n",
    "axs[0,0].imshow(disclaputest.privatize(data_disc, n_category, 0.1), cmap = 'hot', interpolation = 'nearest')\n",
    "axs[0,1].imshow(disclaputest.privatize(data_disc, n_category, 1.0), cmap = 'hot', interpolation = 'nearest')\n",
    "axs[1,0].imshow(disclaputest.privatize(data_disc, n_category, 10), cmap = 'hot', interpolation = 'nearest')\n",
    "axs[1,1].imshow(disclaputest.privatize(data_disc, n_category, 1000), cmap = 'hot', interpolation = 'nearest')"
   ]
  },
  {
   "cell_type": "code",
   "execution_count": 50,
   "metadata": {},
   "outputs": [
    {
     "data": {
      "text/plain": [
       "tensor([0])"
      ]
     },
     "execution_count": 50,
     "metadata": {},
     "output_type": "execute_result"
    }
   ],
   "source": [
    "torch.multinomial(torch.tensor([1/2,1/2]), 1)"
   ]
  },
  {
   "cell_type": "code",
   "execution_count": 24,
   "metadata": {},
   "outputs": [
    {
     "ename": "IndentationError",
     "evalue": "unexpected indent (2434617784.py, line 3)",
     "output_type": "error",
     "traceback": [
      "\u001b[1;36m  Cell \u001b[1;32mIn[24], line 3\u001b[1;36m\u001b[0m\n\u001b[1;33m    return(torch.nn.functional.one_hot(data_multinomial, alphabet_size))\u001b[0m\n\u001b[1;37m    ^\u001b[0m\n\u001b[1;31mIndentationError\u001b[0m\u001b[1;31m:\u001b[0m unexpected indent\n"
     ]
    }
   ],
   "source": [
    "weights = torch.tensor([0, 10, 3, 0], dtype=torch.float) # create a tensor of weights\n",
    "multi = torch.multinomial(weights, 2)\n",
    " return(torch.nn.functional.one_hot(data_multinomial, alphabet_size))"
   ]
  },
  {
   "cell_type": "code",
   "execution_count": 10,
   "metadata": {},
   "outputs": [
    {
     "data": {
      "text/plain": [
       "tensor([3, 1, 1, 0])"
      ]
     },
     "execution_count": 10,
     "metadata": {},
     "output_type": "execute_result"
    }
   ],
   "source": [
    "\n"
   ]
  },
  {
   "cell_type": "code",
   "execution_count": null,
   "metadata": {},
   "outputs": [],
   "source": [
    "torch.nn.functional.one_hot(multi_sample, 4)"
   ]
  },
  {
   "cell_type": "code",
   "execution_count": 3,
   "metadata": {},
   "outputs": [],
   "source": []
  },
  {
   "cell_type": "code",
   "execution_count": 4,
   "metadata": {},
   "outputs": [
    {
     "ename": "RuntimeError",
     "evalue": "Class values must be smaller than num_classes.",
     "output_type": "error",
     "traceback": [
      "\u001b[1;31m---------------------------------------------------------------------------\u001b[0m",
      "\u001b[1;31mRuntimeError\u001b[0m                              Traceback (most recent call last)",
      "Cell \u001b[1;32mIn[4], line 1\u001b[0m\n\u001b[1;32m----> 1\u001b[0m laputest\u001b[39m.\u001b[39;49mprivatize(a, \u001b[39m3\u001b[39;49m, \u001b[39m0.5\u001b[39;49m)\n",
      "File \u001b[1;32mc:\\Users\\Jongmin\\Documents\\GitHub\\LDPUts\\privacy_mechanism.py:10\u001b[0m, in \u001b[0;36mLapU.privatize\u001b[1;34m(self, data_mutinomial, alphabet_size, privacy_level)\u001b[0m\n\u001b[0;32m      9\u001b[0m \u001b[39mdef\u001b[39;00m \u001b[39mprivatize\u001b[39m(\u001b[39mself\u001b[39m, data_mutinomial, alphabet_size, privacy_level):\n\u001b[1;32m---> 10\u001b[0m     data_onehot \u001b[39m=\u001b[39m \u001b[39mself\u001b[39;49m\u001b[39m.\u001b[39;49mtransform_onehot(data_mutinomial, alphabet_size)\n\u001b[0;32m     11\u001b[0m     laplace_scale \u001b[39m=\u001b[39m torch\u001b[39m.\u001b[39mtensor(\u001b[39m2\u001b[39m\u001b[39m*\u001b[39malphabet_size)\u001b[39m.\u001b[39msqrt()\u001b[39m.\u001b[39mmul(\u001b[39m2\u001b[39m)\u001b[39m.\u001b[39mdiv(privacy_level)\u001b[39m.\u001b[39mto(\u001b[39mself\u001b[39m\u001b[39m.\u001b[39mcuda_device) \u001b[39m#sigma_alpha in the paper\u001b[39;00m\n\u001b[0;32m     12\u001b[0m     sample_size \u001b[39m=\u001b[39m \u001b[39mself\u001b[39m\u001b[39m.\u001b[39mget_sample_size(data_mutinomial)\u001b[39m.\u001b[39mto(\u001b[39mself\u001b[39m\u001b[39m.\u001b[39mcuda_device)\n",
      "File \u001b[1;32mc:\\Users\\Jongmin\\Documents\\GitHub\\LDPUts\\privacy_mechanism.py:34\u001b[0m, in \u001b[0;36mLapU.transform_onehot\u001b[1;34m(self, data_multinomial, alphabet_size)\u001b[0m\n\u001b[0;32m     33\u001b[0m \u001b[39mdef\u001b[39;00m \u001b[39mtransform_onehot\u001b[39m(\u001b[39mself\u001b[39m, data_multinomial, alphabet_size):\n\u001b[1;32m---> 34\u001b[0m     \u001b[39mreturn\u001b[39;00m(torch\u001b[39m.\u001b[39;49mnn\u001b[39m.\u001b[39;49mfunctional\u001b[39m.\u001b[39;49mone_hot(data_multinomial, alphabet_size))\n",
      "\u001b[1;31mRuntimeError\u001b[0m: Class values must be smaller than num_classes."
     ]
    }
   ],
   "source": []
  }
 ],
 "metadata": {
  "kernelspec": {
   "display_name": "LAPUTS",
   "language": "python",
   "name": "python3"
  },
  "language_info": {
   "codemirror_mode": {
    "name": "ipython",
    "version": 3
   },
   "file_extension": ".py",
   "mimetype": "text/x-python",
   "name": "python",
   "nbconvert_exporter": "python",
   "pygments_lexer": "ipython3",
   "version": "3.8.16"
  },
  "orig_nbformat": 4
 },
 "nbformat": 4,
 "nbformat_minor": 2
}
