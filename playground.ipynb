{
 "cells": [
  {
   "cell_type": "code",
   "execution_count": 1,
   "metadata": {},
   "outputs": [],
   "source": [
    "from discretizer import discretizer\n",
    "from client import client\n",
    "import torch\n",
    "device = torch.device(\"cpu\")\n",
    "import matplotlib.pyplot as plt"
   ]
  },
  {
   "cell_type": "markdown",
   "metadata": {},
   "source": [
    "# testing the discretizer"
   ]
  },
  {
   "cell_type": "code",
   "execution_count": 2,
   "metadata": {},
   "outputs": [
    {
     "data": {
      "text/plain": [
       "tensor([ 0,  1,  2,  3,  4,  5,  6,  7,  8,  9, 10, 11, 12, 13, 14, 15])"
      ]
     },
     "execution_count": 2,
     "metadata": {},
     "output_type": "execute_result"
    }
   ],
   "source": [
    "data_conti = torch.tensor([\n",
    "    [0, 0, 0, 0],\n",
    "    [0, 0, 0, 0.6],\n",
    "    [0, 0, 0.6, 0],\n",
    "    [0, 0, 0.6, 0.6],\n",
    "    [0, 0.6, 0, 0],\n",
    "    [0, 0.6, 0, 0.6],\n",
    "    [0, 0.6, 0.6, 0],\n",
    "    [0, 0.6, 0.6, 0.6],   \n",
    "    [0.6, 0, 0, 0],\n",
    "    [0.6, 0, 0, 0.6],\n",
    "    [0.6, 0, 0.6, 0],\n",
    "    [0.6, 0, 0.6, 0.6],\n",
    "    [0.6, 0.6, 0, 0],\n",
    "    [0.6, 0.6, 0, 0.6],\n",
    "    [0.6, 0.6, 0.6, 0],\n",
    "    [0.6, 0.6, 0.6, 0.6],\n",
    "])\n",
    "dsc = discretizer(device)\n",
    "data_disc, n_category = dsc.transform(data_conti, 2)\n",
    "data_disc\n",
    "\n",
    "LDPclient = client(device)\n",
    "LDPclient.load_data_disc(data_disc, n_category)"
   ]
  },
  {
   "cell_type": "code",
   "execution_count": 3,
   "metadata": {},
   "outputs": [],
   "source": []
  },
  {
   "cell_type": "markdown",
   "metadata": {},
   "source": [
    "# testing the LapU for discrete data"
   ]
  },
  {
   "cell_type": "code",
   "execution_count": 19,
   "metadata": {},
   "outputs": [
    {
     "data": {
      "text/plain": [
       "<matplotlib.image.AxesImage at 0x20562a2d6a0>"
      ]
     },
     "execution_count": 19,
     "metadata": {},
     "output_type": "execute_result"
    },
    {
     "data": {
      "image/png": "[encoded data removed]",
      "text/plain": [
       "<Figure size 640x480 with 4 Axes>"
      ]
     },
     "metadata": {},
     "output_type": "display_data"
    }
   ],
   "source": [
    "\n",
    "\n",
    "fig, axs = plt.subplots(2,2)\n",
    "axs[0,0].imshow(LDPclient.release_LapU(0.5), cmap = 'hot', interpolation = 'nearest')\n",
    "axs[0,1].imshow(LDPclient.release_LapU(1), cmap = 'hot', interpolation = 'nearest')\n",
    "axs[1,0].imshow(LDPclient.release_LapU(10), cmap = 'hot', interpolation = 'nearest')\n",
    "axs[1,1].imshow(LDPclient.release_LapU(100), cmap = 'hot', interpolation = 'nearest')"
   ]
  },
  {
   "cell_type": "code",
   "execution_count": 63,
   "metadata": {},
   "outputs": [
    {
     "data": {
      "text/plain": [
       "<matplotlib.image.AxesImage at 0x205000cfdc0>"
      ]
     },
     "execution_count": 63,
     "metadata": {},
     "output_type": "execute_result"
    },
    {
     "data": {
      "image/png": "[encoded data removed]",
      "text/plain": [
       "<Figure size 640x480 with 4 Axes>"
      ]
     },
     "metadata": {},
     "output_type": "display_data"
    }
   ],
   "source": [
    "fig, axs = plt.subplots(2,2)\n",
    "axs[0,0].imshow(LDPclient.release_DiscLapU(0.5), cmap = 'hot', interpolation = 'nearest')\n",
    "axs[0,1].imshow(LDPclient.release_DiscLapU(1), cmap = 'hot', interpolation = 'nearest')\n",
    "axs[1,0].imshow(LDPclient.release_DiscLapU(10), cmap = 'hot', interpolation = 'nearest')\n",
    "axs[1,1].imshow(LDPclient.release_DiscLapU(100), cmap = 'hot', interpolation = 'nearest')"
   ]
  },
  {
   "cell_type": "code",
   "execution_count": 62,
   "metadata": {},
   "outputs": [
    {
     "data": {
      "text/plain": [
       "tensor([[ 4.0000e+00,  2.6736e-07,  1.3380e-06, -2.4073e-07, -1.4153e-06,\n",
       "         -6.0091e-07,  1.5218e-06,  2.7815e-09, -3.0392e-07, -1.5737e-06,\n",
       "         -1.1376e-06,  7.0810e-07, -1.0906e-06,  2.1868e-08, -1.2933e-06,\n",
       "         -1.0831e-06]])"
      ]
     },
     "execution_count": 62,
     "metadata": {},
     "output_type": "execute_result"
    }
   ],
   "source": [
    "fig, axs = plt.subplots(2,2)\n",
    "axs[0,0].imshow(LDPclient.release_genRR(0.5), cmap = 'hot', interpolation = 'nearest')\n",
    "axs[0,1].imshow(LDPclient.release_DiscLapU(1), cmap = 'hot', interpolation = 'nearest')\n",
    "axs[1,0].imshow(LDPclient.release_DiscLapU(10), cmap = 'hot', interpolation = 'nearest')\n",
    "axs[1,1].imshow(LDPclient.release_DiscLapU(100), cmap = 'hot', interpolation = 'nearest')"
   ]
  },
  {
   "cell_type": "code",
   "execution_count": 47,
   "metadata": {},
   "outputs": [
    {
     "data": {
      "text/plain": [
       "tensor([ 4.0279e+00,  4.9548e-03, -7.0376e-03,  2.2084e-02,  1.9726e-02,\n",
       "        -1.3334e-02, -4.7217e-04,  4.1203e-02, -2.4079e-02,  1.9621e-02,\n",
       "        -2.0523e-02,  2.1427e-02, -2.2096e-02,  4.8715e-03,  1.0381e-02,\n",
       "         2.1848e-02])"
      ]
     },
     "execution_count": 47,
     "metadata": {},
     "output_type": "execute_result"
    }
   ],
   "source": []
  },
  {
   "cell_type": "code",
   "execution_count": 25,
   "metadata": {},
   "outputs": [
    {
     "ename": "IndexError",
     "evalue": "Dimension out of range (expected to be in range of [-2, 1], but got 2)",
     "output_type": "error",
     "traceback": [
      "\u001b[1;31m---------------------------------------------------------------------------\u001b[0m",
      "\u001b[1;31mIndexError\u001b[0m                                Traceback (most recent call last)",
      "Cell \u001b[1;32mIn[25], line 1\u001b[0m\n\u001b[1;32m----> 1\u001b[0m LDPclient\u001b[39m.\u001b[39;49mrelease_LapU(\u001b[39m0.5\u001b[39;49m)\u001b[39m.\u001b[39;49mmean(axis\u001b[39m=\u001b[39;49m\u001b[39m2\u001b[39;49m)\n",
      "\u001b[1;31mIndexError\u001b[0m: Dimension out of range (expected to be in range of [-2, 1], but got 2)"
     ]
    }
   ],
   "source": [
    "LDPclient.release_LapU(0.5).mean(axis=1)"
   ]
  },
  {
   "cell_type": "code",
   "execution_count": 21,
   "metadata": {},
   "outputs": [
    {
     "data": {
      "text/plain": [
       "<matplotlib.image.AxesImage at 0x2056a6a3e20>"
      ]
     },
     "execution_count": 21,
     "metadata": {},
     "output_type": "execute_result"
    },
    {
     "data": {
      "image/png": "[encoded data removed]",
      "text/plain": [
       "<Figure size 640x480 with 4 Axes>"
      ]
     },
     "metadata": {},
     "output_type": "display_data"
    }
   ],
   "source": [
    "fig, axs = plt.subplots(2,2)\n",
    "axs[0,0].imshow(LDPclient.release_DiscLapU(0.5), cmap = 'hot', interpolation = 'nearest')\n",
    "axs[0,1].imshow(LDPclient.release_DiscLapU(1), cmap = 'hot', interpolation = 'nearest')\n",
    "axs[1,0].imshow(LDPclient.release_DiscLapU(10), cmap = 'hot', interpolation = 'nearest')\n",
    "axs[1,1].imshow(LDPclient.release_DiscLapU(100), cmap = 'hot', interpolation = 'nearest')\n",
    "\n"
   ]
  },
  {
   "cell_type": "code",
   "execution_count": 5,
   "metadata": {},
   "outputs": [
    {
     "data": {
      "text/plain": [
       "<matplotlib.image.AxesImage at 0x1c6f59bca00>"
      ]
     },
     "execution_count": 5,
     "metadata": {},
     "output_type": "execute_result"
    },
    {
     "data": {
      "image/png": "[encoded data removed]",
      "text/plain": [
       "<Figure size 640x480 with 4 Axes>"
      ]
     },
     "metadata": {},
     "output_type": "display_data"
    }
   ],
   "source": [
    "disclaputest = discLapU(device)\n",
    "fig, axs = plt.subplots(2,2)\n",
    "disclaputest.privatize(data_disc, n_category, 0.1)\n",
    "axs[0,0].imshow(disclaputest.privatize(data_disc, n_category, 0.1), cmap = 'hot', interpolation = 'nearest')\n",
    "axs[0,1].imshow(disclaputest.privatize(data_disc, n_category, 1.0), cmap = 'hot', interpolation = 'nearest')\n",
    "axs[1,0].imshow(disclaputest.privatize(data_disc, n_category, 10), cmap = 'hot', interpolation = 'nearest')\n",
    "axs[1,1].imshow(disclaputest.privatize(data_disc, n_category, 1000), cmap = 'hot', interpolation = 'nearest')"
   ]
  },
  {
   "cell_type": "code",
   "execution_count": null,
   "metadata": {},
   "outputs": [],
   "source": [
    "data_onehot = self._transform_onehot(data_disc, n_category)\n"
   ]
  },
  {
   "cell_type": "code",
   "execution_count": 66,
   "metadata": {},
   "outputs": [
    {
     "data": {
      "text/plain": [
       "tensor([[1., 1.],\n",
       "        [1., 1.],\n",
       "        [1., 1.],\n",
       "        [1., 1.],\n",
       "        [1., 1.]])"
      ]
     },
     "execution_count": 66,
     "metadata": {},
     "output_type": "execute_result"
    }
   ],
   "source": [
    "        data_onehot = self._transform_onehot(data_disc, n_category)\n",
    "        one_matrix = torch.zeros(size = torch.Size([sample_size, alphabet_size])).add(1)\n",
    "        bias = torch.tensor(privacy_level).exp()\n",
    "        bias_matrix = data_onehot.mul(bias).add(one_matrix).sub(data_onehot)\n",
    "\n",
    "        p = 1 / ( torch.tensor(privacy_level).exp().add(alphabet_size - 1) )\n",
    "        p = torch.zeros(size = torch.Size([sample_size, alphabet_size])).add(1).mul(p)\n",
    "        p = p.mul(bias_matrix)"
   ]
  },
  {
   "cell_type": "code",
   "execution_count": 24,
   "metadata": {},
   "outputs": [
    {
     "ename": "IndentationError",
     "evalue": "unexpected indent (2434617784.py, line 3)",
     "output_type": "error",
     "traceback": [
      "\u001b[1;36m  Cell \u001b[1;32mIn[24], line 3\u001b[1;36m\u001b[0m\n\u001b[1;33m    return(torch.nn.functional.one_hot(data_multinomial, alphabet_size))\u001b[0m\n\u001b[1;37m    ^\u001b[0m\n\u001b[1;31mIndentationError\u001b[0m\u001b[1;31m:\u001b[0m unexpected indent\n"
     ]
    }
   ],
   "source": [
    "weights = torch.tensor([0, 10, 3, 0], dtype=torch.float) # create a tensor of weights\n",
    "multi = torch.multinomial(weights, 2)\n",
    " return(torch.nn.functional.one_hot(data_multinomial, alphabet_size))"
   ]
  },
  {
   "cell_type": "code",
   "execution_count": 69,
   "metadata": {},
   "outputs": [
    {
     "data": {
      "text/plain": [
       "tensor([0, 0, 0,  ..., 0, 0, 0])"
      ]
     },
     "execution_count": 69,
     "metadata": {},
     "output_type": "execute_result"
    }
   ],
   "source": [
    "data_disc"
   ]
  },
  {
   "cell_type": "code",
   "execution_count": 67,
   "metadata": {},
   "outputs": [
    {
     "ename": "NameError",
     "evalue": "name 'multi_sample' is not defined",
     "output_type": "error",
     "traceback": [
      "\u001b[1;31m---------------------------------------------------------------------------\u001b[0m",
      "\u001b[1;31mNameError\u001b[0m                                 Traceback (most recent call last)",
      "Cell \u001b[1;32mIn[67], line 1\u001b[0m\n\u001b[1;32m----> 1\u001b[0m torch\u001b[39m.\u001b[39mnn\u001b[39m.\u001b[39mfunctional\u001b[39m.\u001b[39mone_hot(multi_sample, \u001b[39m4\u001b[39m)\n",
      "\u001b[1;31mNameError\u001b[0m: name 'multi_sample' is not defined"
     ]
    }
   ],
   "source": [
    "torch.nn.functional.one_hot(multi_sample, 4)"
   ]
  },
  {
   "cell_type": "code",
   "execution_count": 3,
   "metadata": {},
   "outputs": [],
   "source": []
  },
  {
   "cell_type": "code",
   "execution_count": 70,
   "metadata": {},
   "outputs": [
    {
     "data": {
      "text/plain": [
       "tensor([0., 0., 0.,  ..., 0., 0., 0.])"
      ]
     },
     "execution_count": 70,
     "metadata": {},
     "output_type": "execute_result"
    }
   ],
   "source": [
    "data_conti.view(-1)"
   ]
  }
 ],
 "metadata": {
  "kernelspec": {
   "display_name": "LAPUTS",
   "language": "python",
   "name": "python3"
  },
  "language_info": {
   "codemirror_mode": {
    "name": "ipython",
    "version": 3
   },
   "file_extension": ".py",
   "mimetype": "text/x-python",
   "name": "python",
   "nbconvert_exporter": "python",
   "pygments_lexer": "ipython3",
   "version": "3.8.16"
  },
  "orig_nbformat": 4
 },
 "nbformat": 4,
 "nbformat_minor": 2
}
