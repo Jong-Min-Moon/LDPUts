{
 "cells": [
  {
   "cell_type": "code",
   "execution_count": 1,
   "metadata": {},
   "outputs": [],
   "source": [
    "from discretizer import discretizer\n",
    "from client import client\n",
    "import torch\n",
    "device = torch.device(\"cuda:0\" if torch.cuda.is_available() else \"cpu\")\n",
    "import matplotlib.pyplot as plt\n",
    "from server import server_twosample_U, server_twosample_chi\n",
    "from data_generator import data_generator\n",
    "import time"
   ]
  },
  {
   "cell_type": "code",
   "execution_count": 37,
   "metadata": {},
   "outputs": [
    {
     "data": {
      "text/plain": [
       "device(type='cpu')"
      ]
     },
     "execution_count": 37,
     "metadata": {},
     "output_type": "execute_result"
    }
   ],
   "source": [
    "device"
   ]
  },
  {
   "cell_type": "code",
   "execution_count": 48,
   "metadata": {},
   "outputs": [
    {
     "data": {
      "text/plain": [
       "tensor([[0., 0., 0., 1., 0.],\n",
       "        [0., 0., 0., 1., 0.]])"
      ]
     },
     "execution_count": 48,
     "metadata": {},
     "output_type": "execute_result"
    }
   ],
   "source": [
    "p = torch.tensor([0.3]).to(device)\n",
    "m = torch.distributions.bernoulli.Bernoulli(p)\n",
    "a=m.sample((2,5)).view(2,5)\n",
    "a"
   ]
  },
  {
   "cell_type": "code",
   "execution_count": 51,
   "metadata": {},
   "outputs": [
    {
     "data": {
      "text/plain": [
       "tensor([[ 0,  0,  0, -2,  0],\n",
       "        [ 0,  0,  0, -2,  0]])"
      ]
     },
     "execution_count": 51,
     "metadata": {},
     "output_type": "execute_result"
    }
   ],
   "source": [
    "a.eq(1).mul(-2)"
   ]
  },
  {
   "cell_type": "code",
   "execution_count": 3,
   "metadata": {},
   "outputs": [],
   "source": [
    "gen = data_generator(device)"
   ]
  },
  {
   "cell_type": "code",
   "execution_count": 51,
   "metadata": {},
   "outputs": [],
   "source": [
    "p, p_priv = gen._generate_power_law_p_private(10,2.1, 0.5)"
   ]
  },
  {
   "cell_type": "code",
   "execution_count": 52,
   "metadata": {},
   "outputs": [
    {
     "data": {
      "text/plain": [
       "<BarContainer object of 10 artists>"
      ]
     },
     "execution_count": 52,
     "metadata": {},
     "output_type": "execute_result"
    },
    {
     "data": {
      "image/png": "[encoded data removed]",
      "text/plain": [
       "<Figure size 432x288 with 1 Axes>"
      ]
     },
     "metadata": {
      "needs_background": "light"
     },
     "output_type": "display_data"
    }
   ],
   "source": [
    "plt.bar(range(10), p.cpu())"
   ]
  },
  {
   "cell_type": "code",
   "execution_count": 53,
   "metadata": {},
   "outputs": [
    {
     "data": {
      "text/plain": [
       "<BarContainer object of 10 artists>"
      ]
     },
     "execution_count": 53,
     "metadata": {},
     "output_type": "execute_result"
    },
    {
     "data": {
      "image/png": "[encoded data removed]",
      "text/plain": [
       "<Figure size 432x288 with 1 Axes>"
      ]
     },
     "metadata": {
      "needs_background": "light"
     },
     "output_type": "display_data"
    }
   ],
   "source": [
    "plt.bar(range(10), p_priv.cpu())"
   ]
  },
  {
   "cell_type": "code",
   "execution_count": null,
   "metadata": {},
   "outputs": [],
   "source": []
  },
  {
   "cell_type": "code",
   "execution_count": 2,
   "metadata": {},
   "outputs": [
    {
     "data": {
      "text/plain": [
       "16.566758632659912"
      ]
     },
     "execution_count": 2,
     "metadata": {},
     "output_type": "execute_result"
    }
   ],
   "source": [
    "t = time.time()\n",
    "\n",
    "server_now = server_twosample_U(device)\n",
    "data_gen = data_generator(device)\n",
    "alphabet_size = 1000\n",
    "beta = 0.5\n",
    "privacy_level = 1\n",
    "n_test = 1\n",
    "n_permutation = 99\n",
    "significance_level = 0.05\n",
    "sample_size = 100000\n",
    "test_result = torch.zeros(n_test).to(device)\n",
    "for i in range(n_test):\n",
    "    data_y = data_gen.generate_nearly_unif(alphabet_size, beta, sample_size = sample_size)\n",
    "    data_z = data_gen.generate_nearly_unif(alphabet_size, beta, sample_size = sample_size)\n",
    "    LDPclient = client(device)\n",
    "    LDPclient.load_data_disc(data_y, data_z, alphabet_size)\n",
    "    data_y_priv, data_z_priv = LDPclient.release_LapU(privacy_level)\n",
    "    test_result[i] = server_now.release_p_value(data_y_priv, data_z_priv, n_permutation)\n",
    "    \n",
    "    \n",
    "elapsed = time.time() - t\n",
    "elapsed"
   ]
  },
  {
   "cell_type": "code",
   "execution_count": 9,
   "metadata": {},
   "outputs": [
    {
     "data": {
      "text/plain": [
       "tensor(1621, device='cuda:0')"
      ]
     },
     "execution_count": 9,
     "metadata": {},
     "output_type": "execute_result"
    }
   ],
   "source": [
    "(data_y==0).sum()"
   ]
  },
  {
   "cell_type": "code",
   "execution_count": 15,
   "metadata": {},
   "outputs": [
    {
     "data": {
      "text/plain": [
       "tensor([0, 1, 1, 0, 1, 0])"
      ]
     },
     "execution_count": 15,
     "metadata": {},
     "output_type": "execute_result"
    }
   ],
   "source": [
    "torch.tensor([1,2,4]).bincount(minlength=6)"
   ]
  },
  {
   "cell_type": "markdown",
   "metadata": {},
   "source": [
    "# performance of GenRR "
   ]
  },
  {
   "cell_type": "code",
   "execution_count": 25,
   "metadata": {},
   "outputs": [
    {
     "data": {
      "text/plain": [
       "131.28636121749878"
      ]
     },
     "execution_count": 25,
     "metadata": {},
     "output_type": "execute_result"
    }
   ],
   "source": [
    "t = time.time()\n",
    "\n",
    "server_now = server_twosample_chi(device)\n",
    "data_gen = data_generator(device)\n",
    "alphabet_size = 3000\n",
    "beta = 2.5\n",
    "privacy_level = 0.01\n",
    "n_test = 100\n",
    "sample_size = 10000\n",
    "test_result = torch.zeros(n_test).to(device)\n",
    "for i in range(n_test):\n",
    "    data_y = data_gen.generate_nearly_unif(alphabet_size, beta, sample_size = sample_size)\n",
    "    data_z = data_gen.generate_nearly_unif(alphabet_size, beta, sample_size = sample_size)\n",
    "    LDPclient = client(device)\n",
    "    LDPclient.load_data_disc(data_y, data_z, alphabet_size)\n",
    "    data_y_priv, data_z_priv = LDPclient.release_genRR(privacy_level)\n",
    "    test_result[i] = server_now.release_p_value(data_y_priv, data_z_priv, alphabet_size)\n",
    "    \n",
    "    \n",
    "elapsed = time.time() - t\n",
    "elapsed"
   ]
  },
  {
   "cell_type": "code",
   "execution_count": 24,
   "metadata": {},
   "outputs": [
    {
     "data": {
      "text/plain": [
       "tensor(0.7100, device='cuda:0')"
      ]
     },
     "execution_count": 24,
     "metadata": {},
     "output_type": "execute_result"
    }
   ],
   "source": [
    "(test_result < 0.7).sum()/n_test "
   ]
  },
  {
   "cell_type": "code",
   "execution_count": 6,
   "metadata": {},
   "outputs": [
    {
     "data": {
      "text/plain": [
       "torch.int64"
      ]
     },
     "execution_count": 6,
     "metadata": {},
     "output_type": "execute_result"
    }
   ],
   "source": [
    "data_y_priv.dtype"
   ]
  },
  {
   "cell_type": "markdown",
   "metadata": {},
   "source": [
    "# testing the discretizer"
   ]
  },
  {
   "cell_type": "code",
   "execution_count": 2,
   "metadata": {},
   "outputs": [],
   "source": [
    "data_conti = torch.tensor([\n",
    "    [0, 0, 0, 0],\n",
    "    [0, 0, 0, 0.6],\n",
    "    [0, 0, 0.6, 0],\n",
    "    [0, 0, 0.6, 0.6],\n",
    "    [0, 0.6, 0, 0],\n",
    "    [0, 0.6, 0, 0.6],\n",
    "    [0, 0.6, 0.6, 0],\n",
    "    [0, 0.6, 0.6, 0.6],   \n",
    "    [0.6, 0, 0, 0],\n",
    "    [0.6, 0, 0, 0.6],\n",
    "    [0.6, 0, 0.6, 0],\n",
    "    [0.6, 0, 0.6, 0.6],\n",
    "    [0.6, 0.6, 0, 0],\n",
    "    [0.6, 0.6, 0, 0.6],\n",
    "    [0.6, 0.6, 0.6, 0],\n",
    "    [0.6, 0.6, 0.6, 0.6],\n",
    "])\n",
    "dsc = discretizer(device)\n",
    "data_disc, n_category = dsc.transform(data_conti, 2)\n",
    "data_disc\n",
    "\n",
    "LDPclient = client(device)\n",
    "LDPclient.load_data_disc(data_disc, data_disc, n_category)"
   ]
  },
  {
   "cell_type": "markdown",
   "metadata": {},
   "source": [
    "# testing the LapU for discrete data"
   ]
  },
  {
   "cell_type": "code",
   "execution_count": 55,
   "metadata": {},
   "outputs": [
    {
     "data": {
      "text/plain": [
       "<matplotlib.image.AxesImage at 0x19e10a724f0>"
      ]
     },
     "execution_count": 55,
     "metadata": {},
     "output_type": "execute_result"
    },
    {
     "data": {
      "image/png": "[encoded data removed]",
      "text/plain": [
       "<Figure size 640x480 with 4 Axes>"
      ]
     },
     "metadata": {},
     "output_type": "display_data"
    }
   ],
   "source": [
    "fig, axs = plt.subplots(2,2)\n",
    "axs[0,0].imshow(LDPclient.release_LapU(0.5)[1], cmap = 'hot', interpolation = 'nearest')\n",
    "axs[0,1].imshow(LDPclient.release_LapU(1)[1], cmap = 'hot', interpolation = 'nearest')\n",
    "axs[1,0].imshow(LDPclient.release_LapU(10)[1], cmap = 'hot', interpolation = 'nearest')\n",
    "axs[1,1].imshow(LDPclient.release_LapU(100)[1], cmap = 'hot', interpolation = 'nearest')"
   ]
  },
  {
   "cell_type": "code",
   "execution_count": 58,
   "metadata": {},
   "outputs": [
    {
     "data": {
      "text/plain": [
       "<matplotlib.image.AxesImage at 0x19e12bb15b0>"
      ]
     },
     "execution_count": 58,
     "metadata": {},
     "output_type": "execute_result"
    },
    {
     "data": {
      "image/png": "[encoded data removed]",
      "text/plain": [
       "<Figure size 640x480 with 4 Axes>"
      ]
     },
     "metadata": {},
     "output_type": "display_data"
    }
   ],
   "source": [
    "fig, axs = plt.subplots(2,2)\n",
    "axs[0,0].imshow(LDPclient.release_DiscLapU(0.5)[1], cmap = 'hot', interpolation = 'nearest')\n",
    "axs[0,1].imshow(LDPclient.release_DiscLapU(1)[1], cmap = 'hot', interpolation = 'nearest')\n",
    "axs[1,0].imshow(LDPclient.release_DiscLapU(10)[1], cmap = 'hot', interpolation = 'nearest')\n",
    "axs[1,1].imshow(LDPclient.release_DiscLapU(100)[1], cmap = 'hot', interpolation = 'nearest')"
   ]
  },
  {
   "cell_type": "code",
   "execution_count": 3,
   "metadata": {},
   "outputs": [
    {
     "name": "stderr",
     "output_type": "stream",
     "text": [
      "C:\\Users\\Jongmin\\AppData\\Local\\Temp\\ipykernel_13600\\2887809965.py:4: UserWarning: To copy construct from a tensor, it is recommended to use sourceTensor.clone().detach() or sourceTensor.clone().detach().requires_grad_(True), rather than torch.tensor(sourceTensor).\n",
      "  torch.tensor(LDPclient.release_genRR(0.5)[1]),\n",
      "C:\\Users\\Jongmin\\AppData\\Local\\Temp\\ipykernel_13600\\2887809965.py:12: UserWarning: To copy construct from a tensor, it is recommended to use sourceTensor.clone().detach() or sourceTensor.clone().detach().requires_grad_(True), rather than torch.tensor(sourceTensor).\n",
      "  torch.tensor(LDPclient.release_genRR(1)[1]),\n",
      "C:\\Users\\Jongmin\\AppData\\Local\\Temp\\ipykernel_13600\\2887809965.py:20: UserWarning: To copy construct from a tensor, it is recommended to use sourceTensor.clone().detach() or sourceTensor.clone().detach().requires_grad_(True), rather than torch.tensor(sourceTensor).\n",
      "  torch.tensor(LDPclient.release_genRR(10)[1]),\n",
      "C:\\Users\\Jongmin\\AppData\\Local\\Temp\\ipykernel_13600\\2887809965.py:28: UserWarning: To copy construct from a tensor, it is recommended to use sourceTensor.clone().detach() or sourceTensor.clone().detach().requires_grad_(True), rather than torch.tensor(sourceTensor).\n",
      "  torch.tensor(LDPclient.release_genRR(50)[1]),\n"
     ]
    },
    {
     "data": {
      "text/plain": [
       "<matplotlib.image.AxesImage at 0x2a9c51195b0>"
      ]
     },
     "execution_count": 3,
     "metadata": {},
     "output_type": "execute_result"
    },
    {
     "data": {
      "image/png": "[encoded data removed]",
      "text/plain": [
       "<Figure size 640x480 with 4 Axes>"
      ]
     },
     "metadata": {},
     "output_type": "display_data"
    }
   ],
   "source": [
    "fig, axs = plt.subplots(2,2)\n",
    "axs[0,0].imshow(\n",
    "    torch.nn.functional.one_hot(\n",
    "        torch.tensor(LDPclient.release_genRR(0.5)[1]),\n",
    "        16\n",
    "        ),\n",
    "    cmap = 'hot', interpolation = 'nearest'\n",
    ")\n",
    "\n",
    "axs[0,1].imshow(\n",
    "    torch.nn.functional.one_hot(\n",
    "        torch.tensor(LDPclient.release_genRR(1)[1]),\n",
    "        16\n",
    "        ),\n",
    "    cmap = 'hot', interpolation = 'nearest'\n",
    ")\n",
    "\n",
    "axs[1,0].imshow(\n",
    "    torch.nn.functional.one_hot(\n",
    "        torch.tensor(LDPclient.release_genRR(10)[1]),\n",
    "        16\n",
    "        ),\n",
    "    cmap = 'hot', interpolation = 'nearest'\n",
    ")\n",
    "\n",
    "axs[1,1].imshow(\n",
    "    torch.nn.functional.one_hot(\n",
    "        torch.tensor(LDPclient.release_genRR(50)[1]),\n",
    "        16\n",
    "        ),\n",
    "    cmap = 'hot', interpolation = 'nearest'\n",
    ")"
   ]
  },
  {
   "cell_type": "code",
   "execution_count": 9,
   "metadata": {},
   "outputs": [
    {
     "name": "stderr",
     "output_type": "stream",
     "text": [
      "C:\\Users\\Jongmin\\AppData\\Local\\Temp\\ipykernel_13600\\4008632034.py:2: UserWarning: To copy construct from a tensor, it is recommended to use sourceTensor.clone().detach() or sourceTensor.clone().detach().requires_grad_(True), rather than torch.tensor(sourceTensor).\n",
      "  axs[0,0].imshow(torch.tensor(LDPclient.release_bitFlip(0.5)[1]),cmap = 'hot', interpolation = 'nearest')\n",
      "C:\\Users\\Jongmin\\AppData\\Local\\Temp\\ipykernel_13600\\4008632034.py:3: UserWarning: To copy construct from a tensor, it is recommended to use sourceTensor.clone().detach() or sourceTensor.clone().detach().requires_grad_(True), rather than torch.tensor(sourceTensor).\n",
      "  axs[0,1].imshow(torch.tensor(LDPclient.release_bitFlip(1)[1]),cmap = 'hot', interpolation = 'nearest')\n",
      "C:\\Users\\Jongmin\\AppData\\Local\\Temp\\ipykernel_13600\\4008632034.py:4: UserWarning: To copy construct from a tensor, it is recommended to use sourceTensor.clone().detach() or sourceTensor.clone().detach().requires_grad_(True), rather than torch.tensor(sourceTensor).\n",
      "  axs[1,0].imshow(torch.tensor(LDPclient.release_bitFlip(10)[1]),cmap = 'hot', interpolation = 'nearest')\n",
      "C:\\Users\\Jongmin\\AppData\\Local\\Temp\\ipykernel_13600\\4008632034.py:5: UserWarning: To copy construct from a tensor, it is recommended to use sourceTensor.clone().detach() or sourceTensor.clone().detach().requires_grad_(True), rather than torch.tensor(sourceTensor).\n",
      "  axs[1,1].imshow(torch.tensor(LDPclient.release_bitFlip(10)[1]),cmap = 'hot', interpolation = 'nearest')\n"
     ]
    },
    {
     "data": {
      "text/plain": [
       "<matplotlib.image.AxesImage at 0x2a9c81a9e50>"
      ]
     },
     "execution_count": 9,
     "metadata": {},
     "output_type": "execute_result"
    },
    {
     "data": {
      "image/png": "[encoded data removed]",
      "text/plain": [
       "<Figure size 640x480 with 4 Axes>"
      ]
     },
     "metadata": {},
     "output_type": "display_data"
    }
   ],
   "source": [
    "fig, axs = plt.subplots(2,2)\n",
    "axs[0,0].imshow(torch.tensor(LDPclient.release_bitFlip(0.5)[1]),cmap = 'hot', interpolation = 'nearest')\n",
    "axs[0,1].imshow(torch.tensor(LDPclient.release_bitFlip(1)[1]),cmap = 'hot', interpolation = 'nearest')\n",
    "axs[1,0].imshow(torch.tensor(LDPclient.release_bitFlip(10)[1]),cmap = 'hot', interpolation = 'nearest')\n",
    "axs[1,1].imshow(torch.tensor(LDPclient.release_bitFlip(10)[1]),cmap = 'hot', interpolation = 'nearest')\n"
   ]
  },
  {
   "cell_type": "code",
   "execution_count": 65,
   "metadata": {},
   "outputs": [
    {
     "data": {
      "text/plain": [
       "tensor([ 8,  3,  1,  8,  4, 13,  3, 12,  2,  8, 10, 15, 14,  1, 15, 11])"
      ]
     },
     "execution_count": 65,
     "metadata": {},
     "output_type": "execute_result"
    }
   ],
   "source": [
    "LDPclient.release_genRR(0.5)[1]"
   ]
  },
  {
   "cell_type": "code",
   "execution_count": null,
   "metadata": {},
   "outputs": [],
   "source": [
    "axs[0,1].imshow(torch.nn.functional.one_hot(torch.tensor(LDPclient.release_genRR(1), 16)), cmap = 'hot', interpolation = 'nearest')\n",
    "axs[1,0].imshow(torch.nn.functional.one_hot(torch.tensor(LDPclient.release_genRR(10), 16)), cmap = 'hot', interpolation = 'nearest')\n",
    "axs[1,1].imshow(torch.nn.functional.one_hot(torch.tensor(LDPclient.release_genRR(100), 16)), cmap = 'hot', interpolation = 'nearest')"
   ]
  },
  {
   "cell_type": "code",
   "execution_count": 9,
   "metadata": {},
   "outputs": [
    {
     "data": {
      "text/plain": [
       "<matplotlib.image.AxesImage at 0x1b93f22ee20>"
      ]
     },
     "execution_count": 9,
     "metadata": {},
     "output_type": "execute_result"
    },
    {
     "data": {
      "image/png": "[encoded data removed]",
      "text/plain": [
       "<Figure size 640x480 with 4 Axes>"
      ]
     },
     "metadata": {},
     "output_type": "display_data"
    }
   ],
   "source": [
    "fig, axs = plt.subplots(2,2)\n",
    "axs[0,0].imshow(LDPclient.release_DiscLapU(0.5)[1], cmap = 'hot', interpolation = 'nearest')\n",
    "axs[0,1].imshow(LDPclient.release_DiscLapU(1)[1], cmap = 'hot', interpolation = 'nearest')\n",
    "axs[1,0].imshow(LDPclient.release_DiscLapU(10)[1], cmap = 'hot', interpolation = 'nearest')\n",
    "axs[1,1].imshow(LDPclient.release_DiscLapU(100)[1], cmap = 'hot', interpolation = 'nearest')\n",
    "\n"
   ]
  }
 ],
 "metadata": {
  "kernelspec": {
   "display_name": "Python 3 (ipykernel)",
   "language": "python",
   "name": "python3"
  },
  "language_info": {
   "codemirror_mode": {
    "name": "ipython",
    "version": 3
   },
   "file_extension": ".py",
   "mimetype": "text/x-python",
   "name": "python",
   "nbconvert_exporter": "python",
   "pygments_lexer": "ipython3",
   "version": "3.8.16"
  }
 },
 "nbformat": 4,
 "nbformat_minor": 4
}
