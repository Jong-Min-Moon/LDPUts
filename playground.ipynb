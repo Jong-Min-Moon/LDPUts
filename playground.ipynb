{
 "cells": [
  {
   "cell_type": "code",
   "execution_count": 2,
   "metadata": {},
   "outputs": [],
   "source": [
    "from discretizer import discretizer\n",
    "from client import client\n",
    "import torch\n",
    "device = torch.device(\"cuda:0\" if torch.cuda.is_available() else \"cpu\")\n",
    "import matplotlib.pyplot as plt\n",
    "from server import server_twosample_U, server_twosample_chi\n",
    "from data_generator import data_generator\n",
    "import time"
   ]
  },
  {
   "cell_type": "code",
   "execution_count": 31,
   "metadata": {},
   "outputs": [
    {
     "data": {
      "text/plain": [
       "tensor([[0., 1., 0., 0., 0.],\n",
       "        [0., 0., 1., 0., 0.]])"
      ]
     },
     "execution_count": 31,
     "metadata": {},
     "output_type": "execute_result"
    }
   ],
   "source": [
    "m = torch.distributions.bernoulli.Bernoulli(torch.tensor([0.3]))\n",
    "m.sample((2,5)).view(2,5)"
   ]
  },
  {
   "cell_type": "code",
   "execution_count": 3,
   "metadata": {},
   "outputs": [],
   "source": [
    "gen = data_generator(device)"
   ]
  },
  {
   "cell_type": "code",
   "execution_count": 51,
   "metadata": {},
   "outputs": [],
   "source": [
    "p, p_priv = gen._generate_power_law_p_private(10,2.1, 0.5)"
   ]
  },
  {
   "cell_type": "code",
   "execution_count": 52,
   "metadata": {},
   "outputs": [
    {
     "data": {
      "text/plain": [
       "<BarContainer object of 10 artists>"
      ]
     },
     "execution_count": 52,
     "metadata": {},
     "output_type": "execute_result"
    },
    {
     "data": {
      "image/png": "[encoded data removed]",
      "text/plain": [
       "<Figure size 432x288 with 1 Axes>"
      ]
     },
     "metadata": {
      "needs_background": "light"
     },
     "output_type": "display_data"
    }
   ],
   "source": [
    "plt.bar(range(10), p.cpu())"
   ]
  },
  {
   "cell_type": "code",
   "execution_count": 53,
   "metadata": {},
   "outputs": [
    {
     "data": {
      "text/plain": [
       "<BarContainer object of 10 artists>"
      ]
     },
     "execution_count": 53,
     "metadata": {},
     "output_type": "execute_result"
    },
    {
     "data": {
      "image/png": "[encoded data removed]",
      "text/plain": [
       "<Figure size 432x288 with 1 Axes>"
      ]
     },
     "metadata": {
      "needs_background": "light"
     },
     "output_type": "display_data"
    }
   ],
   "source": [
    "plt.bar(range(10), p_priv.cpu())"
   ]
  },
  {
   "cell_type": "code",
   "execution_count": null,
   "metadata": {},
   "outputs": [],
   "source": []
  },
  {
   "cell_type": "code",
   "execution_count": 2,
   "metadata": {},
   "outputs": [
    {
     "data": {
      "text/plain": [
       "16.566758632659912"
      ]
     },
     "execution_count": 2,
     "metadata": {},
     "output_type": "execute_result"
    }
   ],
   "source": [
    "t = time.time()\n",
    "\n",
    "server_now = server_twosample_U(device)\n",
    "data_gen = data_generator(device)\n",
    "alphabet_size = 1000\n",
    "beta = 0.5\n",
    "privacy_level = 1\n",
    "n_test = 1\n",
    "n_permutation = 99\n",
    "significance_level = 0.05\n",
    "sample_size = 100000\n",
    "test_result = torch.zeros(n_test).to(device)\n",
    "for i in range(n_test):\n",
    "    data_y = data_gen.generate_nearly_unif(alphabet_size, beta, sample_size = sample_size)\n",
    "    data_z = data_gen.generate_nearly_unif(alphabet_size, beta, sample_size = sample_size)\n",
    "    LDPclient = client(device)\n",
    "    LDPclient.load_data_disc(data_y, data_z, alphabet_size)\n",
    "    data_y_priv, data_z_priv = LDPclient.release_LapU(privacy_level)\n",
    "    test_result[i] = server_now.release_p_value(data_y_priv, data_z_priv, n_permutation)\n",
    "    \n",
    "    \n",
    "elapsed = time.time() - t\n",
    "elapsed"
   ]
  },
  {
   "cell_type": "code",
   "execution_count": 9,
   "metadata": {},
   "outputs": [
    {
     "data": {
      "text/plain": [
       "tensor(1621, device='cuda:0')"
      ]
     },
     "execution_count": 9,
     "metadata": {},
     "output_type": "execute_result"
    }
   ],
   "source": [
    "(data_y==0).sum()"
   ]
  },
  {
   "cell_type": "code",
   "execution_count": 15,
   "metadata": {},
   "outputs": [
    {
     "data": {
      "text/plain": [
       "tensor([0, 1, 1, 0, 1, 0])"
      ]
     },
     "execution_count": 15,
     "metadata": {},
     "output_type": "execute_result"
    }
   ],
   "source": [
    "torch.tensor([1,2,4]).bincount(minlength=6)"
   ]
  },
  {
   "cell_type": "code",
   "execution_count": 25,
   "metadata": {},
   "outputs": [
    {
     "data": {
      "text/plain": [
       "131.28636121749878"
      ]
     },
     "execution_count": 25,
     "metadata": {},
     "output_type": "execute_result"
    }
   ],
   "source": [
    "t = time.time()\n",
    "\n",
    "server_now = server_twosample_chi(device)\n",
    "data_gen = data_generator(device)\n",
    "alphabet_size = 3000\n",
    "beta = 2.5\n",
    "privacy_level = 0.01\n",
    "n_test = 100\n",
    "sample_size = 10000\n",
    "test_result = torch.zeros(n_test).to(device)\n",
    "for i in range(n_test):\n",
    "    data_y = data_gen.generate_nearly_unif(alphabet_size, beta, sample_size = sample_size)\n",
    "    data_z = data_gen.generate_nearly_unif(alphabet_size, beta, sample_size = sample_size)\n",
    "    LDPclient = client(device)\n",
    "    LDPclient.load_data_disc(data_y, data_z, alphabet_size)\n",
    "    data_y_priv, data_z_priv = LDPclient.release_genRR(privacy_level)\n",
    "    test_result[i] = server_now.release_p_value(data_y_priv, data_z_priv, alphabet_size)\n",
    "    \n",
    "    \n",
    "elapsed = time.time() - t\n",
    "elapsed"
   ]
  },
  {
   "cell_type": "code",
   "execution_count": 24,
   "metadata": {},
   "outputs": [
    {
     "data": {
      "text/plain": [
       "tensor(0.7100, device='cuda:0')"
      ]
     },
     "execution_count": 24,
     "metadata": {},
     "output_type": "execute_result"
    }
   ],
   "source": [
    "(test_result < 0.7).sum()/n_test "
   ]
  },
  {
   "cell_type": "code",
   "execution_count": 6,
   "metadata": {},
   "outputs": [
    {
     "data": {
      "text/plain": [
       "torch.int64"
      ]
     },
     "execution_count": 6,
     "metadata": {},
     "output_type": "execute_result"
    }
   ],
   "source": [
    "data_y_priv.dtype"
   ]
  },
  {
   "cell_type": "markdown",
   "metadata": {},
   "source": [
    "# testing the discretizer"
   ]
  },
  {
   "cell_type": "code",
   "execution_count": 3,
   "metadata": {},
   "outputs": [],
   "source": [
    "data_conti = torch.tensor([\n",
    "    [0, 0, 0, 0],\n",
    "    [0, 0, 0, 0.6],\n",
    "    [0, 0, 0.6, 0],\n",
    "    [0, 0, 0.6, 0.6],\n",
    "    [0, 0.6, 0, 0],\n",
    "    [0, 0.6, 0, 0.6],\n",
    "    [0, 0.6, 0.6, 0],\n",
    "    [0, 0.6, 0.6, 0.6],   \n",
    "    [0.6, 0, 0, 0],\n",
    "    [0.6, 0, 0, 0.6],\n",
    "    [0.6, 0, 0.6, 0],\n",
    "    [0.6, 0, 0.6, 0.6],\n",
    "    [0.6, 0.6, 0, 0],\n",
    "    [0.6, 0.6, 0, 0.6],\n",
    "    [0.6, 0.6, 0.6, 0],\n",
    "    [0.6, 0.6, 0.6, 0.6],\n",
    "])\n",
    "dsc = discretizer(device)\n",
    "data_disc, n_category = dsc.transform(data_conti, 2)\n",
    "data_disc\n",
    "\n",
    "LDPclient = client(device)\n",
    "LDPclient.load_data_disc(data_disc, data_disc, n_category)"
   ]
  },
  {
   "cell_type": "markdown",
   "metadata": {},
   "source": [
    "# testing the LapU for discrete data"
   ]
  },
  {
   "cell_type": "code",
   "execution_count": 6,
   "metadata": {},
   "outputs": [
    {
     "data": {
      "text/plain": [
       "<matplotlib.image.AxesImage at 0x1b93ed49d90>"
      ]
     },
     "execution_count": 6,
     "metadata": {},
     "output_type": "execute_result"
    },
    {
     "data": {
      "image/png": "[encoded data removed]",
      "text/plain": [
       "<Figure size 640x480 with 4 Axes>"
      ]
     },
     "metadata": {},
     "output_type": "display_data"
    }
   ],
   "source": [
    "fig, axs = plt.subplots(2,2)\n",
    "axs[0,0].imshow(LDPclient.release_LapU(0.5)[1], cmap = 'hot', interpolation = 'nearest')\n",
    "axs[0,1].imshow(LDPclient.release_LapU(1)[1], cmap = 'hot', interpolation = 'nearest')\n",
    "axs[1,0].imshow(LDPclient.release_LapU(10)[1], cmap = 'hot', interpolation = 'nearest')\n",
    "axs[1,1].imshow(LDPclient.release_LapU(100)[1], cmap = 'hot', interpolation = 'nearest')"
   ]
  },
  {
   "cell_type": "code",
   "execution_count": 7,
   "metadata": {},
   "outputs": [
    {
     "data": {
      "text/plain": [
       "<matplotlib.image.AxesImage at 0x1b93ef36730>"
      ]
     },
     "execution_count": 7,
     "metadata": {},
     "output_type": "execute_result"
    },
    {
     "data": {
      "image/png": "[encoded data removed]",
      "text/plain": [
       "<Figure size 640x480 with 4 Axes>"
      ]
     },
     "metadata": {},
     "output_type": "display_data"
    }
   ],
   "source": [
    "fig, axs = plt.subplots(2,2)\n",
    "axs[0,0].imshow(LDPclient.release_DiscLapU(0.5)[1], cmap = 'hot', interpolation = 'nearest')\n",
    "axs[0,1].imshow(LDPclient.release_DiscLapU(1)[1], cmap = 'hot', interpolation = 'nearest')\n",
    "axs[1,0].imshow(LDPclient.release_DiscLapU(10)[1], cmap = 'hot', interpolation = 'nearest')\n",
    "axs[1,1].imshow(LDPclient.release_DiscLapU(100)[1], cmap = 'hot', interpolation = 'nearest')"
   ]
  },
  {
   "cell_type": "code",
   "execution_count": 8,
   "metadata": {},
   "outputs": [
    {
     "data": {
      "text/plain": [
       "<matplotlib.image.AxesImage at 0x1b93f0abd00>"
      ]
     },
     "execution_count": 8,
     "metadata": {},
     "output_type": "execute_result"
    },
    {
     "data": {
      "image/png": "[encoded data removed]",
      "text/plain": [
       "<Figure size 640x480 with 4 Axes>"
      ]
     },
     "metadata": {},
     "output_type": "display_data"
    }
   ],
   "source": [
    "fig, axs = plt.subplots(2,2)\n",
    "axs[0,0].imshow(LDPclient.release_genRR(0.5)[1], cmap = 'hot', interpolation = 'nearest')\n",
    "axs[0,1].imshow(LDPclient.release_genRR(1)[1], cmap = 'hot', interpolation = 'nearest')\n",
    "axs[1,0].imshow(LDPclient.release_genRR(5)[1], cmap = 'hot', interpolation = 'nearest')\n",
    "axs[1,1].imshow(LDPclient.release_genRR(10)[1], cmap = 'hot', interpolation = 'nearest')"
   ]
  },
  {
   "cell_type": "code",
   "execution_count": 9,
   "metadata": {},
   "outputs": [
    {
     "data": {
      "text/plain": [
       "<matplotlib.image.AxesImage at 0x1b93f22ee20>"
      ]
     },
     "execution_count": 9,
     "metadata": {},
     "output_type": "execute_result"
    },
    {
     "data": {
      "image/png": "[encoded data removed]",
      "text/plain": [
       "<Figure size 640x480 with 4 Axes>"
      ]
     },
     "metadata": {},
     "output_type": "display_data"
    }
   ],
   "source": [
    "fig, axs = plt.subplots(2,2)\n",
    "axs[0,0].imshow(LDPclient.release_DiscLapU(0.5)[1], cmap = 'hot', interpolation = 'nearest')\n",
    "axs[0,1].imshow(LDPclient.release_DiscLapU(1)[1], cmap = 'hot', interpolation = 'nearest')\n",
    "axs[1,0].imshow(LDPclient.release_DiscLapU(10)[1], cmap = 'hot', interpolation = 'nearest')\n",
    "axs[1,1].imshow(LDPclient.release_DiscLapU(100)[1], cmap = 'hot', interpolation = 'nearest')\n",
    "\n"
   ]
  },
  {
   "cell_type": "code",
   "execution_count": 11,
   "metadata": {},
   "outputs": [],
   "source": []
  },
  {
   "cell_type": "code",
   "execution_count": 13,
   "metadata": {},
   "outputs": [],
   "source": [
    "from abc import ABCMeta, abstractmethod\n",
    "class server(client):\n",
    "    def release_p_value(self, data_y, data_z, n_permutation):\n",
    "        self._permutation_test(data_y, data_z, n_permutation)\n",
    "\n",
    "    def _permutation_test(self, data_y, data_z, n_permutation):\n",
    "        n_1 = self._get_sample_size(data_y)\n",
    "        n_2 = self._get_sample_size(data_z) \n",
    "        n = n_1 + n_2\n",
    "        tst_data_combined = torch.vstack((data_y, data_z))\n",
    "       \n",
    "        u_stat_original = self._calculate_statistic(data_y, data_z) #original statistic\n",
    "        #print(f\"original u-statistic:{u_stat_original}\")\n",
    "        \n",
    "        #permutation procedure\n",
    "        u_stat_permuted = torch.empty(n_permutation).to(self.cuda_device)\n",
    "        \n",
    "        for i in range(n_permutation):\n",
    "            permutation = torch.randperm(n)\n",
    "            perm_stat_now = self._calculate_statistic(\n",
    "                tst_data_combined[permutation][:n_1,:],\n",
    "                tst_data_combined[permutation][n_1:,:]\n",
    "            ).to(self.cuda_device)\n",
    "            u_stat_permuted[i] = perm_stat_now\n",
    "\n",
    "               \n",
    "        p_value_proxy = (1 +\n",
    "                         torch.sum(\n",
    "                             torch.gt(input = u_stat_permuted, other = u_stat_original)\n",
    "                         )\n",
    "                        ) / (n_permutation + 1)\n",
    "      \n",
    "        return(p_value_proxy)\n",
    "    \n",
    "    @abstractmethod   \n",
    "    def _calculate_statistic(self, data_y, data_z):\n",
    "        raise NotImplementedError()\n",
    "    \n",
    "def server_twosample_U(server):    \n",
    "    def _calculate_statistic(self, data_y, data_z):\n",
    "        n_1 = self._get_sample_size(data_y)\n",
    "        n_2 = self._get_sample_size(data_z) \n",
    "    \n",
    "        y_row_sum = torch.sum(data_y, axis = 0)\n",
    "        z_row_sum = torch.sum(data_z, axis = 0)\n",
    "\n",
    "\n",
    "        one_Phi_one = torch.inner(y_row_sum, y_row_sum)\n",
    "        one_Psi_one = torch.inner(z_row_sum, z_row_sum)\n",
    "\n",
    "        tr_Phi = torch.sum(torch.square(data_y))\n",
    "        tr_Psi = torch.sum(torch.square(data_z))\n",
    "\n",
    "        one_Phi_tilde_one = one_Phi_one - tr_Phi\n",
    "        one_Psi_tilde_one = one_Psi_one - tr_Psi\n",
    "\n",
    "\n",
    "        # y only part. log calculation in case of large n1\n",
    "        sign_y = torch.sign(one_Phi_tilde_one)\n",
    "        abs_u_y = torch.exp(torch.log(torch.abs(one_Phi_tilde_one)) - torch.log(n_1) - torch.log(n_1 - 1) )\n",
    "        u_y = sign_y * abs_u_y\n",
    "\n",
    "\n",
    "        # z only part. log calculation in case of large n2\n",
    "        sign_z = torch.sign(one_Psi_tilde_one)\n",
    "\n",
    "        abs_u_z = torch.exp(torch.log(torch.abs(one_Psi_tilde_one)) - torch.log(n_2) - torch.log(n_2 - 1) )\n",
    "        u_z = sign_z * abs_u_z\n",
    "\n",
    "        # cross part\n",
    "        cross = torch.inner(y_row_sum, z_row_sum)\n",
    "        sign_cross = torch.sign(cross)\n",
    "        abs_cross = torch.exp(torch.log(torch.abs(cross)) +torch.log(torch.tensor(2))- torch.log(n_1) - torch.log(n_2) )\n",
    "        u_cross = sign_cross * abs_cross\n",
    "\n",
    "        return(u_y + u_z - u_cross)"
   ]
  },
  {
   "cell_type": "code",
   "execution_count": 143,
   "metadata": {},
   "outputs": [
    {
     "name": "stdout",
     "output_type": "stream",
     "text": [
      "tensor([0.1992, 0.1408, 0.1150, 0.0996, 0.0891, 0.0813, 0.0753, 0.0704, 0.0664,\n",
      "        0.0630])\n",
      "tensor([0.1992, 0.1408, 0.1150, 0.0996, 0.0891, 0.0813, 0.0753, 0.0704, 0.0664,\n",
      "        0.0630])\n"
     ]
    }
   ],
   "source": []
  }
 ],
 "metadata": {
  "kernelspec": {
   "display_name": "Python 3 (ipykernel)",
   "language": "python",
   "name": "python3"
  },
  "language_info": {
   "codemirror_mode": {
    "name": "ipython",
    "version": 3
   },
   "file_extension": ".py",
   "mimetype": "text/x-python",
   "name": "python",
   "nbconvert_exporter": "python",
   "pygments_lexer": "ipython3",
   "version": "3.8.16"
  }
 },
 "nbformat": 4,
 "nbformat_minor": 4
}
