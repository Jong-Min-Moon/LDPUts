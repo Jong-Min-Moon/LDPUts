{
 "cells": [
  {
   "cell_type": "code",
   "execution_count": null,
   "metadata": {},
   "outputs": [],
   "source": [
    "import sys\n",
    "sys.path.insert(0, '/mnt/nas/users/mjm/LDPUts')\n",
    "\n",
    "from discretizer import discretizer\n",
    "from client import client\n",
    "import torch\n",
    "device = torch.device(\"cuda:0\" if torch.cuda.is_available() else \"cpu\")\n",
    "import matplotlib.pyplot as plt\n",
    "from server import server_ell2, server_multinomial_genRR, server_multinomial_bitflip\n",
    "from data_generator import data_generator\n",
    "from discretizer import discretizer\n",
    "import time\n",
    "import numpy as np\n",
    "from scipy.stats import chi2\n",
    "from utils import chi_sq_dist"
   ]
  },
  {
   "cell_type": "code",
   "execution_count": null,
   "metadata": {},
   "outputs": [],
   "source": [
    "n_test = 200\n",
    "n_permutation = 199\n",
    "significance_level = 0.05\n",
    "alphabet_size = 40\n",
    "privacy_level = 1\n",
    "###################\n",
    "sample_size = 8000\n",
    "###################\n",
    "\n",
    "data_gen = data_generator(device)\n",
    "\n",
    "bump_size = 0.005\n",
    "p = torch.tensor([1/alphabet_size]).repeat(alphabet_size)\n",
    "\n",
    "\n",
    "p = p.add(\n",
    "    torch.remainder(\n",
    "    torch.tensor(range(alphabet_size)),\n",
    "    2\n",
    "    ).add(-1/2).mul(2).mul(bump_size)\n",
    ")\n",
    "\n",
    "\n",
    "\n",
    "LDPclient = client(device, privacy_level)\n",
    "server_elltwo = server_ell2(device, privacy_level)\n",
    "server_genrr = server_multinomial_genRR(device, privacy_level)\n",
    "server_bitflip = server_multinomial_bitflip(device, privacy_level)\n",
    "\n",
    "p_value_array = np.zeros([n_test, 3])"
   ]
  },
  {
   "cell_type": "code",
   "execution_count": null,
   "metadata": {},
   "outputs": [],
   "source": [
    "t = time.time()\n",
    "for i in range(n_test):\n",
    "    print(f\"{i+1}th test\")\n",
    "    torch.manual_seed(i)\n",
    "    data_y = data_gen.generate_multinomial_data(p, sample_size)\n",
    "    data_z = data_gen.generate_multinomial_data(p, sample_size)\n",
    "    \n",
    "    LDPclient.load_data_multinomial(data_y, data_z, alphabet_size)\n",
    "    data_list_lapu_y, data_list_lapu_z = LDPclient.release_LapU()\n",
    "    data_list_genrr_y, data_list_genrr_z = LDPclient.release_genRR()\n",
    "    data_list_bitflip_y, data_list_bitflip_z = LDPclient.release_bitFlip()\n",
    "    \n",
    "    server_elltwo.load_private_data_multinomial(data_list_lapu_y, data_list_lapu_z, alphabet_size)\n",
    "    p_value_array[i,0] = server_elltwo.release_p_value_permutation(n_permutation)\n",
    " \n",
    "    server_genrr.load_private_data_multinomial(data_list_genrr_y, data_list_genrr_z, alphabet_size)\n",
    "    p_value_array[i,1] = server_genrr.release_p_value()\n",
    "     \n",
    "    server_bitflip.load_private_data_multinomial(data_list_bitflip_y, data_list_bitflip_z, alphabet_size)\n",
    "    p_value_array[i,2] = server_bitflip.release_p_value()\n",
    "elapsed = time.time() - t\n",
    "print(elapsed)"
   ]
  },
  {
   "cell_type": "code",
   "execution_count": null,
   "metadata": {},
   "outputs": [],
   "source": [
    "print(\n",
    "   # f\"small chi-square distance\\n\"+\n",
    "        f\"p = {p}\\n\"+\n",
    "        f\"privacy level = {privacy_level}\"\n",
    ")\n",
    "\n",
    "print(\n",
    "    f\"sample size = {sample_size},\\n\"+\n",
    "    f\"type I error estimate =\\n\"+\n",
    "    f\"    {sum( p_value_array[:,0]<0.05)/n_test }(LapU, ell2)\\n\"+\n",
    "    f\"    {sum( p_value_array[:,1]<0.05)/n_test }(GenRR, chi-sq)\\n\"+\n",
    "    f\"    {sum( p_value_array[:,2]<0.05)/n_test }(bitflip, ch-sq-proj)\\n\"\n",
    ")\n",
    "with open('/mnt/nas/users/mjm/LDPUts/simul/type_1/hi_dim/n_6000_alpha_1_type_1.npy', 'wb') as f:\n",
    "    np.save(f, p_value_array)"
   ]
  },
  {
   "cell_type": "code",
   "execution_count": null,
   "metadata": {},
   "outputs": [],
   "source": []
  }
 ],
 "metadata": {
  "kernelspec": {
   "display_name": "Python 3 (ipykernel)",
   "language": "python",
   "name": "python3"
  },
  "language_info": {
   "codemirror_mode": {
    "name": "ipython",
    "version": 3
   },
   "file_extension": ".py",
   "mimetype": "text/x-python",
   "name": "python",
   "nbconvert_exporter": "python",
   "pygments_lexer": "ipython3",
   "version": "3.8.16"
  }
 },
 "nbformat": 4,
 "nbformat_minor": 4
}
