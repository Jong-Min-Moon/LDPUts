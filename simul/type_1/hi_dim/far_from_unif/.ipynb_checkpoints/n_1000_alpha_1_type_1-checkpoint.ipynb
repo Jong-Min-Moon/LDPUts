{
 "cells": [
  {
   "cell_type": "code",
   "execution_count": 2,
   "metadata": {},
   "outputs": [],
   "source": [
    "import sys\n",
    "sys.path.insert(0, '/mnt/nas/users/mjm/LDPUts')\n",
    "\n",
    "from discretizer import discretizer\n",
    "from client import client\n",
    "import torch\n",
    "device = torch.device(\"cuda:0\" if torch.cuda.is_available() else \"cpu\")\n",
    "import matplotlib.pyplot as plt\n",
    "from server import server_ell2, server_multinomial_genRR, server_multinomial_bitflip\n",
    "from data_generator import data_generator\n",
    "from discretizer import discretizer\n",
    "import time\n",
    "import numpy as np\n",
    "from scipy.stats import chi2\n",
    "from utils import chi_sq_dist"
   ]
  },
  {
   "cell_type": "code",
   "execution_count": 3,
   "metadata": {},
   "outputs": [
    {
     "name": "stdout",
     "output_type": "stream",
     "text": [
      "tensor([0.0050, 0.0450, 0.0050, 0.0450, 0.0050, 0.0450, 0.0050, 0.0450, 0.0050,\n",
      "        0.0450, 0.0050, 0.0450, 0.0050, 0.0450, 0.0050, 0.0450, 0.0050, 0.0450,\n",
      "        0.0050, 0.0450, 0.0050, 0.0450, 0.0050, 0.0450, 0.0050, 0.0450, 0.0050,\n",
      "        0.0450, 0.0050, 0.0450, 0.0050, 0.0450, 0.0050, 0.0450, 0.0050, 0.0450,\n",
      "        0.0050, 0.0450, 0.0050, 0.0450])\n"
     ]
    }
   ],
   "source": [
    "n_test = 200\n",
    "n_permutation = 199\n",
    "significance_level = 0.05\n",
    "alphabet_size = 40\n",
    "privacy_level = 1\n",
    "###################\n",
    "sample_size = 1000\n",
    "###################\n",
    "\n",
    "data_gen = data_generator(device)\n",
    "\n",
    "bump_size = 0.02\n",
    "p = torch.tensor([1/alphabet_size]).repeat(alphabet_size)\n",
    "\n",
    "\n",
    "p = p.add(\n",
    "    torch.remainder(\n",
    "    torch.tensor(range(alphabet_size)),\n",
    "    2\n",
    "    ).add(-1/2).mul(2).mul(bump_size)\n",
    ")\n",
    "\n",
    "print(p)"
   ]
  },
  {
   "cell_type": "code",
   "execution_count": 4,
   "metadata": {},
   "outputs": [
    {
     "name": "stdout",
     "output_type": "stream",
     "text": [
      "1th test\n",
      "2th test\n",
      "3th test\n",
      "4th test\n",
      "5th test\n",
      "6th test\n",
      "7th test\n",
      "8th test\n",
      "9th test\n",
      "10th test\n",
      "11th test\n",
      "12th test\n",
      "13th test\n",
      "14th test\n",
      "15th test\n",
      "16th test\n",
      "17th test\n",
      "18th test\n",
      "19th test\n",
      "20th test\n",
      "21th test\n",
      "22th test\n",
      "23th test\n",
      "24th test\n",
      "25th test\n",
      "26th test\n",
      "27th test\n",
      "28th test\n",
      "29th test\n",
      "30th test\n",
      "31th test\n",
      "32th test\n",
      "33th test\n",
      "34th test\n",
      "35th test\n",
      "36th test\n",
      "37th test\n",
      "38th test\n",
      "39th test\n",
      "40th test\n",
      "41th test\n",
      "42th test\n",
      "43th test\n",
      "44th test\n",
      "45th test\n",
      "46th test\n",
      "47th test\n",
      "48th test\n",
      "49th test\n",
      "50th test\n",
      "51th test\n",
      "52th test\n",
      "53th test\n",
      "54th test\n",
      "55th test\n",
      "56th test\n",
      "57th test\n",
      "58th test\n",
      "59th test\n",
      "60th test\n",
      "61th test\n",
      "62th test\n",
      "63th test\n",
      "64th test\n",
      "65th test\n",
      "66th test\n",
      "67th test\n",
      "68th test\n",
      "69th test\n",
      "70th test\n",
      "71th test\n",
      "72th test\n",
      "73th test\n",
      "74th test\n",
      "75th test\n",
      "76th test\n",
      "77th test\n",
      "78th test\n",
      "79th test\n",
      "80th test\n",
      "81th test\n",
      "82th test\n",
      "83th test\n",
      "84th test\n",
      "85th test\n",
      "86th test\n",
      "87th test\n",
      "88th test\n",
      "89th test\n",
      "90th test\n",
      "91th test\n",
      "92th test\n",
      "93th test\n",
      "94th test\n",
      "95th test\n",
      "96th test\n",
      "97th test\n",
      "98th test\n",
      "99th test\n",
      "100th test\n",
      "101th test\n",
      "102th test\n",
      "103th test\n",
      "104th test\n",
      "105th test\n",
      "106th test\n",
      "107th test\n",
      "108th test\n",
      "109th test\n",
      "110th test\n",
      "111th test\n",
      "112th test\n",
      "113th test\n",
      "114th test\n",
      "115th test\n",
      "116th test\n",
      "117th test\n",
      "118th test\n",
      "119th test\n",
      "120th test\n",
      "121th test\n",
      "122th test\n",
      "123th test\n",
      "124th test\n",
      "125th test\n",
      "126th test\n",
      "127th test\n",
      "128th test\n",
      "129th test\n",
      "130th test\n",
      "131th test\n",
      "132th test\n",
      "133th test\n",
      "134th test\n",
      "135th test\n",
      "136th test\n",
      "137th test\n",
      "138th test\n",
      "139th test\n",
      "140th test\n",
      "141th test\n",
      "142th test\n",
      "143th test\n",
      "144th test\n",
      "145th test\n",
      "146th test\n",
      "147th test\n",
      "148th test\n",
      "149th test\n",
      "150th test\n",
      "151th test\n",
      "152th test\n",
      "153th test\n",
      "154th test\n",
      "155th test\n",
      "156th test\n",
      "157th test\n",
      "158th test\n",
      "159th test\n",
      "160th test\n",
      "161th test\n",
      "162th test\n",
      "163th test\n",
      "164th test\n",
      "165th test\n",
      "166th test\n",
      "167th test\n",
      "168th test\n",
      "169th test\n",
      "170th test\n",
      "171th test\n",
      "172th test\n",
      "173th test\n",
      "174th test\n",
      "175th test\n",
      "176th test\n",
      "177th test\n",
      "178th test\n",
      "179th test\n",
      "180th test\n",
      "181th test\n",
      "182th test\n",
      "183th test\n",
      "184th test\n",
      "185th test\n",
      "186th test\n",
      "187th test\n",
      "188th test\n",
      "189th test\n",
      "190th test\n",
      "191th test\n",
      "192th test\n",
      "193th test\n",
      "194th test\n",
      "195th test\n",
      "196th test\n",
      "197th test\n",
      "198th test\n",
      "199th test\n",
      "200th test\n",
      "78.55405831336975\n"
     ]
    }
   ],
   "source": [
    "LDPclient = client(device, privacy_level)\n",
    "server_elltwo = server_ell2(device, privacy_level)\n",
    "server_genrr = server_multinomial_genRR(device, privacy_level)\n",
    "server_bitflip = server_multinomial_bitflip(device, privacy_level)\n",
    "\n",
    "p_value_array = np.zeros([n_test, 3])\n",
    "\n",
    "t = time.time()\n",
    "for i in range(n_test):\n",
    "    print(f\"{i+1}th test\")\n",
    "    torch.manual_seed(i)\n",
    "    data_y = data_gen.generate_multinomial_data(p, sample_size)\n",
    "    data_z = data_gen.generate_multinomial_data(p, sample_size)\n",
    "    \n",
    "    LDPclient.load_data_multinomial(data_y, data_z, alphabet_size)\n",
    "    data_list_lapu_y, data_list_lapu_z = LDPclient.release_LapU()\n",
    "    data_list_genrr_y, data_list_genrr_z = LDPclient.release_genRR()\n",
    "    data_list_bitflip_y, data_list_bitflip_z = LDPclient.release_bitFlip()\n",
    "    \n",
    "    server_elltwo.load_private_data_multinomial(data_list_lapu_y, data_list_lapu_z, alphabet_size)\n",
    "    p_value_array[i,0] = server_elltwo.release_p_value_permutation(n_permutation)\n",
    " \n",
    "    server_genrr.load_private_data_multinomial(data_list_genrr_y, data_list_genrr_z, alphabet_size)\n",
    "    p_value_array[i,1] = server_genrr.release_p_value()\n",
    "     \n",
    "    server_bitflip.load_private_data_multinomial(data_list_bitflip_y, data_list_bitflip_z, alphabet_size)\n",
    "    p_value_array[i,2] = server_bitflip.release_p_value()\n",
    "elapsed = time.time() - t\n",
    "print(elapsed)"
   ]
  },
  {
   "cell_type": "code",
   "execution_count": 5,
   "metadata": {},
   "outputs": [
    {
     "name": "stdout",
     "output_type": "stream",
     "text": [
      "p = tensor([0.0050, 0.0450, 0.0050, 0.0450, 0.0050, 0.0450, 0.0050, 0.0450, 0.0050,\n",
      "        0.0450, 0.0050, 0.0450, 0.0050, 0.0450, 0.0050, 0.0450, 0.0050, 0.0450,\n",
      "        0.0050, 0.0450, 0.0050, 0.0450, 0.0050, 0.0450, 0.0050, 0.0450, 0.0050,\n",
      "        0.0450, 0.0050, 0.0450, 0.0050, 0.0450, 0.0050, 0.0450, 0.0050, 0.0450,\n",
      "        0.0050, 0.0450, 0.0050, 0.0450])\n",
      "privacy level = 1\n",
      "sample size = 1000,\n",
      "type I error estimate =\n",
      "    0.065(LapU, ell2)\n",
      "    0.035(GenRR, chi-sq)\n",
      "    0.065(bitflip, ch-sq-proj)\n",
      "\n"
     ]
    }
   ],
   "source": [
    "print(\n",
    "   # f\"small chi-square distance\\n\"+\n",
    "        f\"p = {p}\\n\"+\n",
    "        f\"privacy level = {privacy_level}\"\n",
    ")\n",
    "\n",
    "print(\n",
    "    f\"sample size = {sample_size},\\n\"+\n",
    "    f\"type I error estimate =\\n\"+\n",
    "    f\"    {sum( p_value_array[:,0]<0.05)/n_test }(LapU, ell2)\\n\"+\n",
    "    f\"    {sum( p_value_array[:,1]<0.05)/n_test }(GenRR, chi-sq)\\n\"+\n",
    "    f\"    {sum( p_value_array[:,2]<0.05)/n_test }(bitflip, ch-sq-proj)\\n\"\n",
    ")\n",
    "with open('/mnt/nas/users/mjm/LDPUts/simul/type_1/hi_dim/far_from_unif/n_1000_alpha_1_type_1.npy', 'wb') as f:\n",
    "    np.save(f, p_value_array)"
   ]
  },
  {
   "cell_type": "code",
   "execution_count": 6,
   "metadata": {},
   "outputs": [],
   "source": [
    "type_1_nominal = np.linspace(0,1,100)\n",
    "type_1_real_ell2 = np.zeros(100)\n",
    "type_1_real_genrr = np.zeros(100)\n",
    "type_1_real_bitflip = np.zeros(100)\n",
    "\n",
    "for i, level in enumerate(type_1_nominal):\n",
    "    type_1_real_ell2[i] = sum( p_value_array[:,0]<level)/n_test\n",
    "    type_1_real_genrr[i] = sum( p_value_array[:,1]<level)/n_test\n",
    "    type_1_real_bitflip[i] = sum( p_value_array[:,2]<level)/n_test"
   ]
  },
  {
   "cell_type": "code",
   "execution_count": 7,
   "metadata": {},
   "outputs": [
    {
     "data": {
      "text/plain": [
       "[<matplotlib.lines.Line2D at 0x7f053a3ca4f0>]"
      ]
     },
     "execution_count": 7,
     "metadata": {},
     "output_type": "execute_result"
    },
    {
     "data": {
      "image/png": "[encoded data removed]",
      "text/plain": [
       "<Figure size 432x288 with 1 Axes>"
      ]
     },
     "metadata": {
      "needs_background": "light"
     },
     "output_type": "display_data"
    }
   ],
   "source": [
    "plt.plot(type_1_nominal, type_1_nominal)\n",
    "plt.plot(type_1_nominal, type_1_real_ell2)"
   ]
  },
  {
   "cell_type": "code",
   "execution_count": 8,
   "metadata": {},
   "outputs": [
    {
     "data": {
      "text/plain": [
       "[<matplotlib.lines.Line2D at 0x7f053a2bbac0>]"
      ]
     },
     "execution_count": 8,
     "metadata": {},
     "output_type": "execute_result"
    },
    {
     "data": {
      "image/png": "[encoded data removed]",
      "text/plain": [
       "<Figure size 432x288 with 1 Axes>"
      ]
     },
     "metadata": {
      "needs_background": "light"
     },
     "output_type": "display_data"
    }
   ],
   "source": [
    "plt.plot(type_1_nominal, type_1_nominal)\n",
    "plt.plot(type_1_nominal, type_1_real_genrr)"
   ]
  },
  {
   "cell_type": "code",
   "execution_count": 9,
   "metadata": {},
   "outputs": [
    {
     "data": {
      "text/plain": [
       "[<matplotlib.lines.Line2D at 0x7f05380df070>]"
      ]
     },
     "execution_count": 9,
     "metadata": {},
     "output_type": "execute_result"
    },
    {
     "data": {
      "image/png": "[encoded data removed]",
      "text/plain": [
       "<Figure size 432x288 with 1 Axes>"
      ]
     },
     "metadata": {
      "needs_background": "light"
     },
     "output_type": "display_data"
    }
   ],
   "source": [
    "plt.plot(type_1_nominal, type_1_nominal)\n",
    "plt.plot(type_1_nominal, type_1_real_bitflip)"
   ]
  },
  {
   "cell_type": "code",
   "execution_count": null,
   "metadata": {},
   "outputs": [],
   "source": []
  }
 ],
 "metadata": {
  "kernelspec": {
   "display_name": "Python 3 (ipykernel)",
   "language": "python",
   "name": "python3"
  },
  "language_info": {
   "codemirror_mode": {
    "name": "ipython",
    "version": 3
   },
   "file_extension": ".py",
   "mimetype": "text/x-python",
   "name": "python",
   "nbconvert_exporter": "python",
   "pygments_lexer": "ipython3",
   "version": "3.8.16"
  }
 },
 "nbformat": 4,
 "nbformat_minor": 4
}
