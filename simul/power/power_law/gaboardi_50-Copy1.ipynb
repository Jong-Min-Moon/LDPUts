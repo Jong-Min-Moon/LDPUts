{
 "cells": [
  {
   "cell_type": "code",
   "execution_count": 2,
   "metadata": {},
   "outputs": [],
   "source": [
    "import sys\n",
    "sys.path.insert(0, '/mnt/nas/users/mjm/LDPUts')\n",
    "\n",
    "from discretizer import discretizer\n",
    "from client import client\n",
    "import torch\n",
    "device = torch.device(\"cuda:0\" if torch.cuda.is_available() else \"cpu\")\n",
    "import matplotlib.pyplot as plt\n",
    "from server import server_ell2, server_multinomial_genRR, server_multinomial_bitflip\n",
    "from data_generator import data_generator\n",
    "from discretizer import discretizer\n",
    "import time\n",
    "import numpy as np\n",
    "from scipy.stats import chi2\n",
    "from utils import chi_sq_dist"
   ]
  },
  {
   "cell_type": "code",
   "execution_count": 3,
   "metadata": {},
   "outputs": [],
   "source": [
    "LDPclient = client(device, 1)\n",
    "LDPclient.load_data_multinomial( torch.tensor([0]).to(device),  torch.tensor([1]).to(device), 2)\n",
    "noise_discLapU_y = np.zeros([10000,2])\n",
    "noise_discLapU_z = np.zeros([10000,2])"
   ]
  },
  {
   "cell_type": "code",
   "execution_count": 4,
   "metadata": {},
   "outputs": [
    {
     "data": {
      "text/plain": [
       "tensor([0], device='cuda:0')"
      ]
     },
     "execution_count": 4,
     "metadata": {},
     "output_type": "execute_result"
    }
   ],
   "source": [
    "LDPclient.data_y"
   ]
  },
  {
   "cell_type": "code",
   "execution_count": 5,
   "metadata": {},
   "outputs": [
    {
     "data": {
      "text/plain": [
       "tensor([1], device='cuda:0')"
      ]
     },
     "execution_count": 5,
     "metadata": {},
     "output_type": "execute_result"
    }
   ],
   "source": [
    "LDPclient.data_z"
   ]
  },
  {
   "cell_type": "code",
   "execution_count": 3,
   "metadata": {},
   "outputs": [
    {
     "data": {
      "text/plain": [
       "array([[0., 0.],\n",
       "       [0., 0.],\n",
       "       [0., 0.],\n",
       "       ...,\n",
       "       [0., 0.],\n",
       "       [0., 0.],\n",
       "       [0., 0.]])"
      ]
     },
     "execution_count": 3,
     "metadata": {},
     "output_type": "execute_result"
    }
   ],
   "source": [
    "noise_discLapU_y"
   ]
  },
  {
   "cell_type": "code",
   "execution_count": 11,
   "metadata": {},
   "outputs": [],
   "source": [
    "for i in range(10000):    \n",
    "    y,z = LDPclient.release_DiscLapU_test()\n",
    "    noise_discLapU_y[i,:] =  y.cpu()\n",
    "    noise_discLapU_z[i,:]=  z.cpu()"
   ]
  },
  {
   "cell_type": "code",
   "execution_count": 14,
   "metadata": {},
   "outputs": [
    {
     "data": {
      "text/plain": [
       "0.9907"
      ]
     },
     "execution_count": 14,
     "metadata": {},
     "output_type": "execute_result"
    }
   ],
   "source": [
    "noise_discLapU_y[:,0].mean()"
   ]
  },
  {
   "cell_type": "code",
   "execution_count": 28,
   "metadata": {},
   "outputs": [
    {
     "data": {
      "text/plain": [
       "(array([1.000e+00, 0.000e+00, 0.000e+00, 0.000e+00, 1.000e+00, 0.000e+00,\n",
       "        0.000e+00, 3.000e+00, 0.000e+00, 1.000e+00, 0.000e+00, 5.000e+00,\n",
       "        3.000e+00, 6.000e+00, 1.500e+01, 1.100e+01, 2.500e+01, 3.300e+01,\n",
       "        5.900e+01, 7.300e+01, 1.110e+02, 1.560e+02, 1.950e+02, 3.300e+02,\n",
       "        4.170e+02, 6.080e+02, 8.630e+02, 1.238e+03, 1.722e+03, 1.218e+03,\n",
       "        9.140e+02, 6.150e+02, 3.970e+02, 2.940e+02, 2.050e+02, 1.350e+02,\n",
       "        9.800e+01, 7.300e+01, 3.400e+01, 4.400e+01, 2.400e+01, 2.300e+01,\n",
       "        1.500e+01, 1.300e+01, 6.000e+00, 5.000e+00, 2.000e+00, 2.000e+00,\n",
       "        3.000e+00, 2.000e+00, 2.000e+00]),\n",
       " array([-27, -26, -25, -24, -23, -22, -21, -20, -19, -18, -17, -16, -15,\n",
       "        -14, -13, -12, -11, -10,  -9,  -8,  -7,  -6,  -5,  -4,  -3,  -2,\n",
       "         -1,   0,   1,   2,   3,   4,   5,   6,   7,   8,   9,  10,  11,\n",
       "         12,  13,  14,  15,  16,  17,  18,  19,  20,  21,  22,  23,  24]),\n",
       " <BarContainer object of 51 artists>)"
      ]
     },
     "execution_count": 28,
     "metadata": {},
     "output_type": "execute_result"
    },
    {
     "data": {
      "image/png": "[encoded data removed]",
      "text/plain": [
       "<Figure size 432x288 with 1 Axes>"
      ]
     },
     "metadata": {
      "needs_background": "light"
     },
     "output_type": "display_data"
    }
   ],
   "source": [
    "plt.hist(noise_discLapU_y[:,0], bins = range(\n",
    "    int(min(noise_discLapU_y[:,0])),\n",
    "    int(max(noise_discLapU_y[:,0])+1),\n",
    "    1\n",
    ")\n",
    "        )"
   ]
  },
  {
   "cell_type": "code",
   "execution_count": 29,
   "metadata": {},
   "outputs": [
    {
     "data": {
      "text/plain": [
       "(array([1.000e+00, 2.000e+00, 1.000e+00, 1.000e+00, 2.000e+00, 3.000e+00,\n",
       "        5.000e+00, 7.000e+00, 1.100e+01, 2.200e+01, 2.800e+01, 3.800e+01,\n",
       "        5.400e+01, 7.900e+01, 1.120e+02, 1.290e+02, 1.860e+02, 3.090e+02,\n",
       "        4.420e+02, 5.530e+02, 8.430e+02, 1.205e+03, 1.702e+03, 1.274e+03,\n",
       "        9.130e+02, 6.070e+02, 4.550e+02, 2.980e+02, 2.090e+02, 1.550e+02,\n",
       "        1.160e+02, 7.600e+01, 3.800e+01, 3.500e+01, 3.100e+01, 1.700e+01,\n",
       "        1.400e+01, 1.100e+01, 5.000e+00, 3.000e+00, 2.000e+00, 3.000e+00,\n",
       "        0.000e+00, 3.000e+00]),\n",
       " array([-22, -21, -20, -19, -18, -17, -16, -15, -14, -13, -12, -11, -10,\n",
       "         -9,  -8,  -7,  -6,  -5,  -4,  -3,  -2,  -1,   0,   1,   2,   3,\n",
       "          4,   5,   6,   7,   8,   9,  10,  11,  12,  13,  14,  15,  16,\n",
       "         17,  18,  19,  20,  21,  22]),\n",
       " <BarContainer object of 44 artists>)"
      ]
     },
     "execution_count": 29,
     "metadata": {},
     "output_type": "execute_result"
    },
    {
     "data": {
      "image/png": "[encoded data removed]",
      "text/plain": [
       "<Figure size 432x288 with 1 Axes>"
      ]
     },
     "metadata": {
      "needs_background": "light"
     },
     "output_type": "display_data"
    }
   ],
   "source": [
    "plt.hist(noise_discLapU_z[:,0], bins = range(\n",
    "    int(min(noise_discLapU_z[:,0])),\n",
    "    int(max(noise_discLapU_z[:,0])+1),\n",
    "    1\n",
    ")\n",
    "        )"
   ]
  },
  {
   "cell_type": "code",
   "execution_count": 31,
   "metadata": {},
   "outputs": [],
   "source": [
    "def prob_tuple(tup, Lap_output):\n",
    "    bit_vec = np.ones(10000)\n",
    "    for i in range(10000):\n",
    "        bit_vec[i] = bit_vec[i] * (Lap_output[i,0] == tup[0]) * (Lap_output[i,1] == tup[1])\n",
    "    return(bit_vec.mean())"
   ]
  },
  {
   "cell_type": "code",
   "execution_count": 37,
   "metadata": {},
   "outputs": [
    {
     "name": "stdout",
     "output_type": "stream",
     "text": [
      "0.0076\n",
      "0.0157\n"
     ]
    }
   ],
   "source": [
    "print( prob_tuple([0,3], noise_discLapU_y) )\n",
    "print( prob_tuple([0,3], noise_discLapU_z) )"
   ]
  },
  {
   "cell_type": "code",
   "execution_count": 7,
   "metadata": {},
   "outputs": [
    {
     "data": {
      "text/plain": [
       "15.77413744"
      ]
     },
     "execution_count": 7,
     "metadata": {},
     "output_type": "execute_result"
    }
   ],
   "source": [
    "noise_discLapU.var()"
   ]
  },
  {
   "cell_type": "code",
   "execution_count": 8,
   "metadata": {},
   "outputs": [
    {
     "data": {
      "text/plain": [
       "16.119650738812126"
      ]
     },
     "execution_count": 8,
     "metadata": {},
     "output_type": "execute_result"
    }
   ],
   "source": [
    "noise_lapU.var()"
   ]
  },
  {
   "cell_type": "code",
   "execution_count": 42,
   "metadata": {},
   "outputs": [],
   "source": [
    "myclip_a = -2**0.5\n",
    "myclip_b = 2**0.5\n",
    "scale = 2**0.5\n",
    "loc = 0\n",
    "a, b = (myclip_a - loc) / scale, (myclip_b - loc) / scale"
   ]
  },
  {
   "cell_type": "code",
   "execution_count": 43,
   "metadata": {},
   "outputs": [
    {
     "data": {
      "text/plain": [
       "0.4117130573748367"
      ]
     },
     "execution_count": 43,
     "metadata": {},
     "output_type": "execute_result"
    }
   ],
   "source": [
    "import numpy as np\n",
    "from scipy.stats import truncnorm\n",
    "mean, var, skew, kurt = truncnorm.stats(a, b, moments='mvsk')\n",
    "var*(2**0.5)"
   ]
  },
  {
   "cell_type": "code",
   "execution_count": 63,
   "metadata": {},
   "outputs": [
    {
     "data": {
      "text/plain": [
       "tensor(4.)"
      ]
     },
     "execution_count": 63,
     "metadata": {},
     "output_type": "execute_result"
    }
   ],
   "source": [
    "torch.tensor(2*2).sqrt().mul(2).div(1)"
   ]
  },
  {
   "cell_type": "markdown",
   "metadata": {},
   "source": [
    "## privacy level = 1.0"
   ]
  },
  {
   "cell_type": "code",
   "execution_count": null,
   "metadata": {},
   "outputs": [
    {
     "name": "stdout",
     "output_type": "stream",
     "text": [
      "1th test\n",
      "2th test\n",
      "3th test\n",
      "4th test\n",
      "5th test\n",
      "6th test\n",
      "7th test\n",
      "8th test\n",
      "9th test\n",
      "10th test\n",
      "11th test\n",
      "12th test\n",
      "13th test\n",
      "14th test\n",
      "15th test\n",
      "16th test\n",
      "17th test\n",
      "18th test\n",
      "19th test\n",
      "20th test\n",
      "21th test\n",
      "22th test\n",
      "23th test\n",
      "24th test\n",
      "25th test\n",
      "26th test\n",
      "27th test\n",
      "28th test\n",
      "29th test\n",
      "30th test\n",
      "31th test\n",
      "32th test\n",
      "33th test\n",
      "34th test\n",
      "35th test\n",
      "36th test\n",
      "37th test\n",
      "38th test\n",
      "39th test\n",
      "40th test\n",
      "41th test\n",
      "42th test\n",
      "43th test\n",
      "44th test\n",
      "45th test\n",
      "46th test\n",
      "47th test\n",
      "48th test\n",
      "49th test\n",
      "50th test\n",
      "51th test\n",
      "52th test\n",
      "53th test\n",
      "54th test\n",
      "55th test\n",
      "56th test\n",
      "57th test\n",
      "58th test\n",
      "59th test\n",
      "60th test\n",
      "61th test\n",
      "62th test\n",
      "63th test\n",
      "64th test\n",
      "65th test\n",
      "66th test\n",
      "67th test\n",
      "68th test\n",
      "69th test\n",
      "70th test\n",
      "71th test\n",
      "72th test\n",
      "73th test\n",
      "74th test\n",
      "75th test\n",
      "76th test\n",
      "77th test\n",
      "78th test\n",
      "79th test\n",
      "80th test\n",
      "81th test\n",
      "82th test\n",
      "83th test\n",
      "84th test\n",
      "85th test\n",
      "86th test\n",
      "87th test\n",
      "88th test\n",
      "89th test\n",
      "90th test\n",
      "91th test\n",
      "92th test\n",
      "93th test\n",
      "94th test\n",
      "95th test\n",
      "96th test\n",
      "97th test\n"
     ]
    }
   ],
   "source": [
    "p_value_array_priv_10_n_20000 = np.zeros([n_test, 6])\n",
    "\n",
    "privacy_level = 2.0\n",
    "\n",
    "\n",
    "server_elltwo = server_ell2(device, privacy_level)\n",
    "server_elltwo_disc = server_ell2(device, privacy_level)\n",
    "\n",
    "server_genrr = server_multinomial_genRR(device, privacy_level)\n",
    "server_bitflip = server_multinomial_bitflip(device, privacy_level)\n",
    "\n",
    "\n",
    "\n",
    "t = time.time()\n",
    "for i in range(n_test):\n",
    "    print(f\"{i+1}th test\")\n",
    "    torch.manual_seed(i)\n",
    "    data_y = data_gen.generate_multinomial_data(p1, sample_size)\n",
    "    data_z = data_gen.generate_multinomial_data(p2, sample_size)\n",
    "    LDPclient.load_data_multinomial(data_y, data_z, alphabet_size)\n",
    "    \n",
    "    data_lapu_y, data_lapu_z = LDPclient.release_LapU()\n",
    "    server_elltwo.load_private_data_multinomial(data_lapu_y, data_lapu_z, alphabet_size)\n",
    "    p_value_array_priv_10_n_20000[i,0] = server_elltwo.release_p_value_permutation(n_permutation)\n",
    "    \n",
    "    data_disclapu_y, data_disclapu_z = LDPclient.release_DiscLapU()\n",
    "    server_elltwo_disc.load_private_data_multinomial(data_disclapu_y, data_disclapu_z, alphabet_size)\n",
    "    p_value_array_priv_10_n_20000[i,1] = server_elltwo_disc.release_p_value_permutation(n_permutation)\n",
    "    \n",
    "    data_genrr_y, data_genrr_z = LDPclient.release_genRR()\n",
    "    server_genrr.load_private_data_multinomial(data_genrr_y, data_genrr_z, alphabet_size)\n",
    "    p_value_array_priv_10_n_20000[i,2] = server_genrr.release_p_value_permutation(n_permutation)\n",
    "    p_value_array_priv_10_n_20000[i,3] = server_genrr.release_p_value()\n",
    "    \n",
    "    data_bitflip_y, data_bitflip_z = LDPclient.release_bitFlip()\n",
    "    server_bitflip.load_private_data_multinomial(data_bitflip_y, data_bitflip_z, alphabet_size)\n",
    "    p_value_array_priv_10_n_20000[i,4] = server_bitflip.release_p_value_permutation(n_permutation)\n",
    "    p_value_array_priv_10_n_20000[i,5] = server_bitflip.release_p_value()\n",
    "elapsed = time.time() - t"
   ]
  },
  {
   "cell_type": "code",
   "execution_count": 23,
   "metadata": {},
   "outputs": [
    {
     "data": {
      "text/plain": [
       "array([0.03, 0.12, 0.14, 0.14, 0.09, 0.1 ])"
      ]
     },
     "execution_count": 23,
     "metadata": {},
     "output_type": "execute_result"
    }
   ],
   "source": [
    "(p_value_array_priv_10_n_20000<significance_level).mean(axis=0)"
   ]
  },
  {
   "cell_type": "code",
   "execution_count": 7,
   "metadata": {},
   "outputs": [
    {
     "data": {
      "text/plain": [
       "tensor([3, 3, 1,  ..., 0, 3, 1], device='cuda:0')"
      ]
     },
     "execution_count": 7,
     "metadata": {},
     "output_type": "execute_result"
    }
   ],
   "source": [
    "data_y"
   ]
  },
  {
   "cell_type": "code",
   "execution_count": null,
   "metadata": {},
   "outputs": [],
   "source": []
  }
 ],
 "metadata": {
  "kernelspec": {
   "display_name": "Python 3 (ipykernel)",
   "language": "python",
   "name": "python3"
  },
  "language_info": {
   "codemirror_mode": {
    "name": "ipython",
    "version": 3
   },
   "file_extension": ".py",
   "mimetype": "text/x-python",
   "name": "python",
   "nbconvert_exporter": "python",
   "pygments_lexer": "ipython3",
   "version": "3.8.16"
  }
 },
 "nbformat": 4,
 "nbformat_minor": 4
}
