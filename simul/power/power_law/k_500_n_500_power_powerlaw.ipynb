{
 "cells": [
  {
   "cell_type": "code",
   "execution_count": null,
   "metadata": {},
   "outputs": [],
   "source": [
    "import sys\n",
    "sys.path.insert(0, '/mnt/nas/users/mjm/LDPUts')\n",
    "\n",
    "from discretizer import discretizer\n",
    "from client import client\n",
    "import torch\n",
    "device = torch.device(\"cuda:0\" if torch.cuda.is_available() else \"cpu\")\n",
    "import matplotlib.pyplot as plt\n",
    "from server import server_ell2, server_multinomial_genrr, server_multinomial_bitflip\n",
    "from data_generator import data_generator\n",
    "from discretizer import discretizer\n",
    "import time\n",
    "import numpy as np\n",
    "from scipy.stats import chi2\n",
    "from utils import chi_sq_dist"
   ]
  },
  {
   "cell_type": "code",
   "execution_count": 30,
   "metadata": {},
   "outputs": [
    {
     "data": {
      "image/png": "[encoded data removed]",
      "text/plain": [
       "<Figure size 432x288 with 1 Axes>"
      ]
     },
     "metadata": {
      "needs_background": "light"
     },
     "output_type": "display_data"
    }
   ],
   "source": [
    "n_test = 10\n",
    "n_permutation = 99\n",
    "significance_level = 0.05\n",
    "alphabet_size = 500\n",
    "\n",
    "###################\n",
    "sample_size = 50000\n",
    "###################\n",
    "\n",
    "data_gen = data_generator(device)\n",
    "\n",
    "p1 = torch.arange(1,alphabet_size).reciprocal()\n",
    "p1 = p1.divide(p1.sum())\n",
    "\n",
    "p2 = p1.clone()\n",
    "p2[0] = p2[0]*2\n",
    "p2[1] = p2[1]*2\n",
    "p2 = p2.divide(p2.sum())\n",
    "plt.plot(p1)\n",
    "plt.plot(p2)\n",
    "\n",
    "\n",
    "p_value_array_priv_01 = np.zeros([n_test, 3])\n",
    "p_value_array_priv_05 = np.zeros([n_test, 3])\n",
    "p_value_array_priv_10 = np.zeros([n_test, 3])\n",
    "p_value_array_priv_20 = np.zeros([n_test, 3])\n"
   ]
  },
  {
   "cell_type": "markdown",
   "metadata": {},
   "source": [
    "## privacy level = 0.1"
   ]
  },
  {
   "cell_type": "code",
   "execution_count": null,
   "metadata": {},
   "outputs": [],
   "source": [
    "privacy_level = 0.1\n",
    "\n",
    "LDPclient = client(device, privacy_level)\n",
    "server_elltwo = server_ell2(device, privacy_level)\n",
    "server_genrr = server_multinomial_genrr(device, privacy_level)\n",
    "server_bitflip = server_multinomial_bitflip(device, privacy_level)\n",
    "\n",
    "t = time.time()\n",
    "for i in range(n_test):\n",
    "    print(f\"{i+1}th test\")\n",
    "    torch.manual_seed(i)\n",
    "    data_y = data_gen.generate_multinomial_data(p1, sample_size)\n",
    "    data_z = data_gen.generate_multinomial_data(p2, sample_size)\n",
    "    \n",
    "    LDPclient.load_data_multinomial(data_y, data_z, alphabet_size)\n",
    "    data_list_lapu_y, data_list_lapu_z = LDPclient.release_lapu()\n",
    "    data_list_genrr_y, data_list_genrr_z = LDPclient.release_genrr()\n",
    "    data_list_bitflip_y, data_list_bitflip_z = LDPclient.release_bitflip()\n",
    "    \n",
    "    server_elltwo.load_private_data_multinomial(data_list_lapu_y, data_list_lapu_z, alphabet_size)\n",
    "    p_value_array_priv_01[i,0] = server_elltwo.release_p_value_permutation(n_permutation)\n",
    " \n",
    "    server_genrr.load_private_data_multinomial(data_list_genrr_y, data_list_genrr_z, alphabet_size)\n",
    "    p_value_array_priv_01[i,1] = server_genrr.release_p_value()\n",
    "     \n",
    "    server_bitflip.load_private_data_multinomial(data_list_bitflip_y, data_list_bitflip_z, alphabet_size)\n",
    "    p_value_array_priv_01[i,2] = server_bitflip.release_p_value()\n",
    "elapsed = time.time() - t\n",
    "print(elapsed)\n",
    "print(\n",
    "   # f\"small chi-square distance\\n\"+\n",
    "        f\"privacy level = {privacy_level}\"\n",
    ")\n",
    "\n",
    "\n",
    "with open('/mnt/nas/users/mjm/LDPUts/simul/power/power_law/k_500_n_500_alpha_01_type_1_powerlaw', 'wb') as f:\n",
    "    np.save(f, p_value_array_priv_01)"
   ]
  },
  {
   "cell_type": "markdown",
   "metadata": {},
   "source": [
    "## privacy level = 0.5"
   ]
  },
  {
   "cell_type": "code",
   "execution_count": null,
   "metadata": {},
   "outputs": [],
   "source": [
    "privacy_level = 0.5\n",
    "\n",
    "LDPclient = client(device, privacy_level)\n",
    "server_elltwo = server_ell2(device, privacy_level)\n",
    "server_genrr = server_multinomial_genrr(device, privacy_level)\n",
    "server_bitflip = server_multinomial_bitflip(device, privacy_level)\n",
    "\n",
    "t = time.time()\n",
    "for i in range(n_test):\n",
    "    print(f\"{i+1}th test\")\n",
    "    torch.manual_seed(i)\n",
    "    data_y = data_gen.generate_multinomial_data(p1, sample_size)\n",
    "    data_z = data_gen.generate_multinomial_data(p2, sample_size)\n",
    "    \n",
    "    LDPclient.load_data_multinomial(data_y, data_z, alphabet_size)\n",
    "    data_list_lapu_y, data_list_lapu_z = LDPclient.release_lapu()\n",
    "    data_list_genrr_y, data_list_genrr_z = LDPclient.release_genrr()\n",
    "    data_list_bitflip_y, data_list_bitflip_z = LDPclient.release_bitflip()\n",
    "    \n",
    "    server_elltwo.load_private_data_multinomial(data_list_lapu_y, data_list_lapu_z, alphabet_size)\n",
    "    p_value_array_priv_05[i,0] = server_elltwo.release_p_value_permutation(n_permutation)\n",
    " \n",
    "    server_genrr.load_private_data_multinomial(data_list_genrr_y, data_list_genrr_z, alphabet_size)\n",
    "    p_value_array_priv_05[i,1] = server_genrr.release_p_value()\n",
    "     \n",
    "    server_bitflip.load_private_data_multinomial(data_list_bitflip_y, data_list_bitflip_z, alphabet_size)\n",
    "    p_value_array_priv_05[i,2] = server_bitflip.release_p_value()\n",
    "elapsed = time.time() - t\n",
    "print(elapsed)\n",
    "print(\n",
    "   # f\"small chi-square distance\\n\"+\n",
    "        f\"privacy level = {privacy_level}\"\n",
    ")\n",
    "\n",
    "\n",
    "with open('/mnt/nas/users/mjm/LDPUts/simul/type_1/hi_dim/power_law/k_500_n_500_alpha_05_type_1_powerlaw', 'wb') as f:\n",
    "    np.save(f, p_value_array_priv_05)"
   ]
  },
  {
   "cell_type": "markdown",
   "metadata": {},
   "source": [
    "## privacy level = 1.0"
   ]
  },
  {
   "cell_type": "code",
   "execution_count": 35,
   "metadata": {},
   "outputs": [
    {
     "name": "stdout",
     "output_type": "stream",
     "text": [
      "1th test\n",
      "2th test\n",
      "3th test\n",
      "4th test\n",
      "5th test\n",
      "6th test\n",
      "7th test\n",
      "8th test\n",
      "9th test\n",
      "10th test\n",
      "90.18623495101929\n",
      "privacy level = 2.0\n"
     ]
    }
   ],
   "source": [
    "privacy_level = 2.0\n",
    "\n",
    "LDPclient = client(device, privacy_level)\n",
    "server_elltwo = server_ell2(device, privacy_level)\n",
    "server_genrr = server_ell2(device, privacy_level)\n",
    "server_bitflip = server_ell2(device, privacy_level)\n",
    "\n",
    "t = time.time()\n",
    "for i in range(n_test):\n",
    "    print(f\"{i+1}th test\")\n",
    "    torch.manual_seed(i)\n",
    "    data_y = data_gen.generate_multinomial_data(p1, sample_size)\n",
    "    data_z = data_gen.generate_multinomial_data(p2, sample_size)\n",
    "    \n",
    "    LDPclient.load_data_multinomial(data_y, data_z, alphabet_size)\n",
    "    data_list_lapu_y, data_list_lapu_z = LDPclient.release_lapu()\n",
    "    data_list_genrr_y, data_list_genrr_z = LDPclient.release_genrr()\n",
    "    data_list_bitflip_y, data_list_bitflip_z = LDPclient.release_bitflip()\n",
    "    \n",
    "    server_elltwo.load_private_data_multinomial(data_list_lapu_y, data_list_lapu_z, alphabet_size)\n",
    "    p_value_array_priv_10[i,0] = server_elltwo.release_p_value_permutation(n_permutation)\n",
    " \n",
    "    server_genrr.load_private_data_multinomial(data_list_genrr_y, data_list_genrr_z, alphabet_size)\n",
    "    p_value_array_priv_10[i,1] = server_genrr.release_p_value_permutation(n_permutation)\n",
    "     \n",
    "    server_bitflip.load_private_data_multinomial(data_list_bitflip_y, data_list_bitflip_z, alphabet_size)\n",
    "    p_value_array_priv_10[i,2] = server_bitflip.release_p_value_permutation(n_permutation)\n",
    "elapsed = time.time() - t\n",
    "print(elapsed)\n",
    "print(\n",
    "   # f\"small chi-square distance\\n\"+\n",
    "        f\"privacy level = {privacy_level}\"\n",
    ")\n",
    "\n",
    "\n",
    "with open('/mnt/nas/users/mjm/LDPUts/simul/power/power_law/k_500_n_500_alpha_10_type_1_powerlaw', 'wb') as f:\n",
    "    np.save(f, p_value_array_priv_10)"
   ]
  },
  {
   "cell_type": "code",
   "execution_count": 36,
   "metadata": {},
   "outputs": [
    {
     "name": "stdout",
     "output_type": "stream",
     "text": [
      "1.0\n",
      "0.1\n",
      "1.0\n"
     ]
    }
   ],
   "source": [
    "print((p_value_array_priv_10[:,0]<significance_level).mean())\n",
    "print((p_value_array_priv_10[:,1]<significance_level).mean())\n",
    "print((p_value_array_priv_10[:,2]<significance_level).mean())"
   ]
  },
  {
   "cell_type": "code",
   "execution_count": null,
   "metadata": {},
   "outputs": [],
   "source": []
  },
  {
   "cell_type": "markdown",
   "metadata": {},
   "source": [
    "## privacy level = 2.0"
   ]
  },
  {
   "cell_type": "code",
   "execution_count": null,
   "metadata": {},
   "outputs": [],
   "source": [
    "privacy_level = 2.0\n",
    "\n",
    "LDPclient = client(device, privacy_level)\n",
    "server_elltwo = server_ell2(device, privacy_level)\n",
    "server_genrr = server_multinomial_genrr(device, privacy_level)\n",
    "server_bitflip = server_multinomial_bitflip(device, privacy_level)\n",
    "\n",
    "t = time.time()\n",
    "for i in range(n_test):\n",
    "    print(f\"{i+1}th test\")\n",
    "    torch.manual_seed(i)\n",
    "    data_y = data_gen.generate_multinomial_data(p1, sample_size)\n",
    "    data_z = data_gen.generate_multinomial_data(p2, sample_size)\n",
    "    \n",
    "    LDPclient.load_data_multinomial(data_y, data_z, alphabet_size)\n",
    "    data_list_lapu_y, data_list_lapu_z = LDPclient.release_lapu()\n",
    "    data_list_genrr_y, data_list_genrr_z = LDPclient.release_genrr()\n",
    "    data_list_bitflip_y, data_list_bitflip_z = LDPclient.release_bitflip()\n",
    "    \n",
    "    server_elltwo.load_private_data_multinomial(data_list_lapu_y, data_list_lapu_z, alphabet_size)\n",
    "    p_value_array_priv_20[i,0] = server_elltwo.release_p_value_permutation(n_permutation)\n",
    " \n",
    "    server_genrr.load_private_data_multinomial(data_list_genrr_y, data_list_genrr_z, alphabet_size)\n",
    "    p_value_array_priv_20[i,1] = server_genrr.release_p_value()\n",
    "     \n",
    "    server_bitflip.load_private_data_multinomial(data_list_bitflip_y, data_list_bitflip_z, alphabet_size)\n",
    "    p_value_array_priv_20[i,2] = server_bitflip.release_p_value()\n",
    "elapsed = time.time() - t\n",
    "print(elapsed)\n",
    "print(\n",
    "   # f\"small chi-square distance\\n\"+\n",
    "        f\"privacy level = {privacy_level}\"\n",
    ")\n",
    "\n",
    "\n",
    "with open('/mnt/nas/users/mjm/LDPUts/simul/type_1/hi_dim/power_law/k_500_n_500_alpha_20_type_1_powerlaw', 'wb') as f:\n",
    "    np.save(f, p_value_array_priv_20)"
   ]
  }
 ],
 "metadata": {
  "kernelspec": {
   "display_name": "Python 3 (ipykernel)",
   "language": "python",
   "name": "python3"
  },
  "language_info": {
   "codemirror_mode": {
    "name": "ipython",
    "version": 3
   },
   "file_extension": ".py",
   "mimetype": "text/x-python",
   "name": "python",
   "nbconvert_exporter": "python",
   "pygments_lexer": "ipython3",
   "version": "3.8.16"
  }
 },
 "nbformat": 4,
 "nbformat_minor": 4
}
