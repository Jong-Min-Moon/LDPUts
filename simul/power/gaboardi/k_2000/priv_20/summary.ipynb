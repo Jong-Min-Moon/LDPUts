{
 "cells": [
  {
   "cell_type": "code",
   "execution_count": 2,
   "metadata": {},
   "outputs": [
    {
     "data": {
      "text/plain": [
       "array([0.69333333])"
      ]
     },
     "execution_count": 2,
     "metadata": {},
     "output_type": "execute_result"
    }
   ],
   "source": [
    "import numpy as np\n",
    "filename = \"/Users/jmmoon/Documents/GitHub/LDPUts/simul/power/gaboardi/k_2000/priv_20/bitflip_chi/p_value_array_priv_bitflip_priv_20_k_2000_n_200000_high_sig.npy\"\n",
    "p_val_mat = np.load(filename)\n",
    "(p_val_mat<0.05).mean(axis=0)"
   ]
  },
  {
   "cell_type": "code",
   "execution_count": 3,
   "metadata": {},
   "outputs": [
    {
     "data": {
      "text/plain": [
       "array([0.16666667])"
      ]
     },
     "execution_count": 3,
     "metadata": {},
     "output_type": "execute_result"
    }
   ],
   "source": [
    "filename_riv_20_k_2000_n_200000high_sig = \"/Users/jmmoon/Documents/GitHub/LDPUts/simul/power/gaboardi/k_2000/priv_20/lapu_ell2/p_value_array_priv_lapu_ell2_priv_20_k_2000_n_200000high_sig.npy\"\n",
    "p_val_mat_lapu = np.load(filename_riv_20_k_2000_n_200000high_sig)\n",
    "(p_val_mat_lapu<0.05).mean(axis=0)"
   ]
  }
 ],
 "metadata": {
  "kernelspec": {
   "display_name": "Python 3",
   "language": "python",
   "name": "python3"
  },
  "language_info": {
   "codemirror_mode": {
    "name": "ipython",
    "version": 3
   },
   "file_extension": ".py",
   "mimetype": "text/x-python",
   "name": "python",
   "nbconvert_exporter": "python",
   "pygments_lexer": "ipython3",
   "version": "3.9.6"
  }
 },
 "nbformat": 4,
 "nbformat_minor": 2
}
