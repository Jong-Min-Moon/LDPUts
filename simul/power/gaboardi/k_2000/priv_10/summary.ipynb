{
 "cells": [
  {
   "cell_type": "code",
   "execution_count": 2,
   "metadata": {},
   "outputs": [],
   "source": [
    "import numpy as np\n",
    "from os import listdir\n",
    "from os.path import isfile, join\n"
   ]
  },
  {
   "cell_type": "code",
   "execution_count": 3,
   "metadata": {},
   "outputs": [
    {
     "ename": "FileNotFoundError",
     "evalue": "[WinError 3] The system cannot find the path specified: './lapu_ell2/result/'",
     "output_type": "error",
     "traceback": [
      "\u001b[1;31m---------------------------------------------------------------------------\u001b[0m",
      "\u001b[1;31mFileNotFoundError\u001b[0m                         Traceback (most recent call last)",
      "Cell \u001b[1;32mIn[3], line 2\u001b[0m\n\u001b[0;32m      1\u001b[0m path_lapu_ell2 \u001b[38;5;241m=\u001b[39m \u001b[38;5;124m'\u001b[39m\u001b[38;5;124m./\u001b[39m\u001b[38;5;124m'\u001b[39m\u001b[38;5;241m+\u001b[39m\u001b[38;5;124m'\u001b[39m\u001b[38;5;124mlapu_ell2\u001b[39m\u001b[38;5;124m'\u001b[39m \u001b[38;5;241m+\u001b[39m \u001b[38;5;124m'\u001b[39m\u001b[38;5;124m/result/\u001b[39m\u001b[38;5;124m'\u001b[39m\n\u001b[1;32m----> 2\u001b[0m filelist_lapu_ell2 \u001b[38;5;241m=\u001b[39m [f \u001b[38;5;28;01mfor\u001b[39;00m f \u001b[38;5;129;01min\u001b[39;00m \u001b[43mlistdir\u001b[49m\u001b[43m(\u001b[49m\u001b[43mpath_lapu_ell2\u001b[49m\u001b[43m)\u001b[49m \u001b[38;5;28;01mif\u001b[39;00m isfile(join(path_lapu_ell2, f))]\n\u001b[0;32m      3\u001b[0m filelist_lapu_ell2\u001b[38;5;241m.\u001b[39msort()\n\u001b[0;32m      5\u001b[0m path_genrr_ell2 \u001b[38;5;241m=\u001b[39m \u001b[38;5;124m'\u001b[39m\u001b[38;5;124m./\u001b[39m\u001b[38;5;124m'\u001b[39m\u001b[38;5;241m+\u001b[39m\u001b[38;5;124m'\u001b[39m\u001b[38;5;124mgenrr_ell2\u001b[39m\u001b[38;5;124m'\u001b[39m \u001b[38;5;241m+\u001b[39m \u001b[38;5;124m'\u001b[39m\u001b[38;5;124m/result/\u001b[39m\u001b[38;5;124m'\u001b[39m\n",
      "\u001b[1;31mFileNotFoundError\u001b[0m: [WinError 3] The system cannot find the path specified: './lapu_ell2/result/'"
     ]
    }
   ],
   "source": [
    "path_lapu_ell2 = './'+'lapu_ell2' + '/result/'\n",
    "filelist_lapu_ell2 = [f for f in listdir(path_lapu_ell2) if isfile(join(path_lapu_ell2, f))]\n",
    "filelist_lapu_ell2.sort()\n",
    "\n",
    "path_genrr_ell2 = './'+'genrr_ell2' + '/result/'\n",
    "filelist_genrr_ell2= [f for f in listdir(path_genrr_ell2) if isfile(join(path_genrr_ell2, f))]\n",
    "filelist_genrr_ell2.sort()\n",
    "\n",
    "path_bitflip_ell2 = './'+'bitflip_ell2' + '/result/'\n",
    "filelist_bitflip_ell2 = [f for f in listdir(path_bitflip_ell2) if isfile(join(path_bitflip_ell2, f))]\n",
    "filelist_bitflip_ell2.sort()\n"
   ]
  },
  {
   "cell_type": "code",
   "execution_count": 44,
   "metadata": {},
   "outputs": [
    {
     "data": {
      "text/plain": [
       "['pval_k_2000_priv_20_bitflip_ell2_n_100000.npy',\n",
       " 'pval_k_2000_priv_20_bitflip_ell2_n_120000.npy',\n",
       " 'pval_k_2000_priv_20_bitflip_ell2_n_150000.npy',\n",
       " 'pval_k_2000_priv_20_bitflip_ell2_n_170000.npy',\n",
       " 'pval_k_2000_priv_20_bitflip_ell2_n_200000.npy',\n",
       " 'pval_k_2000_priv_20_bitflip_ell2_n_220000.npy',\n",
       " 'pval_k_2000_priv_20_bitflip_ell2_n_250000.npy',\n",
       " 'pval_k_2000_priv_20_bitflip_ell2_n_270000.npy',\n",
       " 'pval_k_2000_priv_20_bitflip_ell2_n_300000.npy']"
      ]
     },
     "execution_count": 44,
     "metadata": {},
     "output_type": "execute_result"
    }
   ],
   "source": [
    "filelist_bitflip_ell2"
   ]
  },
  {
   "cell_type": "code",
   "execution_count": 45,
   "metadata": {},
   "outputs": [],
   "source": [
    "path_lapu_ell2 = './'+'lapu_ell2' + '/result/'\n",
    "filelist_lapu_ell2 = [f for f in listdir(path_lapu_ell2) if isfile(join(path_lapu_ell2, f))]\n",
    "onlyfiles.sort()\n",
    "\n",
    "sample_size_list = np.array([10, 12, 15, 17, 20, 22, 25, 27, 30])\n",
    "k2000_priv20_table = np.zeros([len(sample_size_list),4])"
   ]
  },
  {
   "cell_type": "code",
   "execution_count": 46,
   "metadata": {},
   "outputs": [
    {
     "name": "stdout",
     "output_type": "stream",
     "text": [
      "0\n",
      "1\n",
      "2\n",
      "3\n",
      "4\n",
      "5\n",
      "6\n",
      "7\n",
      "8\n"
     ]
    }
   ],
   "source": [
    "for i in range(len(sample_size_list)):\n",
    "    print(i)\n",
    "    k2000_priv20_table[i,0] = sample_size_list[i]\n",
    "    k2000_priv20_table[i,1] = (np.load(path_lapu_ell2+filelist_lapu_ell2[i])<0.05).mean()\n",
    "    k2000_priv20_table[i,2] = (np.load(path_genrr_ell2+filelist_genrr_ell2[i])<0.05).mean()\n",
    "    k2000_priv20_table[i,3] = (np.load(path_bitflip_ell2+filelist_bitflip_ell2[i])<0.05).mean()"
   ]
  },
  {
   "cell_type": "code",
   "execution_count": 47,
   "metadata": {},
   "outputs": [],
   "source": [
    "np.savetxt('k2000_priv20_mix.csv', k2000_priv20_table, delimiter = ',', header = \"n, lapu, genrr, bitflip\", comments = \"\")\n"
   ]
  },
  {
   "cell_type": "code",
   "execution_count": 23,
   "metadata": {},
   "outputs": [],
   "source": []
  },
  {
   "cell_type": "code",
   "execution_count": 20,
   "metadata": {},
   "outputs": [],
   "source": []
  },
  {
   "cell_type": "code",
   "execution_count": null,
   "metadata": {},
   "outputs": [],
   "source": [
    "C:\\Users\\Jongmin\\Documents\\GitHub\\LDPUts\\simul\\power\\gaboardi\\k_2000\\priv_20\\lapu_ell2\\result\\ lapu_ell2_n_100000.npy"
   ]
  }
 ],
 "metadata": {
  "kernelspec": {
   "display_name": "Python 3",
   "language": "python",
   "name": "python3"
  },
  "language_info": {
   "codemirror_mode": {
    "name": "ipython",
    "version": 3
   },
   "file_extension": ".py",
   "mimetype": "text/x-python",
   "name": "python",
   "nbconvert_exporter": "python",
   "pygments_lexer": "ipython3",
   "version": "3.8.16"
  }
 },
 "nbformat": 4,
 "nbformat_minor": 2
}
