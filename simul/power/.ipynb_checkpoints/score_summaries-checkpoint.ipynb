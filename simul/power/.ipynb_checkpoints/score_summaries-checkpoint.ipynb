{
 "cells": [
  {
   "cell_type": "code",
   "execution_count": 2,
   "id": "hourly-librarian",
   "metadata": {},
   "outputs": [],
   "source": [
    "import numpy as np\n",
    "import pandas as pd"
   ]
  },
  {
   "cell_type": "markdown",
   "id": "extra-associate",
   "metadata": {},
   "source": [
    "# alpha = 4"
   ]
  },
  {
   "cell_type": "code",
   "execution_count": 12,
   "id": "engaged-ireland",
   "metadata": {},
   "outputs": [
    {
     "data": {
      "text/plain": [
       "array([1., 1., 1., 1., 1., 1., 1.])"
      ]
     },
     "execution_count": 12,
     "metadata": {},
     "output_type": "execute_result"
    }
   ],
   "source": [
    "p_value_array_priv_40_k_100_n_50000 = np.load('/mnt/nas/users/mjm/LDPUts/simul/power/p_value_array_priv_40_k_100_n_50000.npy')\n",
    "(p_value_array_priv_40_k_100_n_50000<0.05).mean(axis = 0)"
   ]
  },
  {
   "cell_type": "code",
   "execution_count": 7,
   "id": "lovely-liver",
   "metadata": {},
   "outputs": [
    {
     "data": {
      "text/plain": [
       "array([1., 1., 1., 1., 1., 1., 1.])"
      ]
     },
     "execution_count": 7,
     "metadata": {},
     "output_type": "execute_result"
    }
   ],
   "source": [
    "p_value_array_priv_40_k_100_n_40000 = np.load('/mnt/nas/users/mjm/LDPUts/simul/power/p_value_array_priv_40_k_100_n_40000.npy')\n",
    "(p_value_array_priv_40_k_100_n_40000<0.05).mean(axis = 0)"
   ]
  },
  {
   "cell_type": "code",
   "execution_count": 13,
   "id": "gorgeous-ridge",
   "metadata": {},
   "outputs": [
    {
     "data": {
      "text/plain": [
       "array([0.98333333, 0.98666667, 1.        , 1.        , 1.        ,\n",
       "       1.        , 1.        ])"
      ]
     },
     "execution_count": 13,
     "metadata": {},
     "output_type": "execute_result"
    }
   ],
   "source": [
    "p_value_array_priv_40_k_100_n_30000 = np.load('/mnt/nas/users/mjm/LDPUts/simul/power/p_value_array_priv_40_k_100_n_30000.npy')\n",
    "(p_value_array_priv_40_k_100_n_30000<0.05).mean(axis = 0)"
   ]
  },
  {
   "cell_type": "code",
   "execution_count": 14,
   "id": "turned-serve",
   "metadata": {},
   "outputs": [
    {
     "data": {
      "text/plain": [
       "array([0.91, 0.87, 1.  , 1.  , 1.  , 1.  , 1.  ])"
      ]
     },
     "execution_count": 14,
     "metadata": {},
     "output_type": "execute_result"
    }
   ],
   "source": [
    "p_value_array_priv_40_k_100_n_20000 = np.load('/mnt/nas/users/mjm/LDPUts/simul/power/p_value_array_priv_40_k_100_n_20000.npy')\n",
    "(p_value_array_priv_40_k_100_n_20000<0.05).mean(axis = 0)"
   ]
  },
  {
   "cell_type": "code",
   "execution_count": 15,
   "id": "forbidden-jonathan",
   "metadata": {},
   "outputs": [
    {
     "data": {
      "text/plain": [
       "array([0.49666667, 0.48666667, 1.        , 1.        , 0.96666667,\n",
       "       0.96666667, 1.        ])"
      ]
     },
     "execution_count": 15,
     "metadata": {},
     "output_type": "execute_result"
    }
   ],
   "source": [
    "p_value_array_priv_40_k_100_n_10000 = np.load('/mnt/nas/users/mjm/LDPUts/simul/power/p_value_array_priv_40_k_100_n_10000.npy')\n",
    "(p_value_array_priv_40_k_100_n_10000<0.05).mean(axis = 0)"
   ]
  },
  {
   "cell_type": "markdown",
   "id": "continental-tooth",
   "metadata": {},
   "source": [
    "# alpha = 2"
   ]
  },
  {
   "cell_type": "code",
   "execution_count": 16,
   "id": "theoretical-catalog",
   "metadata": {},
   "outputs": [
    {
     "data": {
      "text/plain": [
       "array([0.58666667, 0.65      , 0.47666667, 0.49666667, 0.99      ,\n",
       "       0.98333333, 1.        ])"
      ]
     },
     "execution_count": 16,
     "metadata": {},
     "output_type": "execute_result"
    }
   ],
   "source": [
    "sample_size_vec = [10000, 20000, 30000, 40000, 50000]\n",
    "for sample_size in sample_size_vec:\n",
    "    filename = '/mnt/nas/users/mjm/LDPUts/simul/power/p_value_array_priv_20_k_100_n_' + sample_size + '.npy'\n",
    "p_value_array_priv_20_k_100_n_50000 = np.load('/mnt/nas/users/mjm/LDPUts/simul/power/p_value_array_priv_20_k_100_n_50000.npy')\n",
    "(p_value_array_priv_20_k_100_n_50000<0.05).mean(axis = 0)"
   ]
  },
  {
   "cell_type": "code",
   "execution_count": 17,
   "id": "altered-drilling",
   "metadata": {},
   "outputs": [
    {
     "data": {
      "text/plain": [
       "array([0.46      , 0.54333333, 0.33333333, 0.32666667, 0.91      ,\n",
       "       0.92      , 1.        ])"
      ]
     },
     "execution_count": 17,
     "metadata": {},
     "output_type": "execute_result"
    }
   ],
   "source": [
    "p_value_array_priv_20_k_100_n_40000 = np.load('/mnt/nas/users/mjm/LDPUts/simul/power/p_value_array_priv_20_k_100_n_40000.npy')\n",
    "(p_value_array_priv_20_k_100_n_40000<0.05).mean(axis = 0)"
   ]
  },
  {
   "cell_type": "code",
   "execution_count": 19,
   "id": "documented-travel",
   "metadata": {},
   "outputs": [
    {
     "data": {
      "text/plain": [
       "array([0.32666667, 0.34      , 0.22333333, 0.22      , 0.76      ,\n",
       "       0.75666667, 1.        ])"
      ]
     },
     "execution_count": 19,
     "metadata": {},
     "output_type": "execute_result"
    }
   ],
   "source": [
    "p_value_array_priv_20_k_100_n_30000 = np.load('/mnt/nas/users/mjm/LDPUts/simul/power/p_value_array_priv_20_k_100_n_30000.npy')\n",
    "(p_value_array_priv_20_k_100_n_30000<0.05).mean(axis = 0)"
   ]
  },
  {
   "cell_type": "code",
   "execution_count": 20,
   "id": "dutch-player",
   "metadata": {},
   "outputs": [
    {
     "data": {
      "text/plain": [
       "array([0.21      , 0.22666667, 0.13333333, 0.11666667, 0.54333333,\n",
       "       0.54666667, 1.        ])"
      ]
     },
     "execution_count": 20,
     "metadata": {},
     "output_type": "execute_result"
    }
   ],
   "source": [
    "p_value_array_priv_20_k_100_n_20000 = np.load('/mnt/nas/users/mjm/LDPUts/simul/power/p_value_array_priv_20_k_100_n_20000.npy')\n",
    "(p_value_array_priv_20_k_100_n_20000<0.05).mean(axis = 0)"
   ]
  },
  {
   "cell_type": "code",
   "execution_count": 21,
   "id": "discrete-cloud",
   "metadata": {},
   "outputs": [
    {
     "data": {
      "text/plain": [
       "array([0.14333333, 0.11333333, 0.11333333, 0.12666667, 0.21      ,\n",
       "       0.21666667, 1.        ])"
      ]
     },
     "execution_count": 21,
     "metadata": {},
     "output_type": "execute_result"
    }
   ],
   "source": [
    "p_value_array_priv_20_k_100_n_10000 = np.load('/mnt/nas/users/mjm/LDPUts/simul/power/p_value_array_priv_20_k_100_n_10000.npy')\n",
    "(p_value_array_priv_20_k_100_n_10000<0.05).mean(axis = 0)"
   ]
  },
  {
   "cell_type": "code",
   "execution_count": 31,
   "id": "twenty-bradley",
   "metadata": {},
   "outputs": [
    {
     "data": {
      "text/html": [
       "<div>\n",
       "<style scoped>\n",
       "    .dataframe tbody tr th:only-of-type {\n",
       "        vertical-align: middle;\n",
       "    }\n",
       "\n",
       "    .dataframe tbody tr th {\n",
       "        vertical-align: top;\n",
       "    }\n",
       "\n",
       "    .dataframe thead th {\n",
       "        text-align: right;\n",
       "    }\n",
       "</style>\n",
       "<table border=\"1\" class=\"dataframe\">\n",
       "  <thead>\n",
       "    <tr style=\"text-align: right;\">\n",
       "      <th></th>\n",
       "      <th>10000</th>\n",
       "      <th>20000</th>\n",
       "      <th>30000</th>\n",
       "      <th>40000</th>\n",
       "      <th>50000</th>\n",
       "    </tr>\n",
       "  </thead>\n",
       "  <tbody>\n",
       "    <tr>\n",
       "      <th>0</th>\n",
       "      <td>0.143333</td>\n",
       "      <td>0.210000</td>\n",
       "      <td>0.326667</td>\n",
       "      <td>0.460000</td>\n",
       "      <td>0.586667</td>\n",
       "    </tr>\n",
       "    <tr>\n",
       "      <th>1</th>\n",
       "      <td>0.113333</td>\n",
       "      <td>0.226667</td>\n",
       "      <td>0.340000</td>\n",
       "      <td>0.543333</td>\n",
       "      <td>0.650000</td>\n",
       "    </tr>\n",
       "    <tr>\n",
       "      <th>2</th>\n",
       "      <td>0.113333</td>\n",
       "      <td>0.133333</td>\n",
       "      <td>0.223333</td>\n",
       "      <td>0.333333</td>\n",
       "      <td>0.476667</td>\n",
       "    </tr>\n",
       "    <tr>\n",
       "      <th>3</th>\n",
       "      <td>0.126667</td>\n",
       "      <td>0.116667</td>\n",
       "      <td>0.220000</td>\n",
       "      <td>0.326667</td>\n",
       "      <td>0.496667</td>\n",
       "    </tr>\n",
       "    <tr>\n",
       "      <th>4</th>\n",
       "      <td>0.210000</td>\n",
       "      <td>0.543333</td>\n",
       "      <td>0.760000</td>\n",
       "      <td>0.910000</td>\n",
       "      <td>0.990000</td>\n",
       "    </tr>\n",
       "    <tr>\n",
       "      <th>5</th>\n",
       "      <td>0.216667</td>\n",
       "      <td>0.546667</td>\n",
       "      <td>0.756667</td>\n",
       "      <td>0.920000</td>\n",
       "      <td>0.983333</td>\n",
       "    </tr>\n",
       "    <tr>\n",
       "      <th>6</th>\n",
       "      <td>1.000000</td>\n",
       "      <td>1.000000</td>\n",
       "      <td>1.000000</td>\n",
       "      <td>1.000000</td>\n",
       "      <td>1.000000</td>\n",
       "    </tr>\n",
       "  </tbody>\n",
       "</table>\n",
       "</div>"
      ],
      "text/plain": [
       "      10000     20000     30000     40000     50000\n",
       "0  0.143333  0.210000  0.326667  0.460000  0.586667\n",
       "1  0.113333  0.226667  0.340000  0.543333  0.650000\n",
       "2  0.113333  0.133333  0.223333  0.333333  0.476667\n",
       "3  0.126667  0.116667  0.220000  0.326667  0.496667\n",
       "4  0.210000  0.543333  0.760000  0.910000  0.990000\n",
       "5  0.216667  0.546667  0.756667  0.920000  0.983333\n",
       "6  1.000000  1.000000  1.000000  1.000000  1.000000"
      ]
     },
     "execution_count": 31,
     "metadata": {},
     "output_type": "execute_result"
    }
   ],
   "source": [
    "\n",
    "\n",
    "\n",
    "d_priv_20_k_100 = {\n",
    "    \"10000\" : (p_value_array_priv_20_k_100_n_10000<0.05).mean(axis = 0),\n",
    "    \"20000\" : (p_value_array_priv_20_k_100_n_20000<0.05).mean(axis = 0),\n",
    "    \"30000\" : (p_value_array_priv_20_k_100_n_30000<0.05).mean(axis = 0),\n",
    "    \"40000\" : (p_value_array_priv_20_k_100_n_40000<0.05).mean(axis = 0),\n",
    "    \"50000\" : (p_value_array_priv_20_k_100_n_50000<0.05).mean(axis = 0)\n",
    "}\n",
    "pd.DataFrame(data = d_priv_20_k_100)"
   ]
  },
  {
   "cell_type": "code",
   "execution_count": 32,
   "id": "adjusted-drive",
   "metadata": {},
   "outputs": [
    {
     "ename": "TypeError",
     "evalue": "_vhstack_dispatcher() takes 1 positional argument but 2 were given",
     "output_type": "error",
     "traceback": [
      "\u001b[0;31m---------------------------------------------------------------------------\u001b[0m",
      "\u001b[0;31mTypeError\u001b[0m                                 Traceback (most recent call last)",
      "\u001b[0;32m<ipython-input-32-1c01896657ea>\u001b[0m in \u001b[0;36m<module>\u001b[0;34m\u001b[0m\n\u001b[0;32m----> 1\u001b[0;31m np.vstack((p_value_array_priv_20_k_100_n_10000<0.05).mean(axis = 0), \n\u001b[0m\u001b[1;32m      2\u001b[0m          \u001b[0;34m(\u001b[0m\u001b[0mp_value_array_priv_20_k_100_n_20000\u001b[0m\u001b[0;34m<\u001b[0m\u001b[0;36m0.05\u001b[0m\u001b[0;34m)\u001b[0m\u001b[0;34m.\u001b[0m\u001b[0mmean\u001b[0m\u001b[0;34m(\u001b[0m\u001b[0maxis\u001b[0m \u001b[0;34m=\u001b[0m \u001b[0;36m0\u001b[0m\u001b[0;34m)\u001b[0m\u001b[0;34m\u001b[0m\u001b[0;34m\u001b[0m\u001b[0m\n\u001b[1;32m      3\u001b[0m          )\n",
      "\u001b[0;32m<__array_function__ internals>\u001b[0m in \u001b[0;36mvstack\u001b[0;34m(*args, **kwargs)\u001b[0m\n",
      "\u001b[0;31mTypeError\u001b[0m: _vhstack_dispatcher() takes 1 positional argument but 2 were given"
     ]
    }
   ],
   "source": [
    "np.vstack((p_value_array_priv_20_k_100_n_10000<0.05).mean(axis = 0), \n",
    "         (p_value_array_priv_20_k_100_n_20000<0.05).mean(axis = 0)\n",
    "         )"
   ]
  },
  {
   "cell_type": "code",
   "execution_count": 26,
   "id": "external-excuse",
   "metadata": {},
   "outputs": [
    {
     "data": {
      "text/html": [
       "<div>\n",
       "<style scoped>\n",
       "    .dataframe tbody tr th:only-of-type {\n",
       "        vertical-align: middle;\n",
       "    }\n",
       "\n",
       "    .dataframe tbody tr th {\n",
       "        vertical-align: top;\n",
       "    }\n",
       "\n",
       "    .dataframe thead th {\n",
       "        text-align: right;\n",
       "    }\n",
       "</style>\n",
       "<table border=\"1\" class=\"dataframe\">\n",
       "  <thead>\n",
       "    <tr style=\"text-align: right;\">\n",
       "      <th></th>\n",
       "      <th>10000</th>\n",
       "      <th>20000</th>\n",
       "    </tr>\n",
       "  </thead>\n",
       "  <tbody>\n",
       "    <tr>\n",
       "      <th>0</th>\n",
       "      <td>0.143333</td>\n",
       "      <td>0.210000</td>\n",
       "    </tr>\n",
       "    <tr>\n",
       "      <th>1</th>\n",
       "      <td>0.113333</td>\n",
       "      <td>0.226667</td>\n",
       "    </tr>\n",
       "    <tr>\n",
       "      <th>2</th>\n",
       "      <td>0.113333</td>\n",
       "      <td>0.133333</td>\n",
       "    </tr>\n",
       "    <tr>\n",
       "      <th>3</th>\n",
       "      <td>0.126667</td>\n",
       "      <td>0.116667</td>\n",
       "    </tr>\n",
       "    <tr>\n",
       "      <th>4</th>\n",
       "      <td>0.210000</td>\n",
       "      <td>0.543333</td>\n",
       "    </tr>\n",
       "    <tr>\n",
       "      <th>5</th>\n",
       "      <td>0.216667</td>\n",
       "      <td>0.546667</td>\n",
       "    </tr>\n",
       "    <tr>\n",
       "      <th>6</th>\n",
       "      <td>1.000000</td>\n",
       "      <td>1.000000</td>\n",
       "    </tr>\n",
       "  </tbody>\n",
       "</table>\n",
       "</div>"
      ],
      "text/plain": [
       "      10000     20000\n",
       "0  0.143333  0.210000\n",
       "1  0.113333  0.226667\n",
       "2  0.113333  0.133333\n",
       "3  0.126667  0.116667\n",
       "4  0.210000  0.543333\n",
       "5  0.216667  0.546667\n",
       "6  1.000000  1.000000"
      ]
     },
     "execution_count": 26,
     "metadata": {},
     "output_type": "execute_result"
    }
   ],
   "source": []
  },
  {
   "cell_type": "code",
   "execution_count": null,
   "id": "bibliographic-contract",
   "metadata": {},
   "outputs": [],
   "source": []
  }
 ],
 "metadata": {
  "kernelspec": {
   "display_name": "Python 3 (ipykernel)",
   "language": "python",
   "name": "python3"
  },
  "language_info": {
   "codemirror_mode": {
    "name": "ipython",
    "version": 3
   },
   "file_extension": ".py",
   "mimetype": "text/x-python",
   "name": "python",
   "nbconvert_exporter": "python",
   "pygments_lexer": "ipython3",
   "version": "3.8.16"
  }
 },
 "nbformat": 4,
 "nbformat_minor": 5
}
